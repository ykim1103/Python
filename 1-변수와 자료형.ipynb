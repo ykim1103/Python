{
 "cells": [
  {
   "cell_type": "markdown",
   "metadata": {},
   "source": [
    "## 1. 변수( Variable)\n",
    "   * 임시 기억공간(데이터을 저장하는 공간) \n",
    "   * 별도의 절차없이(선언없이) 사용가능\n",
    "   * DataType을 가리지 않는다.\n",
    "   * 값을 수정할 수 없다."
   ]
  },
  {
   "cell_type": "code",
   "execution_count": 1,
   "metadata": {},
   "outputs": [
    {
     "data": {
      "text/plain": [
       "'python'"
      ]
     },
     "execution_count": 1,
     "metadata": {},
     "output_type": "execute_result"
    }
   ],
   "source": [
    "a = 10\n",
    "a\n",
    "b = 30.66 \n",
    "b\n",
    "c=\"python\"\n",
    "c"
   ]
  },
  {
   "cell_type": "code",
   "execution_count": 2,
   "metadata": {},
   "outputs": [
    {
     "name": "stdout",
     "output_type": "stream",
     "text": [
      "10\n",
      "<class 'int'>\n",
      "3.12\n",
      "<class 'float'>\n",
      "python\n",
      "<class 'str'>\n"
     ]
    }
   ],
   "source": [
    "#파이썬은 type을 가리지 않는다.\n",
    "a = 10\n",
    "print(a)\n",
    "print(type(a))\n",
    "\n",
    "a= 3.12\n",
    "print(a)\n",
    "print(type(a))\n",
    "\n",
    "a=\"python\"\n",
    "print(a)\n",
    "print(type(a))"
   ]
  },
  {
   "cell_type": "code",
   "execution_count": 3,
   "metadata": {},
   "outputs": [
    {
     "name": "stdout",
     "output_type": "stream",
     "text": [
      "10\n",
      "140732160647856\n",
      "11\n",
      "140732160647888\n",
      "10\n",
      "140732160647856\n"
     ]
    }
   ],
   "source": [
    "#값을 수정할 수 없다.\n",
    "a = 10\n",
    "print(a)\n",
    "print(id(a))    #id는 주소값을 보여준다.\n",
    "a = 11\n",
    "print(a)\n",
    "print(id(a))\n",
    "\n",
    "a= 10\n",
    "print(a)\n",
    "print(id(a))\n",
    "#위에 코드를 봤을 때는 수정이 가능한 것처럼 보이지만 수정이 불가능하다.\n",
    "#why? a = 10 은 a가 10을 저장한 것이 아니라  사실은 10이 들어있는 주소값을 저장한 것이다. 하지만 코딩은 a가 10을 저장한 것처럼 보이는 것 뿐\n",
    "#  a =10 , a =11 a가 수정된 것이 아니라 새로운 값이 하나 더 추가 한 것이고 그 위치를 새로 받은 것 뿐이다.\n",
    "# 즉, 수정이 아니라 새로 추가되는 것이다. \n",
    "#  a =10 이 a=11이 되었기 때문에 10은 쓰지 못하고 필요가 없어진다. 이럴 경우  10은  garbage 라 한다.\n",
    "# 10을 다시 쓰고 싶으면 다시 선언하면 된다. "
   ]
  },
  {
   "cell_type": "markdown",
   "metadata": {},
   "source": [
    "## 자료형(Data Type)\n",
    "     * 종류\n",
    "        - 기본자료형 \n",
    "            + number 형:int(정수형),float(실수형)\n",
    "            + 문자형:str\n",
    "            + 논리형:bool (true or false)\n",
    "            + 그 외: complex(복소수),function\n",
    "            + 단일데이터를 저장할 때 사용\n",
    "        \n",
    "        - 집합자료형(iter)\n",
    "            + list\n",
    "            + tuple\n",
    "            + dict\n",
    "            + set"
   ]
  },
  {
   "cell_type": "code",
   "execution_count": 15,
   "metadata": {},
   "outputs": [
    {
     "name": "stdout",
     "output_type": "stream",
     "text": [
      "ㅋㅋ\n",
      "문자열\n",
      "<class 'str'>\n",
      "안녕하세요\n",
      "a10\n",
      "----------------------------------------------\n",
      "abcdefghijklmnop\n",
      " abcdefg\n",
      "hijklmnop\n",
      "------------------------------------------------\n",
      "안녕하세요.\n",
      "반갑습니다\n",
      "안녕하세요.\t반갑습니다\n",
      "안녕하세요.\t\t반갑습니다\n",
      "\\t는 탭키의 기능입니다\n",
      "\"\\n은 엔터키 기능입니다\"\n",
      "\"\\n은 엔터키 기능입니다.\"\n"
     ]
    }
   ],
   "source": [
    "# 문자열\n",
    "a='ㅋㅋ'\n",
    "print(a)\n",
    "a=\"문자열\"\n",
    "print(a)\n",
    "a=\"100\"    #100은 숫자이지만 \"\" 로 묶여있기 때문에 문자이다.\n",
    "print(type(a))\n",
    "\n",
    "a=\"안녕\"+\"하세요\"\n",
    "print(a)\n",
    "\n",
    "a= \"a\"+ str(10)    #str(10):  숫자인 10을 문자열로 바꾸기 위해 str()을 사용.\n",
    "print(a)\n",
    "\n",
    "print(\"----------------------------------------------\")\n",
    "\n",
    "\n",
    "a=\"abcdefg\"\n",
    "a=a+\"hijklmnop\"\n",
    "print(a)\n",
    "\n",
    "b=\"\"\" abcdefg\n",
    "hijklmnop\"\"\"     #\"\"\"  \"\"\"  를 사용하면 긴 문장을 여러줄로 작성할 수 있다. \n",
    "print(b)\n",
    "\n",
    "print(\"------------------------------------------------\")\n",
    "\n",
    "\n",
    "#특수문자(제어문자) :\\문자\n",
    "#이스케이프 문자 : \\\n",
    "c=\"안녕하세요.\\n반갑습니다\"   #\\n 은 줄바꿈, 즉 엔터키의 기능을 한다.\n",
    "print(c)\n",
    "b=\"안녕하세요.\\t반갑습니다\"   #\\t 은 간격, 즉 tab 키의 기능을 한다.   \n",
    "print(b) \n",
    "b=\"안녕하세요.\\t\\t반갑습니다\"  #\\t, \\n 은 더 쓸수록 그만큼 간격이 벌어지고 줄 수가 늘어난다.\n",
    "print(b)\n",
    "\n",
    "# \\t를 기능을 사용하지 않고 진짜 출력하고 싶을 때 \\기능을 탈출시켜야한다. 그냥 앞에 \\를 한 번 더 써주면 된다.\n",
    "c=\"\\\\t는 탭키의 기능입니다\"\n",
    "print(c)\n",
    "\n",
    "f='\"\\\\n은 엔터키 기능입니다\"'\n",
    "print(f)\n",
    "g=\"\\\"\\\\n은 엔터키 기능입니다.\\\"\" #f와 g 는 같은 결과가 나온다. \n",
    "print(g)"
   ]
  },
  {
   "cell_type": "code",
   "execution_count": 25,
   "metadata": {},
   "outputs": [
    {
     "name": "stdout",
     "output_type": "stream",
     "text": [
      "o\n",
      "n\n",
      "t o d\n",
      "tod\n",
      "------------------------------------------\n",
      "Life\n",
      "too\n",
      "Life\n",
      "is too short, You need python\n",
      "ho\n"
     ]
    }
   ],
   "source": [
    "#indexing : 내가 원하는 문자의 위치를 파악. 인덱스는 각각 한 개씩 접근한다.\n",
    "a=\"Life is too short, You need python\"\n",
    "print(a[10])\n",
    "print(a[-1])    # -가 붙으면 뒤에서 부터 시작. -1은 뒤에서 첫번째, -2는 뒤에서 두번째\n",
    "print(a[8],a[9],a[-8])\n",
    "print(a[8]+a[9]+a[-8])\n",
    "\n",
    "print(\"------------------------------------------\")\n",
    "\n",
    "#slicing : 인덱스를 확장한 방식. 범위를 줘서 한꺼번에 접근\n",
    "print(a[0:4])        # 0:4 는 0부터 3까지를 가져온다. 4는 포함하지 않는다.\n",
    "print(a[8:11])       # 8부터 10까지 가져온다. \n",
    "print(a[:4])         # 시작위치가 없으면 첫번째부터 시작하겠다는 뜻이다. \n",
    "print(a[5:])         # 마지막위치가 없으면 끝까지 하겠다는 것이다.\n",
    "\n",
    "print(a[-3:-1])      # 뒤에서 3번째부터 뒤에서 2번째까지, 뒤에서 첫번째값은 가져오지 않는다. "
   ]
  },
  {
   "cell_type": "code",
   "execution_count": 26,
   "metadata": {},
   "outputs": [
    {
     "ename": "TypeError",
     "evalue": "'str' object does not support item assignment",
     "output_type": "error",
     "traceback": [
      "\u001b[1;31m---------------------------------------------------------------------------\u001b[0m",
      "\u001b[1;31mTypeError\u001b[0m                                 Traceback (most recent call last)",
      "\u001b[1;32m<ipython-input-26-7f5f4c9354e4>\u001b[0m in \u001b[0;36m<module>\u001b[1;34m\u001b[0m\n\u001b[0;32m      1\u001b[0m \u001b[1;31m# 수정불가\u001b[0m\u001b[1;33m\u001b[0m\u001b[1;33m\u001b[0m\u001b[1;33m\u001b[0m\u001b[0m\n\u001b[0;32m      2\u001b[0m \u001b[0mstr1\u001b[0m\u001b[1;33m=\u001b[0m\u001b[1;34m\"pithon\"\u001b[0m\u001b[1;33m\u001b[0m\u001b[1;33m\u001b[0m\u001b[0m\n\u001b[1;32m----> 3\u001b[1;33m \u001b[0mstr1\u001b[0m\u001b[1;33m[\u001b[0m\u001b[1;36m1\u001b[0m\u001b[1;33m]\u001b[0m\u001b[1;33m=\u001b[0m\u001b[1;34m'y'\u001b[0m\u001b[1;33m\u001b[0m\u001b[1;33m\u001b[0m\u001b[0m\n\u001b[0m\u001b[0;32m      4\u001b[0m \u001b[1;31m# str1=\"python\"    # 수정이 아니다.\u001b[0m\u001b[1;33m\u001b[0m\u001b[1;33m\u001b[0m\u001b[1;33m\u001b[0m\u001b[0m\n",
      "\u001b[1;31mTypeError\u001b[0m: 'str' object does not support item assignment"
     ]
    }
   ],
   "source": [
    "# 수정불가\n",
    "str1=\"pithon\"\n",
    "str1[1]='y'    #수정이 불가. 이렇게 하면 오류가 난다.\n",
    "# str1=\"python\"    # 다시 선언하는 것은 수정이 아니다."
   ]
  },
  {
   "cell_type": "code",
   "execution_count": 36,
   "metadata": {},
   "outputs": [
    {
     "name": "stdout",
     "output_type": "stream",
     "text": [
      "34\n",
      "5\n",
      "6\n",
      "8 -1\n",
      "8\n"
     ]
    },
    {
     "ename": "ValueError",
     "evalue": "substring not found",
     "output_type": "error",
     "traceback": [
      "\u001b[1;31m---------------------------------------------------------------------------\u001b[0m",
      "\u001b[1;31mValueError\u001b[0m                                Traceback (most recent call last)",
      "\u001b[1;32m<ipython-input-36-10a04a8208be>\u001b[0m in \u001b[0;36m<module>\u001b[1;34m\u001b[0m\n\u001b[0;32m      6\u001b[0m \u001b[0mprint\u001b[0m\u001b[1;33m(\u001b[0m\u001b[0ma\u001b[0m\u001b[1;33m.\u001b[0m\u001b[0mfind\u001b[0m\u001b[1;33m(\u001b[0m\u001b[1;34m'too'\u001b[0m\u001b[1;33m)\u001b[0m\u001b[1;33m,\u001b[0m\u001b[0ma\u001b[0m\u001b[1;33m.\u001b[0m\u001b[0mfind\u001b[0m\u001b[1;33m(\u001b[0m\u001b[1;34m\"java\"\u001b[0m\u001b[1;33m)\u001b[0m\u001b[1;33m)\u001b[0m   \u001b[1;31m# find() : 찾고자하는 문자나 문자열이 어디있는지 알려주는 함수, 못 찾으면 -1로 출력한다.\u001b[0m\u001b[1;33m\u001b[0m\u001b[1;33m\u001b[0m\u001b[0m\n\u001b[0;32m      7\u001b[0m \u001b[0mprint\u001b[0m\u001b[1;33m(\u001b[0m\u001b[0ma\u001b[0m\u001b[1;33m.\u001b[0m\u001b[0mindex\u001b[0m\u001b[1;33m(\u001b[0m\u001b[1;34m'too'\u001b[0m\u001b[1;33m)\u001b[0m\u001b[1;33m)\u001b[0m                 \u001b[1;31m# index() :  찾고자하는 문자가 없으면 에러가 난다.\u001b[0m\u001b[1;33m\u001b[0m\u001b[1;33m\u001b[0m\u001b[0m\n\u001b[1;32m----> 8\u001b[1;33m \u001b[0mprint\u001b[0m\u001b[1;33m(\u001b[0m\u001b[0ma\u001b[0m\u001b[1;33m.\u001b[0m\u001b[0mindex\u001b[0m\u001b[1;33m(\u001b[0m\u001b[1;34m'java'\u001b[0m\u001b[1;33m)\u001b[0m\u001b[1;33m)\u001b[0m\u001b[1;33m\u001b[0m\u001b[1;33m\u001b[0m\u001b[0m\n\u001b[0m",
      "\u001b[1;31mValueError\u001b[0m: substring not found"
     ]
    }
   ],
   "source": [
    "#len().count(),find(),index(),join(),split(),..........\n",
    "a=\"Life is too short, You need python\"\n",
    "print(len(a))          # len(): 문자열의 전체 길이를 알려주는 함수\n",
    "print(a.count('o'))    # count() : 문자열에 특정 문자가 몇개 있는지 알려주는 함수\n",
    "print(a.count(' '))\n",
    "print(a.find('too'),a.find(\"java\"))   # find() : 찾고자하는 문자나 문자열이 어디있는지 알려주는 함수, 못 찾으면 -1로 출력한다.\n",
    "print(a.index('too'))                 # index() :  찾고자하는 문자가 없으면 에러가 난다.     #교재 68쪽에 설명. \n",
    "print(a.index('java'))"
   ]
  },
  {
   "cell_type": "code",
   "execution_count": 53,
   "metadata": {},
   "outputs": [
    {
     "name": "stdout",
     "output_type": "stream",
     "text": [
      "a,b,c,d,e,f,g\n",
      "['홍길동', '임꺽정', '신돌석', '유비', '관우', '장비']\n",
      "----------------------------------------------------------------\n",
      "Hello! Python \n",
      "Python is fantasy\n",
      "123456789\n",
      "1이3사5육칠팔구\n",
      "일이삼사오육칠팔구\n"
     ]
    }
   ],
   "source": [
    "str1=\"abcdefg\"\n",
    "str2= ','.join(str1)        # join():문자열 사이에 삽입하기.   a.join(b) = b라는 것에 a 를 삽입.\n",
    "print(str2) \n",
    "\n",
    "str2.split(',')             #split() : ()안에 있는 것을 기준으로 문자열을 잘라내는 것.\n",
    "\n",
    "str3=\"홍길동 임꺽정 신돌석 유비 관우 장비\"\n",
    "print(str3.split( ))\n",
    "\n",
    "\n",
    "print(\"----------------------------------------------------------------\")\n",
    "\n",
    "a=\" hello \"\n",
    "a.lstrip()              #strip(): 양쪽공백제거,  lstrip():왼쪽 공백제거     rstrip(): 오른쪽 공백제거\n",
    "b=\"?!python\"\n",
    "b.lstrip(\"?!\")          #strip은 ()안에 지정해준 것을 제거 해준다. ()이 비어있으면 공백제거를 한다.\n",
    "\n",
    "#바꿔주는 함수    : replace(), {maketrans(),translate()}  maketrans와 translate는 같이 써야한다.\n",
    "str1=\"Hello! World \\nWorld is fantasy\"\n",
    "str2=str1.replace(\"World\",\"Python\")\n",
    "print(str2)\n",
    "\n",
    "\n",
    "str3=\"일이삼사오육칠팔구\"\n",
    "print(str3.translate(str3.maketrans(\"일이삼사오육칠팔구\",\"123456789\")))\n",
    "print(str3.translate(str3.maketrans(\"일삼오\",\"135\")))    #replace 는 이렇게 할 수 없다. \n",
    "print(str3.replace(\"일삼오\",\"135\"))                      #오류는 나지 않지만 아무런 변화가 없다."
   ]
  },
  {
   "cell_type": "markdown",
   "metadata": {},
   "source": [
    "### 문자열포매팅"
   ]
  },
  {
   "cell_type": "code",
   "execution_count": 54,
   "metadata": {},
   "outputs": [
    {
     "name": "stdout",
     "output_type": "stream",
     "text": [
      "덧셈결과: 3 + 4 = 7\n"
     ]
    }
   ],
   "source": [
    "#포매팅 : format(),%\n",
    "# \"덧셈결과: 3+4=7\"\n",
    "\n",
    "num1,num2=3,4\n",
    "print(\"덧셈결과: {} + {} = {}\". format(num1,num2,num1+num2))    # {}로 바뀔 수 있는 것들을 자리만 잡아둔다. \n",
    "                                                                #.format()에서 ()안은 중괄호에 들어갈 것을 순서대로 적어주면 된다.\n",
    "\n",
    "print(\"덧셈결과: {1} + {1} = {1}\". format(num1,num2,num1+num2)) #{1}은 format()안에 있는 수 중 1번째 방에 있는 숫자를 뜻한다.\n",
    "\n",
    "\n",
    "print(\"덧셈결과: %d + %d = %d\")    \n",
    "\n",
    "#format은 {}를 이용해서 자리를 잡아준다.  {}에는 문자도 가능  \n",
    "#%는  %d를 이용해서 자리를 잡아준다.     %d는 숫자만 가능    -> 포맷코드는 교재 59쪽 "
   ]
  },
  {
   "cell_type": "markdown",
   "metadata": {},
   "source": [
    "#### tip! 주피터테마변경하기\n",
    "   * pip install jupyterthemes     cmd 창에서 입력해서 이렇게 설치\n",
    "   https://github.com/dunovank/jupyter-themes  참고\n",
    "   "
   ]
  },
  {
   "cell_type": "markdown",
   "metadata": {},
   "source": [
    "## 집합자료형 list\n",
    "   * 임의의 객체를 순차적으로 저장하는 집합적 자료형\n",
    "   * 각 값에 대해서 인덱스가 부여됨\n",
    "   * 수정이 가능하다\n",
    "   * []를 사용.\n",
    "   "
   ]
  },
  {
   "cell_type": "code",
   "execution_count": 59,
   "metadata": {},
   "outputs": [
    {
     "name": "stdout",
     "output_type": "stream",
     "text": [
      "<class 'list'>\n",
      "7\n",
      "[10, 30, 3.14, True, '홍길동']\n",
      "[10, 30, 'python', True, '홍길동']\n"
     ]
    }
   ],
   "source": [
    "odd =[1,3,5,7,9]\n",
    "print(type(odd))\n",
    "print(odd[3])\n",
    "\n",
    "\n",
    "list1=[10,30,3.14,True,'홍길동']     #타입이 다른 데이터를 한꺼번에 보관할 수 있다. \n",
    "print(list1)\n",
    "\n",
    "list1[2]=\"python\"         #수정가능\n",
    "print(list1)"
   ]
  },
  {
   "cell_type": "code",
   "execution_count": 64,
   "metadata": {},
   "outputs": [
    {
     "name": "stdout",
     "output_type": "stream",
     "text": [
      "[10, 30, 3.14, True, '홍길동']\n",
      "10 30\n",
      "['a', 'b', 'c']\n",
      "b\n",
      "[10, 20, 30]\n",
      "20\n",
      "['b', 'c']\n"
     ]
    }
   ],
   "source": [
    "#  indexing \n",
    "list1=[10,30,3.14,True,'홍길동']\n",
    "print(list1)\n",
    "print(list1[0],list1[1])     # 인덱스를 이용해서 데이터 꺼내오기!\n",
    "\n",
    "list2= [10,20,30,['a','b','c']]  #리스트 안에 리스트도 저장 가능\n",
    "print(list2[3])                  #['a', 'b','c'] 전체가 3번째 방에 있는 것이다.\n",
    "print(list2[3][1])               # 리스트 안에 있는 리스트를 쪼개는 것.  list2의 3번째 방에 있는 것 중 첫번째 방에 있는 것.\n",
    "\n",
    "\n",
    "#slicing\n",
    "print(list2[0:3])\n",
    "print(list2[0:3][1])\n",
    "\n",
    "print(list2[3][1:])             #list2 안에 있는 'b'와 'c' 뽑아오기"
   ]
  },
  {
   "cell_type": "code",
   "execution_count": 71,
   "metadata": {},
   "outputs": [
    {
     "name": "stdout",
     "output_type": "stream",
     "text": [
      "[1, 2, 3, 4, 5, 6, 7, 'ㅋㅋㅋ']\n",
      "[1, 2, 3, 1, 2, 3, 1, 2, 3]\n",
      "---------------------------------------------\n",
      "[10, 2, 3, 4, 5]\n",
      "[10, 2, 3, 4, 5]\n",
      "[10, 2, 3, 4, 5]\n",
      "[100, 2, 3, 4, 5]\n"
     ]
    }
   ],
   "source": [
    "# 리스트연산\n",
    "#덧셈\n",
    "a=[1,2,3]\n",
    "b=[4,5,6,7,'ㅋㅋㅋ']\n",
    "print(a+b)     #진짜 더하기가 아니라 연결을 하는 것(자료형이 달라도 상관없다.)\n",
    "#곱셈\n",
    "print(a*3)     \n",
    "#print(a*b)는 오류가 났다. \n",
    "\n",
    "print(\"---------------------------------------------\")\n",
    "#리스트 복사\n",
    "# 얊은 복사    # 주소값 위치를 할당한 것\n",
    "a =[1,2,3,4,5]\n",
    "b = a\n",
    "b[0]=10\n",
    "print(a)      #b에서 0번째를 10으로 바꿨지만  a 도 바뀜\n",
    "\n",
    "#깊은 복사\n",
    "c= a[:]       #시작과 끝이 없다. 그 말은 전체선택을 한다.    깊은복사는 주소값이 아니라 실제 데이터 값 복사\n",
    "c[0]=100\n",
    "print(a)\n",
    "print(b)\n",
    "print(c)\n",
    "\n",
    "\n",
    "\n"
   ]
  },
  {
   "cell_type": "code",
   "execution_count": 96,
   "metadata": {},
   "outputs": [
    {
     "name": "stdout",
     "output_type": "stream",
     "text": [
      "[11, 12, 13, 14, 15, 16, 17, 18, 19, 20]\n",
      "[0, 2, 4, 6, 8, 10]\n",
      "------------------------------------------------\n",
      "[1, 2, 4, 5, 6, [30, 31, 32]]\n",
      "[1, 2, 3, 4, 5, 6, [30, 31, 32]]\n",
      "[1, 2, 3, 4, 5, 6, [30, 31, 32], 33, 34, 35, 36]\n",
      "[1, 2, 3, 4, 5, 6, [30, 31, 32], 33, 34, 35, 36, 37, 38, 37, 38]\n",
      "-------------------------------------------------------\n",
      "[1, 2, 3, 4]\n",
      "[4, 3, 2, 1]\n",
      "----------------------------------------------------------\n",
      "[1, 2, 1, 2, 3]\n",
      "[1, 2]\n",
      "3\n"
     ]
    }
   ],
   "source": [
    "#리스트 만들기\n",
    "a= [1,2,3,4]\n",
    "a=[] \n",
    "a=list()\n",
    "a=list(range(11,21))\n",
    "print(a)\n",
    "print(list(range(0,11,2)))      #0부터 10까지 2씩 뛰어서\n",
    "\n",
    "print(\"------------------------------------------------\")\n",
    "#리스트 추가, 삽입\n",
    "#insert(), append(), extend()\n",
    "a=[1,2,4,5]\n",
    "a.append(6)              # append() : 리스트 맨 뒤에 추가\n",
    "a.append([30,31,32])     #여러 개를 한거번에 추가 할려면 리스트 형태로 추가해야한다.\n",
    "print(a)\n",
    "\n",
    "a.insert(2,3)   # 리스트 2번째 방에 3을 추가     #insert(a,b) : a 번째 방에 b를 추가시키겠다.\n",
    "print(a)   \n",
    "\n",
    "\n",
    "a.extend([33,34,35,36])     # extend():append처럼 리스트 맨 뒤에 추가 \n",
    "                            # 여러개를 한꺼번에 추가할 때 리스트를 사용하는 것도 append 와 같다. 하지만 결과에 리스트 모양이 생기지 않는다.\n",
    "print(a)\n",
    "\n",
    "\n",
    "a = a +[37,38]          # extend 간단한 방법!\n",
    "a += [37,38]            # 간단한 방법(위에거와 동일),복합연산자를 이용\n",
    "print(a)\n",
    "\n",
    "\n",
    "print(\"-------------------------------------------------------\")\n",
    "#정렬기능\n",
    "a=[1,4,3,2]\n",
    "a.sort()      #sort()는 오름차순         #내림차순은 reverse()\n",
    "print(a)\n",
    "a.reverse()\n",
    "print(a)\n",
    "\n",
    "print(\"----------------------------------------------------------\")\n",
    "#리스트 삭제\n",
    "a=[1,2,3,1,2,3]\n",
    "a[1:3] = []    #1번째 방법. 아예 빈공간으로 만들기\n",
    "\n",
    "a=[1,2,3,1,2,3]\n",
    "a.remove(3)   #2번째 방법. ()안에 없애고 싶은 데이터값을 넣어주면 된다.  인덱스번호가 들어가는 것이 아님!!!!\n",
    "print(a)\n",
    "\n",
    "a=[1,2,3,1,2,3]\n",
    "del a[3]     #3번째 방법. 인덱스나 슬라이싱을 이용해서 제거\n",
    "\n",
    "\n",
    "\n",
    "#pop() : 삭제만 하는 것이 아니라 삭제한 데이터를 다시 꺼내오는 것\n",
    "a= [1,2,3]\n",
    "b= a.pop()\n",
    "print(a)      # 3이 가장 나중에 들어갔기 때문에 삭제가 제일 빨리 된다.\n",
    "print(b)      # 삭제된 3이라는 값을 다시 꺼내서 사용할 수 있다. \n",
    "\n"
   ]
  },
  {
   "cell_type": "code",
   "execution_count": 98,
   "metadata": {},
   "outputs": [
    {
     "name": "stdout",
     "output_type": "stream",
     "text": [
      "True\n",
      "False\n"
     ]
    }
   ],
   "source": [
    "# 검색기능\n",
    "a= [1,2,3,4,5,6]\n",
    "print(2 in a)\n",
    "print(100 in a)"
   ]
  },
  {
   "cell_type": "markdown",
   "metadata": {},
   "source": [
    "## 집합자료형 tuple\n",
    "    * list 와 거의 동일\n",
    "    * () 를 사용. \n",
    "    * 수정불가!"
   ]
  },
  {
   "cell_type": "code",
   "execution_count": 99,
   "metadata": {},
   "outputs": [
    {
     "ename": "TypeError",
     "evalue": "'tuple' object does not support item assignment",
     "output_type": "error",
     "traceback": [
      "\u001b[1;31m---------------------------------------------------------------------------\u001b[0m",
      "\u001b[1;31mTypeError\u001b[0m                                 Traceback (most recent call last)",
      "\u001b[1;32m<ipython-input-99-7281cb1a8aff>\u001b[0m in \u001b[0;36m<module>\u001b[1;34m\u001b[0m\n\u001b[0;32m      1\u001b[0m \u001b[0ma\u001b[0m\u001b[1;33m=\u001b[0m \u001b[1;33m(\u001b[0m\u001b[1;34m'a'\u001b[0m\u001b[1;33m,\u001b[0m\u001b[1;34m'b'\u001b[0m\u001b[1;33m,\u001b[0m\u001b[1;34m'c'\u001b[0m\u001b[1;33m,\u001b[0m\u001b[1;34m'd'\u001b[0m\u001b[1;33m,\u001b[0m\u001b[1;34m'e'\u001b[0m\u001b[1;33m)\u001b[0m\u001b[1;33m\u001b[0m\u001b[1;33m\u001b[0m\u001b[0m\n\u001b[1;32m----> 2\u001b[1;33m \u001b[0ma\u001b[0m\u001b[1;33m[\u001b[0m\u001b[1;36m0\u001b[0m\u001b[1;33m]\u001b[0m\u001b[1;33m=\u001b[0m\u001b[1;34m'A'\u001b[0m\u001b[1;33m\u001b[0m\u001b[1;33m\u001b[0m\u001b[0m\n\u001b[0m\u001b[0;32m      3\u001b[0m \u001b[0mprint\u001b[0m\u001b[1;33m(\u001b[0m\u001b[0ma\u001b[0m\u001b[1;33m)\u001b[0m\u001b[1;33m\u001b[0m\u001b[1;33m\u001b[0m\u001b[0m\n\u001b[0;32m      4\u001b[0m \u001b[1;33m\u001b[0m\u001b[0m\n\u001b[0;32m      5\u001b[0m \u001b[1;33m\u001b[0m\u001b[0m\n",
      "\u001b[1;31mTypeError\u001b[0m: 'tuple' object does not support item assignment"
     ]
    }
   ],
   "source": [
    "a= ('a','b','c','d','e')\n",
    "a[0]='A'\n",
    "print(a)      # tuple 은 수정불가!"
   ]
  },
  {
   "cell_type": "code",
   "execution_count": 107,
   "metadata": {},
   "outputs": [
    {
     "name": "stdout",
     "output_type": "stream",
     "text": [
      "<class 'tuple'>\n",
      "<class 'list'>\n",
      "<class 'int'>\n",
      "<class 'str'>\n",
      "<class 'float'> 10.0\n",
      "True True False False False\n"
     ]
    }
   ],
   "source": [
    "#형변환!     #튜플을 수정하고 싶으면 리스트로 바꾼후 수정후 다시 튜플로 바꾸면된다.\n",
    "a= ('a','b','c','d','e')\n",
    "b= list(a)\n",
    "print(type(a))\n",
    "print(type(b))\n",
    "\n",
    "#자료형함수\n",
    "a=10\n",
    "print(type(a))\n",
    "a=str(10)\n",
    "print(type(a))\n",
    "a=float(10)\n",
    "print(type(a),a)\n",
    "\n",
    "#bool 함수\n",
    "print(bool(\"hello\"),bool(10),bool([]),bool(\"\"),bool(None))     # 값이 채워져있으면  True, 비어있으면 False 이다. None 도 False"
   ]
  },
  {
   "cell_type": "code",
   "execution_count": 114,
   "metadata": {},
   "outputs": [
    {
     "name": "stdout",
     "output_type": "stream",
     "text": [
      "(10, 20, 30)\n",
      "<class 'tuple'>\n",
      "10 20 30\n",
      "<class 'int'>\n"
     ]
    }
   ],
   "source": [
    "#packing, unpacking\n",
    "#패킹: 여러개의 데이터를 묶어줌. 튜플형식으로 묶어준다.\n",
    "a,b,c=10,20,30\n",
    "a=10,20,30\n",
    "print(a)\n",
    "print(type(a))       \n",
    "#언패킹 \n",
    "a1,a2,a3=a\n",
    "print(a1,a2,a3)\n",
    "print(type(a1))"
   ]
  },
  {
   "cell_type": "markdown",
   "metadata": {},
   "source": [
    "## 집합자료형  dict\n",
    "     * 주로 데이터 검색의 용도로 쓰인다.\n",
    "     * {}을 사용해서 묶어준다. \n",
    "     * {key : 값}\n",
    "     * 인덱스번호가 없다. 즉, key를 가지고 조회를 하기 때문에 순서가 필요없다는 말이다\n"
   ]
  },
  {
   "cell_type": "code",
   "execution_count": 131,
   "metadata": {},
   "outputs": [
    {
     "name": "stdout",
     "output_type": "stream",
     "text": [
      "{'name': '홍길동', 'phone': '111-1111', 'age': 25}\n",
      "<class 'dict'>\n",
      "홍길동\n",
      "25 111-1111\n",
      "홍길동 None\n",
      "----------------------------------------------------------\n",
      "dict_keys(['name', 'phone', 'age'])\n",
      "dict_values(['홍길동', '111-1111', 25])\n",
      "<class 'dict_items'>\n",
      "<class 'list'> [('name', '홍길동'), ('phone', '111-1111'), ('age', 25)]\n",
      "{'name': '임꺽정', 'phone': '111-1111', 'age': 25}\n",
      "{'name': '임꺽정', 'phone': '111-1111', 'age': 25, 'address': '서울시 강남구'}\n",
      "{'name': '임꺽정', 'phone': '111-1111', 'address': '서울시 강남구'}\n",
      "--------------------------------------------------------------\n",
      "{'name': '홍길동', 'phone': '111-1111', 'age': 30}\n"
     ]
    }
   ],
   "source": [
    "a= {\"name\" : \"홍길동\", \"phone\" : \"111-1111\", \"age\": 25}\n",
    "print(a)\n",
    "print(type(a))\n",
    "print(a[\"name\"])       #인덱스 값으로 접근하는 것이 아니라 key로 접근한다.\n",
    "print(a.get(\"age\"),a.get(\"phone\"))    #get으로 값을 가져올 수 있다. \n",
    "\n",
    "# print(a[\"name\"],a[\"address\"])            # 존재하지 않는  key값으로 접근하면 에러가 난다\n",
    "print(a.get(\"name\"),a.get(\"address\"))   # get 을 이용하면 존재하지 않는  key로 접근하면 에러는 나지않고  None이라고 출력된다\n",
    "\n",
    "print(\"----------------------------------------------------------\")\n",
    "\n",
    "print(a.keys())           #key만 모아서 불러옴\n",
    "print(a.values())         #값만 모아서 불러옴\n",
    "b= a.items()          # key 와 값을 쌍으로 묶어서 튜플형식으로 출력\n",
    "print(type(b))\n",
    "c=list(b)\n",
    "print(type(c),c)\n",
    "\n",
    "a[\"name\"]=\"임꺽정\"     #dict는 수정가능\n",
    "print(a)\n",
    "\n",
    "#dict의 추가기능\n",
    "a[\"address\"]=\"서울시 강남구\"\n",
    "print(a)\n",
    "\n",
    "#dict의 삭제기능\n",
    "del a[\"age\"]\n",
    "print(a)\n",
    "\n",
    "#dict의 껍데기는 두고 내용만 삭제\n",
    "a.clear()\n",
    "a.del()   -> #껍데기까지 다 삭제\n",
    "\n",
    "print(\"--------------------------------------------------------------\")\n",
    "#dict  만드는 또 다른 방법\n",
    "a=dict(name=\"홍길동\",phone=\"111-1111\",age=30)\n",
    "print(a)"
   ]
  },
  {
   "cell_type": "markdown",
   "metadata": {},
   "source": [
    "## 집합자료형  set\n",
    "      * {}사용\n",
    "      * {값1,값2,값3,.......}   key는 쓰지 않는다.\n",
    "      * 순서가 없다.= 인덱스가 없다. 인덱스를 사용하고 싶으면 튜플이나 리스트로 바꿔서 사용해주면 된다. \n",
    "      * 중복 불가 = 똑같은 데이터를 저장할 수 없다. \n",
    "      * 수정은 가능한데 인덱스가 없어서 리스트, 튜플로 바꿀것."
   ]
  },
  {
   "cell_type": "code",
   "execution_count": 134,
   "metadata": {},
   "outputs": [
    {
     "name": "stdout",
     "output_type": "stream",
     "text": [
      "<class 'set'> {1, 2, 3, 4}\n",
      "{1, 2, 3.3, 4}\n"
     ]
    }
   ],
   "source": [
    "#중복은 자기가 알아서 걸러서 출력한다. \n",
    "a= {1,2,3,4,3,2,4}     \n",
    "print(type(a),a)\n",
    "#수정하고 싶으면 리스트나 튜플로 바꿔서 진행한다.\n",
    "b= list(a)\n",
    "b[2]=3.3\n",
    "a= set(b)\n",
    "print(a)"
   ]
  },
  {
   "cell_type": "code",
   "execution_count": 138,
   "metadata": {},
   "outputs": [
    {
     "name": "stdout",
     "output_type": "stream",
     "text": [
      "{1, 2, 3, 4, 5, 6, 7, 8, 9}\n",
      "{4, 5, 6}\n",
      "{1, 2, 3}\n",
      "{1, 2, 3, 4, 5, 6, 7, 8}\n",
      "{1, 2, 3, 4, 5, 6, 7, 8, 9}\n",
      "{1, 2, 3, 4, 5, 6, 7, 9}\n"
     ]
    }
   ],
   "source": [
    "s1={1,2,3,4,5,6}\n",
    "s2={4,5,6,7,8,9}\n",
    "\n",
    "#합집합\n",
    "print(s1.union(s2))\n",
    "#교집합\n",
    "print(s1.intersection(s2))\n",
    "#차집합\n",
    "print(s1.difference(s2))\n",
    "\n",
    "#데이터 여러개 추가\n",
    "s1.update([7,8])\n",
    "print(s1)\n",
    "#데이터 한개 추가\n",
    "s1.add(9)\n",
    "print(s1)\n",
    "\n",
    "#삭제\n",
    "s1.remove(8)\n",
    "print(s1)"
   ]
  },
  {
   "cell_type": "markdown",
   "metadata": {},
   "source": [
    "### 연산자(Operator)\n",
    "   1) 산술연산자\n",
    "       *  /  +  -  %   //(몫을 정수형으로 구해줌)   **->제곱\n",
    "   2) 비교연산자\n",
    "      >    <    >=   <=    ==    !=   \n",
    "   3) 논리연산자 (단락회로연산자)  -> 연산하다가 중간에 거짓이 나오면 뒤에 있는 연산을 하지 않는다. \n",
    "       and,   or,   not(단항연산자(토글연산자), 참은 거짓으로 거짓은 참으로 계산)\n",
    "       \n",
    "       a       b      a and b      a or b     not a\n",
    "   ---------------------------------------------------\n",
    "       T       T        T             T         F\n",
    "       T       F        F             T         F\n",
    "       F       T        F             T         T\n",
    "       F       F        F             F         T  \n",
    "     \n",
    "    4) 대입연산자(치환,할당연산자)\n",
    "        =     +=    -=    *=   /=   %=\n",
    "    5) 포함여부연산자\n",
    "        in      not in  \n",
    "    6) 비트연산자    -> 중간에 거짓이 나오더라도 끝까지 연산을 한다.\n",
    "        &(and)     |(or)    ^(xor)    ~    <<      >>       ....\n",
    "        ^(xor)  -> 주로 암호화를 할 때 사용한다.\n",
    "\n",
    "        \n",
    "        a       b        a^b(서로 다른 값이면 참, 같은 값이면 거짓)    \n",
    "       --------------------------------- \n",
    "        T       T         F\n",
    "        T       F         T \n",
    "        F       T         T \n",
    "        F       F         F\n",
    "        \n",
    "        0과 1은 1비트    \n",
    "        8비트= 1바이트(byte)\n",
    "        알파벳 = 1바이트\n",
    "        1024byte= 1KB\n",
    "        1024KB  = 1MB\n",
    "        1024MB  = 1GB\n",
    "        1024GB  = 1TB"
   ]
  },
  {
   "cell_type": "code",
   "execution_count": 4,
   "metadata": {},
   "outputs": [
    {
     "name": "stdout",
     "output_type": "stream",
     "text": [
      "3.6666666666666665\n",
      "2\n",
      "3\n",
      "81\n",
      "False\n",
      "6\n"
     ]
    }
   ],
   "source": [
    "print(11/3)\n",
    "print(11%3)\n",
    "print(11//3)\n",
    "print(3**4)\n",
    "print(100>3000)\n",
    "\n",
    "b=1\n",
    "b += 2\n",
    "b += 3\n",
    "print(b)"
   ]
  },
  {
   "cell_type": "code",
   "execution_count": 23,
   "metadata": {},
   "outputs": [
    {
     "name": "stdout",
     "output_type": "stream",
     "text": [
      "False\n",
      "6\n",
      "4\n"
     ]
    }
   ],
   "source": [
    "print(12>5 & 6<3)\n",
    "print(12 and 6)  # -> 의미없음\n",
    "\n",
    "print(12 & 6)   # -> 2진법으로 바꿔서계산"
   ]
  },
  {
   "cell_type": "code",
   "execution_count": 26,
   "metadata": {},
   "outputs": [
    {
     "name": "stdout",
     "output_type": "stream",
     "text": [
      "35494142\n",
      "648723\n"
     ]
    }
   ],
   "source": [
    "# ^(xor)  -> 주로 암호화를 할 때 사용한다.  ^ 캐럿이라고 부름\n",
    "\n",
    "password = 648723\n",
    "key= 34897645\n",
    "\n",
    "encode=password^key\n",
    "print(encode)\n",
    "\n",
    "decode= encode^key\n",
    "print(decode)"
   ]
  },
  {
   "cell_type": "markdown",
   "metadata": {},
   "source": [
    "##  연습문제\n",
    "1. 두개의 double변수를 이용해서 각각 갤런과 리터값을 저장하고 갤런값을 해당하는 리터값으로 바꿔보자.(1갤런은 3.7584리터이다)\n",
    "\n",
    "2. 달의 중력은 지구 중력의 17% 정도이다. 달에서의 당신의 체중을 계산하는 프로그램을 작성하라.\n",
    "\n",
    "3. 번개가 얼마나 먼 곳에서 발생했나?\n",
    "(번개 소리를 들은 사람이 번개가 치는 곳에서부터 몇 피트 정도 떨어져 있는가를 계산하라. 소리는 공기 중을 약 1,100 피트/초의 속도로 진행한다. - 번개를 본 시각과 천둥소리를 들은 시각 사이의 시간을 알면 거리를 계산할 수 있다. 여기서는 7.2초로 가정하자)\n",
    "\n",
    "4. 동전 교환 프로그램\n",
    "\n",
    "==================\n",
    "교환할 돈은 얼마입니까? 2763 (엔터키)\n",
    "\n",
    "결과:\n",
    "오백원짜리 ===> 5개\n",
    "백원짜리 ===> 2개\n",
    "오십원짜리 ===> 1개\n",
    "십원짜리 ===> 1개\n",
    "나머지 바꾸지 못한 잔돈 ===> 3원"
   ]
  },
  {
   "cell_type": "markdown",
   "metadata": {},
   "source": [
    "## 입력기능\n"
   ]
  },
  {
   "cell_type": "code",
   "execution_count": 28,
   "metadata": {},
   "outputs": [
    {
     "name": "stdout",
     "output_type": "stream",
     "text": [
      "당신은 이름은?홍길동\n",
      "당신의 이름은 홍길동 입니다\n"
     ]
    }
   ],
   "source": [
    "  name=input(\"당신은 이름은?\")\n",
    "  print(\"당신의 이름은\", name, \"입니다\")"
   ]
  },
  {
   "cell_type": "code",
   "execution_count": 30,
   "metadata": {},
   "outputs": [
    {
     "name": "stdout",
     "output_type": "stream",
     "text": [
      "첫번째 숫자를 입력하세요6\n",
      "두번째 숫자를 입력하세요4\n",
      "두수의합:  10\n"
     ]
    }
   ],
   "source": [
    " num1= int(input(\"첫번째 숫자를 입력하세요\"))\n",
    " num2= int(input(\"두번째 숫자를 입력하세요\"))\n",
    "print(\"두수의합: \", num1+num2)"
   ]
  },
  {
   "cell_type": "code",
   "execution_count": null,
   "metadata": {},
   "outputs": [],
   "source": []
  },
  {
   "cell_type": "code",
   "execution_count": null,
   "metadata": {},
   "outputs": [],
   "source": []
  },
  {
   "cell_type": "code",
   "execution_count": null,
   "metadata": {},
   "outputs": [],
   "source": []
  }
 ],
 "metadata": {
  "kernelspec": {
   "display_name": "Python 3",
   "language": "python",
   "name": "python3"
  },
  "language_info": {
   "codemirror_mode": {
    "name": "ipython",
    "version": 3
   },
   "file_extension": ".py",
   "mimetype": "text/x-python",
   "name": "python",
   "nbconvert_exporter": "python",
   "pygments_lexer": "ipython3",
   "version": "3.7.6"
  }
 },
 "nbformat": 4,
 "nbformat_minor": 4
}
