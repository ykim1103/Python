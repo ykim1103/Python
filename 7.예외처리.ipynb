{
 "cells": [
  {
   "cell_type": "markdown",
   "metadata": {},
   "source": [
    "### 5.18(월)\n"
   ]
  },
  {
   "cell_type": "markdown",
   "metadata": {},
   "source": [
    "### 예외처리를 하는 이유\n",
    " - 예외: 프로그램 상의 에러,오류를 뜻한다.\n",
    " - 자연스러운 예외 메시지를 출력하기 위해서\n",
    " - 일반 에러메시지는 코드가 다 노출이 된다. 그래서 해킹의 위험이 높다.-> 예외처리를 이용해 메시지를 숨기기 위함\n",
    " - 프로그램의 비정상적인 종료를 방지하기 위함\n",
    " \n",
    " ### 문법 \n",
    "   - try:\n",
    "             코드\n",
    "     except [예외처리 클래스  [as 변수] ]:                \n",
    "     \n",
    "     \n",
    "             코드\n",
    "             \n",
    "    []는 생략가능하다는 뜻이다.\n",
    "    \n",
    "    "
   ]
  },
  {
   "cell_type": "code",
   "execution_count": 26,
   "metadata": {},
   "outputs": [
    {
     "ename": "ZeroDivisionError",
     "evalue": "division by zero",
     "output_type": "error",
     "traceback": [
      "\u001b[1;31m---------------------------------------------------------------------------\u001b[0m",
      "\u001b[1;31mZeroDivisionError\u001b[0m                         Traceback (most recent call last)",
      "\u001b[1;32m<ipython-input-26-5e2ad0de6cad>\u001b[0m in \u001b[0;36m<module>\u001b[1;34m\u001b[0m\n\u001b[0;32m      4\u001b[0m     \u001b[0ma\u001b[0m \u001b[1;33m=\u001b[0m\u001b[1;36m10\u001b[0m\u001b[1;33m/\u001b[0m\u001b[0mnum\u001b[0m\u001b[1;33m\u001b[0m\u001b[1;33m\u001b[0m\u001b[0m\n\u001b[0;32m      5\u001b[0m     \u001b[0mprint\u001b[0m\u001b[1;33m(\u001b[0m\u001b[0ma\u001b[0m\u001b[1;33m)\u001b[0m\u001b[1;33m\u001b[0m\u001b[1;33m\u001b[0m\u001b[0m\n\u001b[1;32m----> 6\u001b[1;33m \u001b[0mtest\u001b[0m\u001b[1;33m(\u001b[0m\u001b[1;36m0\u001b[0m\u001b[1;33m)\u001b[0m\u001b[1;33m\u001b[0m\u001b[1;33m\u001b[0m\u001b[0m\n\u001b[0m",
      "\u001b[1;32m<ipython-input-26-5e2ad0de6cad>\u001b[0m in \u001b[0;36mtest\u001b[1;34m(num)\u001b[0m\n\u001b[0;32m      2\u001b[0m \u001b[1;33m\u001b[0m\u001b[0m\n\u001b[0;32m      3\u001b[0m \u001b[1;32mdef\u001b[0m \u001b[0mtest\u001b[0m\u001b[1;33m(\u001b[0m\u001b[0mnum\u001b[0m\u001b[1;33m)\u001b[0m\u001b[1;33m:\u001b[0m\u001b[1;33m\u001b[0m\u001b[1;33m\u001b[0m\u001b[0m\n\u001b[1;32m----> 4\u001b[1;33m     \u001b[0ma\u001b[0m \u001b[1;33m=\u001b[0m\u001b[1;36m10\u001b[0m\u001b[1;33m/\u001b[0m\u001b[0mnum\u001b[0m\u001b[1;33m\u001b[0m\u001b[1;33m\u001b[0m\u001b[0m\n\u001b[0m\u001b[0;32m      5\u001b[0m     \u001b[0mprint\u001b[0m\u001b[1;33m(\u001b[0m\u001b[0ma\u001b[0m\u001b[1;33m)\u001b[0m\u001b[1;33m\u001b[0m\u001b[1;33m\u001b[0m\u001b[0m\n\u001b[0;32m      6\u001b[0m \u001b[0mtest\u001b[0m\u001b[1;33m(\u001b[0m\u001b[1;36m0\u001b[0m\u001b[1;33m)\u001b[0m\u001b[1;33m\u001b[0m\u001b[1;33m\u001b[0m\u001b[0m\n",
      "\u001b[1;31mZeroDivisionError\u001b[0m: division by zero"
     ]
    }
   ],
   "source": [
    "# 예외처리를 안했을 때 문법\n",
    "\n",
    "def test(num):\n",
    "    a =10/num\n",
    "    print(a)\n",
    "test(0)    "
   ]
  },
  {
   "cell_type": "code",
   "execution_count": 25,
   "metadata": {},
   "outputs": [
    {
     "name": "stdout",
     "output_type": "stream",
     "text": [
      "5.0\n",
      "2\n",
      "나머지코드실행\n",
      "------------------------------\n",
      "2.5\n",
      "4\n",
      "나머지코드실행\n",
      "------------------------------\n",
      "3.3333333333333335\n",
      "3\n",
      "나머지코드실행\n",
      "------------------------------\n",
      "0으로 나눌 수 없습니다\n",
      "나머지코드실행\n",
      "------------------------------\n",
      "1.4285714285714286\n",
      "Exception은 모든 에러를 다 포함하지만 정확한 에러의 원인은 알수 없다.\n",
      "나머지코드실행\n",
      "------------------------------\n"
     ]
    }
   ],
   "source": [
    "def test(num):\n",
    "    \n",
    "    try:                                # try안에 오류가 날 수도 있는 코드가 들어간다.\n",
    "        a = 10/num                      # \n",
    "        print(a)\n",
    "        \n",
    "        b=[0,1,2,3,4,5]\n",
    "        print(b[num])\n",
    "    except ZeroDivisionError as ex:    # except에 정확한 에러 원인을 써준다\n",
    "        print(\"0으로 나눌 수 없습니다\",ex)     #as를 이용해 에러메시지까지 같이 출력할 수 있다. \n",
    "    except IndexError :\n",
    "        print(\"인덱스범위를 초과했습니다\")\n",
    "    except Exception:\n",
    "        print(\"Exception은 모든 에러를 다 포함하지만 정확한 에러의 원인은 알수 없다.\")\n",
    "    print(\"나머지코드실행\")\n",
    "    print(\"------------------------------\")\n",
    "#########################################\n",
    "test(2)\n",
    "test(4)    \n",
    "test(3)\n",
    "test(0)\n",
    "test(7)"
   ]
  },
  {
   "cell_type": "code",
   "execution_count": null,
   "metadata": {},
   "outputs": [],
   "source": []
  },
  {
   "cell_type": "code",
   "execution_count": null,
   "metadata": {},
   "outputs": [],
   "source": []
  }
 ],
 "metadata": {
  "kernelspec": {
   "display_name": "Python 3",
   "language": "python",
   "name": "python3"
  },
  "language_info": {
   "codemirror_mode": {
    "name": "ipython",
    "version": 3
   },
   "file_extension": ".py",
   "mimetype": "text/x-python",
   "name": "python",
   "nbconvert_exporter": "python",
   "pygments_lexer": "ipython3",
   "version": "3.7.6"
  }
 },
 "nbformat": 4,
 "nbformat_minor": 4
}
