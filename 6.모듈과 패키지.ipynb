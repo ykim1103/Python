{
 "cells": [
  {
   "cell_type": "markdown",
   "metadata": {},
   "source": [
    "### 5.18(월)"
   ]
  },
  {
   "cell_type": "markdown",
   "metadata": {},
   "source": [
    "## 모듈\n",
    "    - 함수나 변수, 클래스들을 모아 놓은 파일 \n",
    "    - 확장자가 .py로 끝나는 파일\n",
    "    - 비슷하거나 관련된 일을 하는 함수,클래스, 상수값들을 모아서 하나의 파일에 저장하고 추후에 재사용하기 위한 목적\n",
    "    \n",
    "    \n",
    "### 모듈의 종류\n",
    "    - 표준모듈\n",
    "    - 사용자 정의모듈\n",
    "    - 서드 파티 모듈\n",
    "    \n",
    "### 모듈 사용방법    \n",
    "    - import 모듈명\n",
    "    - import 모듈명 as 별칭\n",
    "    - from 모듈명 import 변수 or 함수 or 클래스\n",
    "    - from 모듈명 import *\n",
    "    - from 모듈명 import 이름 as 별칭\n",
    "    \n",
    "### 위치를 참조하는 방법    \n",
    "    - 같은 경로면 위에 있는 모듈사용방법처럼 쓰면된다.\n",
    "    - 기존경로 설치 경로\n",
    "    - path 경로\n",
    "         + sys.path.append(\"경로추가\")  : 일회성. 컴퓨터를 껐다 키면 다시 설정해야한다.\n",
    "         + 제어판 환경변수 > path설정   : pythonpath"
   ]
  },
  {
   "cell_type": "code",
   "execution_count": 2,
   "metadata": {},
   "outputs": [
    {
     "name": "stdout",
     "output_type": "stream",
     "text": [
      "func1함수호출 :  10 20\n",
      "홍길동 30\n",
      "파이썬 주식회사\n"
     ]
    }
   ],
   "source": [
    "import moduleTest     # 노트패드로 같은 폴더에 moduleTest라는 .py파일을 저장했다. 그걸 import 해서 불러오는 것이다.\n",
    "\n",
    "moduleTest.func1(10,20)\n",
    "ab1=moduleTest.Ctest1('홍길동',30)\n",
    "ab1.show()\n",
    "\n",
    "print(moduleTest.companyName)"
   ]
  },
  {
   "cell_type": "code",
   "execution_count": 4,
   "metadata": {},
   "outputs": [
    {
     "name": "stdout",
     "output_type": "stream",
     "text": [
      "func1함수호출 :  20 40\n",
      "임꺽정 10\n",
      "파이썬 주식회사\n"
     ]
    }
   ],
   "source": [
    "import moduleTest as mt\n",
    "\n",
    "mt.func1(20,40)\n",
    "ab2=mt.Ctest1('임꺽정',10)\n",
    "ab2.show()\n",
    "print(mt.companyName)"
   ]
  },
  {
   "cell_type": "code",
   "execution_count": 7,
   "metadata": {},
   "outputs": [
    {
     "name": "stdout",
     "output_type": "stream",
     "text": [
      "func1함수호출 :  90 40\n",
      "임꺽정3 65\n",
      "파이썬 주식회사\n"
     ]
    }
   ],
   "source": [
    "from moduleTest import companyName, func1, Ctest1\n",
    "\n",
    "func1(90,40)\n",
    "ab3=Ctest1('임꺽정3',65)\n",
    "ab3.show()\n",
    "print(companyName)"
   ]
  },
  {
   "cell_type": "code",
   "execution_count": 8,
   "metadata": {},
   "outputs": [
    {
     "name": "stdout",
     "output_type": "stream",
     "text": [
      "func1함수호출 :  90 40\n",
      "임꺽정3 65\n",
      "파이썬 주식회사\n"
     ]
    }
   ],
   "source": [
    "from moduleTest import *   # *은 모든 파일(함수,클래스 등)을 다가져온다. 그래서 필요하지 않은 것까지 가져와서 메모리낭비가 있을수도.\n",
    "\n",
    "func1(90,40)\n",
    "ab3=Ctest1('임꺽정3',65)\n",
    "ab3.show()\n",
    "print(companyName)"
   ]
  },
  {
   "cell_type": "code",
   "execution_count": 9,
   "metadata": {},
   "outputs": [
    {
     "name": "stdout",
     "output_type": "stream",
     "text": [
      "파이썬 주식회사\n"
     ]
    }
   ],
   "source": [
    "from moduleTest import companyName as cname\n",
    "print(cname)"
   ]
  },
  {
   "cell_type": "markdown",
   "metadata": {},
   "source": [
    "#### path경로사용"
   ]
  },
  {
   "cell_type": "code",
   "execution_count": null,
   "metadata": {},
   "outputs": [],
   "source": [
    "import sys\n",
    "sys.path.append(\"C:\\\\Users\\\\acorn\\\\mywork\\\\pythonwork\\\\mylib\")     # \\가 2개 있어야 주소로 인식. \n",
    "\n"
   ]
  },
  {
   "cell_type": "code",
   "execution_count": null,
   "metadata": {},
   "outputs": [],
   "source": [
    "import moduleTest"
   ]
  },
  {
   "cell_type": "markdown",
   "metadata": {},
   "source": [
    "## 패키지(package)\n",
    "      - 여러모듈을 모아놓은 폴더"
   ]
  },
  {
   "cell_type": "code",
   "execution_count": null,
   "metadata": {},
   "outputs": [],
   "source": []
  },
  {
   "cell_type": "code",
   "execution_count": null,
   "metadata": {},
   "outputs": [],
   "source": []
  },
  {
   "cell_type": "code",
   "execution_count": null,
   "metadata": {},
   "outputs": [],
   "source": [
    "\n",
    "\n",
    "\n"
   ]
  },
  {
   "cell_type": "code",
   "execution_count": null,
   "metadata": {},
   "outputs": [],
   "source": []
  },
  {
   "cell_type": "code",
   "execution_count": null,
   "metadata": {},
   "outputs": [],
   "source": []
  },
  {
   "cell_type": "code",
   "execution_count": null,
   "metadata": {},
   "outputs": [],
   "source": [
    "\n",
    "\n"
   ]
  }
 ],
 "metadata": {
  "kernelspec": {
   "display_name": "Python 3",
   "language": "python",
   "name": "python3"
  },
  "language_info": {
   "codemirror_mode": {
    "name": "ipython",
    "version": 3
   },
   "file_extension": ".py",
   "mimetype": "text/x-python",
   "name": "python",
   "nbconvert_exporter": "python",
   "pygments_lexer": "ipython3",
   "version": "3.7.6"
  }
 },
 "nbformat": 4,
 "nbformat_minor": 4
}
