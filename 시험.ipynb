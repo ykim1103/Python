{
 "cells": [
  {
   "cell_type": "markdown",
   "metadata": {},
   "source": [
    "##### 1.특수문자 (escape 문자 수업시간에 한 예제)\n",
    "##### 2. 기본자료형 str형의 슬라이싱(수업시간 예제)\n",
    "##### 3. dict에서 새로운데이터를 추가할 때 쓰는 방법\n",
    "##### 4. set\n",
    "##### 5. 동전교환 프로그램\n",
    "##### 6. 숫자를 입력받아 짝수합, 홀수합\n",
    "##### 7. 파일처리관련된 문제\n",
    "##### 8. 예외처리\n",
    "##### 9. map()함수 쓰는 법\n",
    "##### 10. 정규표현식\n"
   ]
  },
  {
   "cell_type": "markdown",
   "metadata": {},
   "source": [
    "### 1. 특수문자"
   ]
  },
  {
   "cell_type": "code",
   "execution_count": 37,
   "metadata": {},
   "outputs": [
    {
     "name": "stdout",
     "output_type": "stream",
     "text": [
      "\\n는 엔터의 기능을 한다\n",
      "\\t는 tab키의 기능을 한다\n",
      "\"\\n은 엔터키 기능이다\"\n",
      "'\\t는 tab키의 기능이다'\n"
     ]
    }
   ],
   "source": [
    "# \\n : 엔터             \\t : tab\n",
    "# \\\\n : 엔터취소        \\\\t : tab취소\n",
    "print(\"\\\\n는 엔터의 기능을 한다\\n\\\\t는 tab키의 기능을 한다\")\n",
    "\n",
    "print('\"\\\\n은 엔터키 기능이다\"')\n",
    "print(\"'\\\\t는 tab키의 기능이다'\")"
   ]
  },
  {
   "cell_type": "markdown",
   "metadata": {},
   "source": [
    "### 2. 문자열 슬라이싱"
   ]
  },
  {
   "cell_type": "code",
   "execution_count": 73,
   "metadata": {},
   "outputs": [
    {
     "name": "stdout",
     "output_type": "stream",
     "text": [
      "Life \n",
      "Python\n",
      "a,b,c,d,e,f,g\n",
      "['홍길동', '임꺽정', '신돌석', '유비', '관우', '장비']\n"
     ]
    }
   ],
   "source": [
    "a = 'Life is too short, You need Python'\n",
    "print(a[0:5])\n",
    "print(a[-6:])\n",
    "\n",
    "\n",
    "str1=\"abcdefg\"\n",
    "str2= ','.join(str1)        # join():문자열 사이에 삽입하기.   a.join(b) = b라는 것에 a 를 삽입.\n",
    "print(str2) \n",
    "\n",
    "str2.split(',')             #split() : ()안에 있는 것을 기준으로 문자열을 잘라내는 것.\n",
    "\n",
    "str3=\"홍길동 임꺽정 신돌석 유비 관우 장비\"\n",
    "print(str3.split( ))"
   ]
  },
  {
   "cell_type": "markdown",
   "metadata": {},
   "source": [
    "### 3.dict 에서 새로운 데이터를 추가할 때 쓰는 방법"
   ]
  },
  {
   "cell_type": "code",
   "execution_count": 64,
   "metadata": {},
   "outputs": [
    {
     "name": "stdout",
     "output_type": "stream",
     "text": [
      "{'name': '홍길동', 'phone': '111-1111', 'age': 25, 'bloodtype': 'B'}\n",
      "{'name': '홍길동', 'phone': '111-1111', 'age': 25, 'bloodtype': 'AB'}\n",
      "{'phone': '111-1111', 'age': 25, 'bloodtype': 'AB'}\n",
      "----------------------------------\n",
      "{'name': '홍길동22', 'phone': '111-1111-1111', 'age': 30}\n",
      "{}\n",
      "___________________________________________\n"
     ]
    },
    {
     "data": {
      "text/plain": [
       "[('name', '홍길동333'), ('phone', '010-1111-1234'), ('age', 33)]"
      ]
     },
     "execution_count": 64,
     "metadata": {},
     "output_type": "execute_result"
    }
   ],
   "source": [
    "a= {\"name\" : \"홍길동\", \"phone\" : \"111-1111\", \"age\": 25}\n",
    "a[\"bloodtype\"]='B'\n",
    "print(a)\n",
    "a['bloodtype']=\"AB\"\n",
    "print(a)\n",
    "\n",
    "del a['name']\n",
    "print(a)\n",
    "\n",
    "print(\"----------------------------------\")\n",
    "#del a\n",
    "#print(a)\n",
    "\n",
    "\n",
    "b= {\"name\" : \"홍길동22\", \"phone\" : \"111-1111-1111\", \"age\": 30}\n",
    "print(b)\n",
    "b.clear()\n",
    "print(b)\n",
    "print(\"___________________________________________\")\n",
    "\n",
    "\n",
    "c= {\"name\" : \"홍길동333\", \"phone\" : \"010-1111-1234\", \"age\": 33}\n",
    "list(c.keys())\n",
    "list(c.items())"
   ]
  },
  {
   "cell_type": "markdown",
   "metadata": {},
   "source": [
    "### 4. set "
   ]
  },
  {
   "cell_type": "code",
   "execution_count": 74,
   "metadata": {},
   "outputs": [
    {
     "name": "stdout",
     "output_type": "stream",
     "text": [
      "<class 'set'> {1, 2, 3, 4}\n",
      "{1, 2, 3.3, 4}\n",
      "{1, 2, 3, 4, 5, 6, 7, 8, 9}\n",
      "{4, 5, 6}\n",
      "{1, 2, 3}\n",
      "{1, 2, 3, 4, 5, 6, 7, 8}\n",
      "{1, 2, 3, 4, 5, 6, 7, 8, 9}\n",
      "{1, 2, 3, 4, 5, 6, 7, 9}\n"
     ]
    }
   ],
   "source": [
    "#중복은 자기가 알아서 걸러서 출력한다. \n",
    "a= {1,2,3,4,3,2,4}     \n",
    "print(type(a),a)\n",
    "#수정하고 싶으면 리스트나 튜플로 바꿔서 진행한다.\n",
    "b= list(a)\n",
    "b[2]=3.3\n",
    "a= set(b)\n",
    "print(a)\n",
    "\n",
    "\n",
    "\n",
    "\n",
    "\n",
    "s1={1,2,3,4,5,6}\n",
    "s2={4,5,6,7,8,9}\n",
    "\n",
    "#합집합\n",
    "print(s1.union(s2))\n",
    "#교집합\n",
    "print(s1.intersection(s2))\n",
    "#차집합\n",
    "print(s1.difference(s2))\n",
    "\n",
    "#데이터 여러개 추가\n",
    "s1.update([7,8])\n",
    "print(s1)\n",
    "#데이터 한개 추가\n",
    "s1.add(9)\n",
    "print(s1)\n",
    "\n",
    "#삭제\n",
    "s1.remove(8)\n",
    "print(s1)"
   ]
  },
  {
   "cell_type": "markdown",
   "metadata": {},
   "source": [
    "### 5. 동전교환 프로그램"
   ]
  },
  {
   "cell_type": "code",
   "execution_count": null,
   "metadata": {},
   "outputs": [],
   "source": []
  },
  {
   "cell_type": "code",
   "execution_count": null,
   "metadata": {},
   "outputs": [],
   "source": []
  },
  {
   "cell_type": "code",
   "execution_count": 11,
   "metadata": {
    "scrolled": true
   },
   "outputs": [
    {
     "name": "stdout",
     "output_type": "stream",
     "text": [
      "금액을 입력해주세요10020\n",
      "500원:  20 개\n",
      "100원:  0 개\n",
      "50원:  0 개\n",
      "10원:  2 개\n",
      "나머지잔돈:  0 원\n"
     ]
    }
   ],
   "source": [
    "money=int(input(\"금액을 입력해주세요\"))\n",
    "print(\"500원: \", money//500,\"개\")\n",
    "\n",
    "money=money%500\n",
    "print(\"100원: \", money//100,\"개\")\n",
    "\n",
    "money=money%100\n",
    "print(\"50원: \",money//50,\"개\")\n",
    "\n",
    "money=money%50\n",
    "print(\"10원: \",money//10,\"개\")\n",
    "\n",
    "money=money%10\n",
    "print(\"나머지잔돈: \",money,\"원\")\n",
    "\n",
    "\n",
    "\n",
    "\n",
    "\n"
   ]
  },
  {
   "cell_type": "markdown",
   "metadata": {},
   "source": [
    "### 6. 숫자를 입력받아 짝수합, 홀수합 구하기"
   ]
  },
  {
   "cell_type": "code",
   "execution_count": 24,
   "metadata": {},
   "outputs": [
    {
     "name": "stdout",
     "output_type": "stream",
     "text": [
      "숫자를 입력해주세요5\n",
      "숫자를 입력해주세요7\n",
      "숫자를 입력해주세요12\n",
      "숫자를 입력해주세요6\n",
      "숫자를 입력해주세요0\n",
      "짝수합:  18\n",
      "홀수합:  12\n"
     ]
    }
   ],
   "source": [
    "\n",
    "sum2=0\n",
    "sum1=0\n",
    "while True:\n",
    "    num= int(input(\"숫자를 입력해주세요\"))\n",
    "    if num ==0:\n",
    "        print(\"짝수합: \",sum2)\n",
    "        print(\"홀수합: \",sum1)\n",
    "        break\n",
    "    \n",
    "    if num %2==0:\n",
    "        sum2 +=num\n",
    "        \n",
    "    elif num %2==1:\n",
    "        sum1 +=num\n",
    "        \n",
    "    "
   ]
  },
  {
   "cell_type": "code",
   "execution_count": 25,
   "metadata": {},
   "outputs": [
    {
     "ename": "SyntaxError",
     "evalue": "unexpected EOF while parsing (<ipython-input-25-2a4e3fd78e1d>, line 4)",
     "output_type": "error",
     "traceback": [
      "\u001b[1;36m  File \u001b[1;32m\"<ipython-input-25-2a4e3fd78e1d>\"\u001b[1;36m, line \u001b[1;32m4\u001b[0m\n\u001b[1;33m    \u001b[0m\n\u001b[1;37m    ^\u001b[0m\n\u001b[1;31mSyntaxError\u001b[0m\u001b[1;31m:\u001b[0m unexpected EOF while parsing\n"
     ]
    }
   ],
   "source": [
    "# 홀수, 짝수 합 프로그램\n",
    "odd_num, even_num = 0, 0\n",
    "def check(number):\n",
    "    if num == 0: return 0\n",
    "    elif num%2==1: #홀수일 때\n",
    "        return 1\n",
    "    elif num%2==0: #짝수일 때\n",
    "        return 2\n",
    "\n",
    "while 1:\n",
    "    num = int(input(\"숫자를 입력하시오(0을 입력하면 종료): \"))\n",
    "    check_num = check(num)\n",
    "    if check_num == 0 :\n",
    "        print(\"홀수 합: \", odd_num, \" | 짝수 합: \", even_num)\n",
    "        break\n",
    "    elif check_num == 1 : odd_num+=num\n",
    "    else: even_num+=num"
   ]
  },
  {
   "cell_type": "code",
   "execution_count": null,
   "metadata": {},
   "outputs": [],
   "source": []
  },
  {
   "cell_type": "code",
   "execution_count": null,
   "metadata": {},
   "outputs": [],
   "source": [
    "총 10문제\n",
    "1) 특수문자(escape 문자) -> 예제 찾아보기\n",
    "\n",
    "a = '안녕하세요. \\n반갑습니다.'    # \\n : 줄바꿈\n",
    "print(a)\n",
    "\n",
    "b = '안녕하세요. \\t반갑습니다.'    # \\t : 탭 간격\n",
    "print(b)\n",
    "\n",
    "c = \"\\\\t는 탭키의 기능입니다.\"\n",
    "print(c)\n",
    "\n",
    "# \"\\n은 엔터키 기능이다.\"\n",
    "print('\"\\\\n은 엔터키 기능이다.\"')\n",
    "\n",
    "print('\\\"\\\\n은 엔터키 기능이다.\\\"')\n",
    "\n",
    "\n",
    "2) str형의 slice\n",
    "\n",
    "a = 'Life is too short, You need Python'\n",
    "print(a[8:11])\n",
    "print(a[0:4])\n",
    "\n",
    "print(a[:4])\n",
    "print(a[8:])\n",
    "\n",
    "print(a[-3:-1])\n",
    "print(a[3::-1])\n",
    "\n",
    "\n",
    "3) dict에서 새로운 데이터 추가\n",
    "\n",
    "a = {'name' : '홍길동', 'phone' : '111-1111', 'age' : 25}\n",
    "a['address'] = '서울시 강남구'\n",
    "a = dict(name = '홍길동', phone = '111-1111', age = 30)\n",
    "\n",
    "\n",
    "4) set\n",
    "\n",
    "s1 = {1, 2, 3, 4, 5, 6}\n",
    "s2 = {4, 5, 6, 7, 8, 9}\n",
    "\n",
    "# 합집합\n",
    "print(s1.union(s2))\n",
    "print(s1 | s2)\n",
    "\n",
    "# 교집합\n",
    "print(s1.intersection(s2))\n",
    "print(s1 & s2)\n",
    "\n",
    "# 차집합\n",
    "print(s1.difference(s2))\n",
    "print(s1 - s2)\n",
    "\n",
    "# 데이터 여러 개 추가\n",
    "s1.update([4, 5, 7, 8])\n",
    "print(s1)\n",
    "\n",
    "# 한 개 추가\n",
    "s1.add(9)\n",
    "print(s1)\n",
    "\n",
    "# 삭제\n",
    "s1.remove(8)\n",
    "print(s1)\n",
    "\n",
    "a = [1, 3, 2,4,2,6,5,2,1,9]\n",
    "b = list(set(a))\n",
    "print(b)\n",
    "\n",
    "\n",
    "5) 동전 교환 프로그램\n",
    "\n",
    "money = int(input('교환할 돈은 얼마입니까?'))\n",
    "print('오백원짜리 ===>', money // 500, '개')\n",
    "money %= 500\n",
    "print('백원짜리 ===>', money // 100, '개')\n",
    "money %= 100\n",
    "print('오십원짜리 ===>', money // 50, '개')\n",
    "money %= 50\n",
    "print('십원짜리 ===>', money // 10, '개')\n",
    "money %= 10\n",
    "print('나머지 바꾸지 못한 잔돈 ===>', money, '원')\n",
    "\n",
    "# for 문 활용\n",
    "money = int(input('교환할 돈은 얼마입니까?'))\n",
    "coins = [500, 100, 50, 10]\n",
    "for coin in coins:\n",
    "    print(coin,'원 짜리 ===>', money // coin, '개')\n",
    "    money %= coin\n",
    "print('나머지 바꾸지 못한 잔돈 ===>', money, '원')\n",
    "\n",
    "\n",
    "6) 숫자를 입력받아 짝수합, 홀수합\n",
    "\n",
    "odd_sum = 0\n",
    "even_sum = 0\n",
    "while True:\n",
    "    num = int(input('숫자를 입력하세요 (끝내고 싶으면 0을 입력하세요): '))\n",
    "    \n",
    "    if num == 0:\n",
    "        print('짝수의 합 : %d, 홀수의 합 : %d' %(even_sum, odd_sum))\n",
    "        break\n",
    "        \n",
    "    if num % 2 == 0:\n",
    "        even_sum += num\n",
    "    else:\n",
    "        odd_sum += num\n",
    "        \n",
    "\n",
    "7) 파일 처리\n",
    "\n",
    " + open(파일명(경로 포함), 모드) : 파일을 로드(load)\n",
    "       - 모드 : r(읽기), w(덮어쓰기), a(append), rb, wb, ab   # b가 붙으면 이진수로 바꾼것! 우리는 못 읽엉!\n",
    "   \n",
    "   + close() : 파일을 언로드 (unload)\n",
    "   \n",
    "   + 읽어올 때 : readline() # 한 줄씩, readlines() # 한번에 다 읽어와(단, 한줄씩 list로 담아서 뽝!), read() # 한번에 다 읽어왕(단, str로)\n",
    "   \n",
    "   + 저장할 때 : write()\n",
    "\n",
    "\n",
    "8) 예외처리\n",
    "\n",
    "\n",
    "9) map()\n",
    "\n",
    "def calc(x):\n",
    "    return x + 2\n",
    "\n",
    "a = calc(10)\n",
    "print(a)\n",
    "\n",
    "data = [10, 20, 30, 40, 50]\n",
    "result = []\n",
    "\n",
    "for i in data:\n",
    "    result.append(calc(i))\n",
    "    \n",
    "print(result)\n",
    "\n",
    "print('------------------------------------')\n",
    "\n",
    "print(list(map(calc, data)))\n",
    "\n"
   ]
  },
  {
   "cell_type": "code",
   "execution_count": null,
   "metadata": {},
   "outputs": [],
   "source": []
  }
 ],
 "metadata": {
  "kernelspec": {
   "display_name": "Python 3",
   "language": "python",
   "name": "python3"
  },
  "language_info": {
   "codemirror_mode": {
    "name": "ipython",
    "version": 3
   },
   "file_extension": ".py",
   "mimetype": "text/x-python",
   "name": "python",
   "nbconvert_exporter": "python",
   "pygments_lexer": "ipython3",
   "version": "3.7.6"
  }
 },
 "nbformat": 4,
 "nbformat_minor": 4
}
