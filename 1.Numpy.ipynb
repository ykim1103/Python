{
 "cells": [
  {
   "cell_type": "markdown",
   "metadata": {},
   "source": [
    "## Numpy 특징 (06.01.월)\n",
    "     1) 벡터 및 행렬 연산과 관련된 편리한 기능을 제공\n",
    "     2) list와 거의 동일하지만 numpy배열의 특징을 갖는다.\n",
    "           - 배열: 모든 원소라 같은 자료형이어야 한다. 원소의 갯수를 바꿀 수 없다.\n",
    "     3) 빠른 속도를 지원\n",
    "     4) 벡터화 연산, 배열 인덱싱을 통한 질의 가능\n",
    "     5) http://www.numpy.org"
   ]
  },
  {
   "cell_type": "code",
   "execution_count": 1,
   "metadata": {},
   "outputs": [],
   "source": [
    "import numpy as np"
   ]
  },
  {
   "cell_type": "markdown",
   "metadata": {},
   "source": [
    "### 1차원배열"
   ]
  },
  {
   "cell_type": "code",
   "execution_count": 6,
   "metadata": {},
   "outputs": [
    {
     "name": "stdout",
     "output_type": "stream",
     "text": [
      "[1, 2, 3, 4, 5, 10, 20, '가나다']\n",
      "['1' '2' '3' '4' '5' '10' '20' '가나다']\n",
      "<class 'numpy.ndarray'>\n",
      "(8,)\n",
      "1\n",
      "8\n"
     ]
    }
   ],
   "source": [
    "a1=[1,2,3,4,5,10,20,'가나다']\n",
    "print(a1)\n",
    "a2=np.array([1,2,3,4,5,10,20,'가나다'])\n",
    "print(a2)\n",
    "print(type(a2))\n",
    "print(a2.shape)     # (8,)  -> 8개가 한줄로 되어있는 1차원배열이다.\n",
    "print(a2.ndim)      # 몇 차원인지 알려주는 기능.\n",
    "print(len(a2))"
   ]
  },
  {
   "cell_type": "code",
   "execution_count": 17,
   "metadata": {},
   "outputs": [
    {
     "name": "stdout",
     "output_type": "stream",
     "text": [
      "[1, 2, 3, 4, 5, 6, 7, 8, 9, 1, 2, 3, 4, 5, 6, 7, 8, 9]\n",
      "[ 2  4  6  8 10 12 14 16 18]\n",
      "[ 3  4  5  6  7  8  9 10 11]\n",
      "[-1  0  1  2  3  4  5  6  7]\n",
      "-------------------------\n",
      "1\n"
     ]
    }
   ],
   "source": [
    "# 벡터화 연산\n",
    "data=[1,2,3,4,5,6,7,8,9]\n",
    "print(data*2)\n",
    "\n",
    "\n",
    "data2=np.array(data)\n",
    "print(data2*2)\n",
    "print(data2+2)\n",
    "print(data2-2)\n",
    "\n",
    "print(\"-------------------------\")\n",
    "print(data2[0])\n",
    "\n",
    "\n"
   ]
  },
  {
   "cell_type": "markdown",
   "metadata": {},
   "source": [
    "### 2차원배열"
   ]
  },
  {
   "cell_type": "code",
   "execution_count": 24,
   "metadata": {},
   "outputs": [
    {
     "name": "stdout",
     "output_type": "stream",
     "text": [
      "[[0 1 2]\n",
      " [3 4 5]]\n",
      "(2, 3)\n",
      "2\n",
      "--------------------------\n",
      "2\n",
      "3\n",
      "3\n"
     ]
    }
   ],
   "source": [
    "arr=np.array([[0,1,2],[3,4,5]])\n",
    "print(arr)\n",
    "print(arr.shape)\n",
    "print(arr.ndim)\n",
    "print(\"--------------------------\")\n",
    "print(len(arr))\n",
    "print(len(arr[0]))\n",
    "print(len(arr[1]))"
   ]
  },
  {
   "cell_type": "markdown",
   "metadata": {},
   "source": [
    "### 3차원배열"
   ]
  },
  {
   "cell_type": "code",
   "execution_count": 32,
   "metadata": {},
   "outputs": [
    {
     "name": "stdout",
     "output_type": "stream",
     "text": [
      "[[[ 1  2  3  4]\n",
      "  [ 5  6  7  8]\n",
      "  [ 9 10 11 12]]\n",
      "\n",
      " [[13 14 15 16]\n",
      "  [17 18 19 20]\n",
      "  [21 22 23 24]]]\n",
      "------------------------------\n",
      "[[ 1  2  3  4]\n",
      " [ 5  6  7  8]\n",
      " [ 9 10 11 12]]\n",
      "[1 2 3 4]\n",
      "1\n",
      "--------------------------------------\n",
      "(2, 3, 4)\n",
      "3\n",
      "2 3 4\n"
     ]
    }
   ],
   "source": [
    "arr=np.array([[[1,2,3,4,],[5,6,7,8],[9,10,11,12]],\n",
    "             [[13,14,15,16],[17,18,19,20],[21,22,23,24]]])     # 2개의 2차원배열을 묶어서 3차원배열로 만들어준다,\n",
    "\n",
    "print(arr)\n",
    "print(\"------------------------------\")\n",
    "print(arr[0])\n",
    "print(arr[0][0])\n",
    "print(arr[0][0][0])\n",
    "print(\"--------------------------------------\")\n",
    "print(arr.shape)\n",
    "print(arr.ndim)\n",
    "print(len(arr),len(arr[0]),len(arr[0][0]))"
   ]
  },
  {
   "cell_type": "markdown",
   "metadata": {},
   "source": [
    "### 배열의 인덱싱"
   ]
  },
  {
   "cell_type": "code",
   "execution_count": 35,
   "metadata": {},
   "outputs": [
    {
     "name": "stdout",
     "output_type": "stream",
     "text": [
      "2 4\n"
     ]
    }
   ],
   "source": [
    "arr=np.array([0,1,2,3,4])\n",
    "print(arr[2],arr[-1])"
   ]
  },
  {
   "cell_type": "code",
   "execution_count": 39,
   "metadata": {},
   "outputs": [
    {
     "name": "stdout",
     "output_type": "stream",
     "text": [
      "2 4\n",
      "2\n",
      "5\n"
     ]
    }
   ],
   "source": [
    "arr=np.array([[0,1,2],[3,4,5]])\n",
    "print(arr[0][2],arr[1][1])\n",
    "print(arr[0,2])    #0번째 줄의 2번째 방에 있는 2가 출력된다.\n",
    "print(arr[-1,-1])"
   ]
  },
  {
   "cell_type": "code",
   "execution_count": 84,
   "metadata": {},
   "outputs": [
    {
     "name": "stdout",
     "output_type": "stream",
     "text": [
      "[0 2 4 6 8]\n",
      "[0 1 0 1 0 1 0 1 0 1]\n",
      "[ True False  True False  True False  True False  True False]\n",
      "[0 2 4 6 8]\n",
      "---------------------------\n",
      "[0 3 6 9]\n",
      "[1 5 9]\n",
      "[9]\n"
     ]
    }
   ],
   "source": [
    "# fancy indexing\n",
    "\n",
    "arr=np.array([i for i in range(10)])\n",
    "\n",
    "idx=np.array([True,False,True,False,True,False,True,False,True,False])\n",
    "\n",
    "print(arr[idx])\n",
    "print(arr%2)\n",
    "print(arr%2 ==0 )\n",
    "print(arr[arr%2==0])\n",
    "\n",
    "print(\"---------------------------\")\n",
    "#arr에서 3의 배수를 찾아라\n",
    "print(arr[arr%3==0])\n",
    "\n",
    "#arr에서 4로 나누면 1이 남는 수를 찾아라\n",
    "print(arr[arr%4==1])\n",
    "\n",
    "#arr에서 3으로 나누면 나누어지고 4로 나누면 1이 남는 수를 찾아라\n",
    "print(arr[(arr%3==0) & (arr%4==1)])"
   ]
  },
  {
   "cell_type": "markdown",
   "metadata": {},
   "source": [
    "### 배열의 슬라이싱"
   ]
  },
  {
   "cell_type": "code",
   "execution_count": 56,
   "metadata": {},
   "outputs": [
    {
     "name": "stdout",
     "output_type": "stream",
     "text": [
      "[0 1 2 3]\n",
      "[5 6]\n",
      "[[4 5]\n",
      " [8 9]]\n",
      "--------------------------------\n",
      "[[ 8  9 10 11]\n",
      " [ 4  5  6  7]\n",
      " [ 0  1  2  3]]\n"
     ]
    }
   ],
   "source": [
    "arr=np.array([[0,1,2,3],\n",
    "              [4,5,6,7],\n",
    "              [8,9,10,11]])\n",
    "\n",
    "\n",
    "print(arr[0, :])\n",
    "print(arr[1,1:3])\n",
    "print(arr[1:3,0:2])\n",
    "\n",
    "\n",
    "\n",
    "\n",
    "print(\"--------------------------------\")\n",
    "#행의 위치 변경\n",
    "print(arr[[2,1,0],:])"
   ]
  },
  {
   "cell_type": "markdown",
   "metadata": {},
   "source": [
    "## Numpy 자료형\n",
    "      - b : 논리형\n",
    "      - i : 정수                  ex) i8  정수형 8비트만 쓰겠다\n",
    "      - u : 부호없는 정수 (양수)\n",
    "      - f : 실수 \n",
    "      - c : 복소수\n",
    "      - O : 객체형\n",
    "      - S : 바이트문자열(String)    ex) S24  영문자 기준으로 24글자 사용.   \n",
    "      - U : 유니코드 "
   ]
  },
  {
   "cell_type": "code",
   "execution_count": 60,
   "metadata": {},
   "outputs": [
    {
     "name": "stdout",
     "output_type": "stream",
     "text": [
      "int32\n",
      "float64\n",
      "float64\n"
     ]
    }
   ],
   "source": [
    "arr=np.array([1,2,3])\n",
    "print(arr.dtype)\n",
    "\n",
    "\n",
    "arr=np.array([1.0,2.0,3.0])\n",
    "print(arr.dtype)\n",
    "\n",
    "\n",
    "arr=np.array([1,2,3.0])     # 정수와 실수가 같이 있을 때 더 큰 실수형으로 자동으로 설정된다. \n",
    "print(arr.dtype)"
   ]
  },
  {
   "cell_type": "code",
   "execution_count": 64,
   "metadata": {},
   "outputs": [
    {
     "name": "stdout",
     "output_type": "stream",
     "text": [
      "float32\n",
      "5.0\n",
      "---------------------------------\n",
      "23\n"
     ]
    }
   ],
   "source": [
    "arr=np.array([1,2,3],dtype='f')    # dtype을 이용하면 원래는 데이터는 정수형이지만 실수형으로 저장한다.\n",
    "print(arr.dtype)\n",
    "print(arr[1]+arr[2])    \n",
    "\n",
    "print(\"---------------------------------\")\n",
    "arr=np.array([1,2,3],dtype='U')\n",
    "print(arr[1]+arr[2])    "
   ]
  },
  {
   "cell_type": "markdown",
   "metadata": {},
   "source": [
    "### 배열생성"
   ]
  },
  {
   "cell_type": "code",
   "execution_count": 92,
   "metadata": {},
   "outputs": [
    {
     "name": "stdout",
     "output_type": "stream",
     "text": [
      "[0. 0. 0. 0. 0.]\n",
      "float64\n",
      "------------------------------\n",
      "[0 0 0 0 0]\n",
      "int32\n",
      "------------------------------------\n",
      "['' '' '' '' '']\n",
      "<U4\n",
      "['abc' 'abcd' 'abcd' '' '']\n",
      "===========================이차원배열=============================\n",
      "['abc' 'abcd' 'abcd' '' '']\n",
      "=============================삼차원배열============================\n",
      "[[[1. 1. 1. 1.]\n",
      "  [1. 1. 1. 1.]\n",
      "  [1. 1. 1. 1.]]\n",
      "\n",
      " [[1. 1. 1. 1.]\n",
      "  [1. 1. 1. 1.]\n",
      "  [1. 1. 1. 1.]]]\n",
      "[[1. 1. 1.]\n",
      " [1. 1. 1.]]\n",
      "[[4.24399158e-314 8.48798317e-314 1.27319747e-313]\n",
      " [1.69759663e-313 2.12199579e-313 2.54639495e-313]\n",
      " [2.97079411e-313 3.39519327e-313 3.81959242e-313]\n",
      " [4.24399158e-313 4.66839074e-313 5.09278990e-313]]\n",
      "------------------------------------------------\n",
      "[0 1 2 3 4 5 6 7 8 9]\n",
      "[ 3  5  7  9 11 13 15 17 19]\n",
      "---------------------------------------------------\n",
      "[  0.  25.  50.  75. 100.]\n"
     ]
    }
   ],
   "source": [
    "arr=np.zeros(5)\n",
    "print(arr)\n",
    "print(arr.dtype)\n",
    "print(\"------------------------------\")\n",
    "arr=np.zeros(5,dtype='i')\n",
    "print(arr)\n",
    "print(arr.dtype)\n",
    "print(\"------------------------------------\")\n",
    "arr=np.zeros(5,dtype='U4')\n",
    "print(arr)\n",
    "print(arr.dtype)\n",
    "arr[0]='abc'\n",
    "arr[1]='abcd'\n",
    "arr[2]='abcde'   # U4 5유니코드 4글자까지만 설정해서 5글자는 들어갈수 없다. 그래서 abcd까지만 출력\n",
    "print(arr)\n",
    "\n",
    "print(\"===========================이차원배열=============================\")\n",
    "arr1=np.zeros((2,3))\n",
    "print(arr)\n",
    "print(\"=============================삼차원배열============================\")\n",
    "arr=np.ones((2,3,4))               #ones는 1로 채운다.  zeros는 0으로 채운다.\n",
    "print(arr)\n",
    "\n",
    "# 0으로 채워진 2차원배열을 1로 채워지게 하는 방법\n",
    "arr2=np.ones_like(arr1)           #기존에 있던 arr1을 1로 채워진다음 arr2로 변수 선언!\n",
    "print(arr2)\n",
    "\n",
    "\n",
    "# 0이나 1이 아니라 비어있는 값(메모리에 저장되어 있는 값)으로 하는 방법. \n",
    "arr3=np.empty((4,3))\n",
    "print(arr3)\n",
    "\n",
    "\n",
    "print(\"------------------------------------------------\")\n",
    "\n",
    "# arange사용!\n",
    "arr=np.arange(10)\n",
    "print(arr)\n",
    "print(np.arange(3,21,2))   #3부터 20까지 2씩증가해서 가져오기\n",
    "\n",
    "\n",
    "print(\"---------------------------------------------------\")\n",
    "# linspace 사용!\n",
    "arr=np.linspace(0,100,5)\n",
    "print(arr)"
   ]
  },
  {
   "cell_type": "markdown",
   "metadata": {},
   "source": [
    "### 전치연산(Transpose)"
   ]
  },
  {
   "cell_type": "code",
   "execution_count": 96,
   "metadata": {},
   "outputs": [
    {
     "name": "stdout",
     "output_type": "stream",
     "text": [
      "[[1 2 3]\n",
      " [4 5 6]]\n",
      "[[1 4]\n",
      " [2 5]\n",
      " [3 6]]\n"
     ]
    }
   ],
   "source": [
    "arr=np.array([[1,2,3],[4,5,6]])\n",
    "print(arr)\n",
    "\n",
    "print(arr.T)   # T 사용!\n",
    "\n"
   ]
  },
  {
   "cell_type": "markdown",
   "metadata": {},
   "source": [
    "### 배열의 크기 변형 : reshape(),flatten(),ravel()"
   ]
  },
  {
   "cell_type": "code",
   "execution_count": 111,
   "metadata": {},
   "outputs": [
    {
     "name": "stdout",
     "output_type": "stream",
     "text": [
      "[ 0  1  2  3  4  5  6  7  8  9 10 11]\n",
      "(12,)\n",
      "-------------------------------------------------\n",
      "[[ 0  1  2  3]\n",
      " [ 4  5  6  7]\n",
      " [ 8  9 10 11]]\n",
      "(3, 4)\n",
      "-------------------------------------------------\n",
      "[[ 0  1  2  3]\n",
      " [ 4  5  6  7]\n",
      " [ 8  9 10 11]]\n",
      "[[ 0  1]\n",
      " [ 2  3]\n",
      " [ 4  5]\n",
      " [ 6  7]\n",
      " [ 8  9]\n",
      " [10 11]]\n",
      "------------------------------------------------------\n",
      "[[[ 0  1  2]\n",
      "  [ 3  4  5]]\n",
      "\n",
      " [[ 6  7  8]\n",
      "  [ 9 10 11]]]\n",
      "[[[ 0  1  2]\n",
      "  [ 3  4  5]]\n",
      "\n",
      " [[ 6  7  8]\n",
      "  [ 9 10 11]]]\n",
      "------------------------------------------------\n",
      "[ 0  1  2  3  4  5  6  7  8  9 10 11]\n",
      "[ 0  1  2  3  4  5  6  7  8  9 10 11]\n"
     ]
    }
   ],
   "source": [
    "arr=np.arange(12)\n",
    "print(arr)\n",
    "print(arr.shape)\n",
    "print(\"-------------------------------------------------\")\n",
    "\n",
    "arr1=arr.reshape(3,4)    # 기존의 1차원배열인 arr을 3행 4열로 바꾸겠다\n",
    "print(arr1)\n",
    "print(arr1.shape)\n",
    "print(\"-------------------------------------------------\")\n",
    "\n",
    "arr2=arr.reshape(3, -1)       #행은 3개 이고 -1은 열을 -1개로 하겠다는 것이 아니라 알아서 자동적으로 열을 맞추라는 소리이다.\n",
    "print(arr2)\n",
    "\n",
    "arr2=arr.reshape(-1,2)       #행은 알아서 자동으로 계산  열은 2개\n",
    "print(arr2)\n",
    "\n",
    "print(\"------------------------------------------------------\")\n",
    "arr3=arr.reshape(2,2,3)     # 2행 3열 짜리 2개인 3차원배열 생성!\n",
    "print(arr3)\n",
    "arr3=arr.reshape(2,2,-1)\n",
    "print(arr3)\n",
    "\n",
    "\n",
    "print(\"------------------------------------------------\")\n",
    "#flatten(): 평평하게 만든다. 즉 복잡한 차원의 배열을 1차원으로 바꾼다.\n",
    "print(arr3.flatten())     \n",
    "\n",
    "\n",
    "#ravel()  :flatten과 같다. \n",
    "print(arr3.ravel())"
   ]
  },
  {
   "cell_type": "markdown",
   "metadata": {},
   "source": [
    "### 배열연결(병합) : stack(),hstack(),vstack(),dstack(),tile()"
   ]
  },
  {
   "cell_type": "code",
   "execution_count": 130,
   "metadata": {},
   "outputs": [
    {
     "name": "stdout",
     "output_type": "stream",
     "text": [
      "[[0. 0. 0. 1. 1.]\n",
      " [0. 0. 0. 1. 1.]]\n",
      "---------------------------------------------------------\n",
      "[[[1. 0.]\n",
      "  [1. 0.]\n",
      "  [1. 0.]\n",
      "  [1. 0.]]\n",
      "\n",
      " [[1. 0.]\n",
      "  [1. 0.]\n",
      "  [1. 0.]\n",
      "  [1. 0.]]\n",
      "\n",
      " [[1. 0.]\n",
      "  [1. 0.]\n",
      "  [1. 0.]\n",
      "  [1. 0.]]]\n",
      "(3, 4, 2)\n",
      "-----------------------------------------------------------\n",
      "[[[1. 1. 1. 1.]\n",
      "  [1. 1. 1. 1.]\n",
      "  [1. 1. 1. 1.]]\n",
      "\n",
      " [[0. 0. 0. 0.]\n",
      "  [0. 0. 0. 0.]\n",
      "  [0. 0. 0. 0.]]]\n",
      "(2, 3, 4)\n",
      "-------------------------------\n",
      "[[[1. 1. 1. 1.]\n",
      "  [1. 1. 1. 1.]\n",
      "  [1. 1. 1. 1.]]\n",
      "\n",
      " [[0. 0. 0. 0.]\n",
      "  [0. 0. 0. 0.]\n",
      "  [0. 0. 0. 0.]]]\n",
      "-------------------------------------------\n",
      "[ 0  1  2  3  4  5  6  7  8  9 10 11]\n",
      "[[0 1 2 0 1 2]\n",
      " [3 4 5 3 4 5]]\n",
      "[[0 1 2 0 1 2]\n",
      " [3 4 5 3 4 5]\n",
      " [0 1 2 0 1 2]\n",
      " [3 4 5 3 4 5]\n",
      " [0 1 2 0 1 2]\n",
      " [3 4 5 3 4 5]]\n"
     ]
    }
   ],
   "source": [
    "arr1=np.zeros((2,3))\n",
    "arr2=np.ones((2,2))\n",
    "# 행이 같기 때문에 행으로 합친다.\n",
    "\n",
    "arr3=np.hstack([arr1,arr2])        #hstack()   -> 행으로 합치기!\n",
    "print(arr3)   #3열 2열이 합쳐져서 5열이 되었다.\n",
    "\n",
    "print(\"---------------------------------------------------------\")\n",
    "\n",
    "arr3=np.ones((3,4))\n",
    "arr4=np.zeros((3,4))\n",
    "#dstack() : 차원을 합쳐주는 함수\n",
    "\n",
    "arr5=np.dstack([arr3,arr4])   \n",
    "print(arr5)\n",
    "print(arr5.shape)    #3행 4열 짜리 배열2개가  4헹2열 3개인 3차원배열이 되었다.  \n",
    "\n",
    "print(\"-----------------------------------------------------------\")\n",
    "#stack()\n",
    "arr1=np.ones((3,4))\n",
    "arr2=np.zeros((3,4))\n",
    "arr3=np.stack([arr1,arr2])\n",
    "print(arr3)\n",
    "print(arr3.shape)     # 2개 3행 4열\n",
    "\n",
    "print(\"-------------------------------\")\n",
    "arr3=np.stack([arr1,arr2],axis=0)    #axis=0 열기준    ,axis=1 행기준,  axis=2   면을 기준으로\n",
    "print(arr3)\n",
    "\n",
    "print(\"-------------------------------------------\")\n",
    "#tile()\n",
    "arr1=np.array([[0,1,2],[3,4,5]])\n",
    "print(arr)\n",
    "print(np.tile(arr1,2))\n",
    "print(np.tile(arr1,(3,2)))\n"
   ]
  },
  {
   "cell_type": "markdown",
   "metadata": {},
   "source": [
    "### 2차원 그리드 포인트 생성 : meshgrid()"
   ]
  },
  {
   "cell_type": "code",
   "execution_count": 135,
   "metadata": {},
   "outputs": [
    {
     "name": "stdout",
     "output_type": "stream",
     "text": [
      "[0 1 2]\n",
      "[0 1 2 3 4]\n",
      "-------------------------------------------\n",
      "[[0 1 2]\n",
      " [0 1 2]\n",
      " [0 1 2]\n",
      " [0 1 2]\n",
      " [0 1 2]]\n",
      "[[0 0 0]\n",
      " [1 1 1]\n",
      " [2 2 2]\n",
      " [3 3 3]\n",
      " [4 4 4]]\n"
     ]
    },
    {
     "data": {
      "text/plain": [
       "<matplotlib.collections.PathCollection at 0x1a5479d9b08>"
      ]
     },
     "execution_count": 135,
     "metadata": {},
     "output_type": "execute_result"
    },
    {
     "data": {
      "image/png": "[encoded data removed]",
      "text/plain": [
       "<Figure size 432x288 with 1 Axes>"
      ]
     },
     "metadata": {
      "needs_background": "light"
     },
     "output_type": "display_data"
    }
   ],
   "source": [
    "x=np.arange(3)          # x좌표\n",
    "print(x)  \n",
    "\n",
    "y=np.arange(5)          # y좌표\n",
    "print(y)                   \n",
    "\n",
    "print(\"-------------------------------------------\")\n",
    "X,Y=np.meshgrid(x,y)\n",
    "print(X)\n",
    "print(Y)\n",
    "\n",
    "\n",
    "import matplotlib.pylab as plt\n",
    "plt.scatter(X,Y)"
   ]
  },
  {
   "cell_type": "code",
   "execution_count": 25,
   "metadata": {},
   "outputs": [
    {
     "name": "stdout",
     "output_type": "stream",
     "text": [
      "[[0 1 2]\n",
      " [0 1 2]\n",
      " [0 1 2]\n",
      " [0 1 2]\n",
      " [0 1 2]] [[0 0 0]\n",
      " [1 1 1]\n",
      " [2 2 2]\n",
      " [3 3 3]\n",
      " [4 4 4]]\n",
      "[[(0, 0), (1, 0), (2, 0)], [(0, 1), (1, 1), (2, 1)], [(0, 2), (1, 2), (2, 2)], [(0, 3), (1, 3), (2, 3)], [(0, 4), (1, 4), (2, 4)]]\n"
     ]
    },
    {
     "ename": "NameError",
     "evalue": "name 'plt' is not defined",
     "output_type": "error",
     "traceback": [
      "\u001b[1;31m---------------------------------------------------------------------------\u001b[0m",
      "\u001b[1;31mNameError\u001b[0m                                 Traceback (most recent call last)",
      "\u001b[1;32m<ipython-input-25-2c0320479255>\u001b[0m in \u001b[0;36m<module>\u001b[1;34m\u001b[0m\n\u001b[0;32m     12\u001b[0m \u001b[0mprint\u001b[0m\u001b[1;33m(\u001b[0m\u001b[0mA\u001b[0m\u001b[1;33m,\u001b[0m\u001b[0mB\u001b[0m\u001b[1;33m)\u001b[0m\u001b[1;33m\u001b[0m\u001b[1;33m\u001b[0m\u001b[0m\n\u001b[0;32m     13\u001b[0m \u001b[0mprint\u001b[0m\u001b[1;33m(\u001b[0m\u001b[1;33m[\u001b[0m\u001b[0mlist\u001b[0m\u001b[1;33m(\u001b[0m\u001b[0mzip\u001b[0m\u001b[1;33m(\u001b[0m\u001b[0ma\u001b[0m\u001b[1;33m,\u001b[0m \u001b[0mb\u001b[0m\u001b[1;33m)\u001b[0m\u001b[1;33m)\u001b[0m \u001b[1;32mfor\u001b[0m \u001b[0ma\u001b[0m\u001b[1;33m,\u001b[0m \u001b[0mb\u001b[0m \u001b[1;32min\u001b[0m \u001b[0mzip\u001b[0m\u001b[1;33m(\u001b[0m\u001b[0mA\u001b[0m\u001b[1;33m,\u001b[0m \u001b[0mB\u001b[0m\u001b[1;33m)\u001b[0m\u001b[1;33m]\u001b[0m\u001b[1;33m)\u001b[0m\u001b[1;33m\u001b[0m\u001b[1;33m\u001b[0m\u001b[0m\n\u001b[1;32m---> 14\u001b[1;33m \u001b[0mplt\u001b[0m\u001b[1;33m.\u001b[0m\u001b[0mscatter\u001b[0m\u001b[1;33m(\u001b[0m\u001b[0mA\u001b[0m\u001b[1;33m,\u001b[0m\u001b[0mB\u001b[0m\u001b[1;33m)\u001b[0m\u001b[1;33m\u001b[0m\u001b[1;33m\u001b[0m\u001b[0m\n\u001b[0m",
      "\u001b[1;31mNameError\u001b[0m: name 'plt' is not defined"
     ]
    }
   ],
   "source": [
    "'''[[(0,0),(1,0),(2,0)],\n",
    "    [(0,1),(1,1),(2,1)],\n",
    "    [(0,2),(1,2),(2,2)],\n",
    "    [(0,3),(1,3),(2,3)],\n",
    "    [(0,4),(1,4),(2,4)]]\n",
    "'''\n",
    "\n",
    "\n",
    "a = np.arange(3)\n",
    "b = np.arange(5)\n",
    "A,B = np.meshgrid(a,b)\n",
    "print(A,B)\n",
    "print([list(zip(a, b)) for a, b in zip(A, B)])\n",
    "plt.scatter(A,B)\n"
   ]
  },
  {
   "cell_type": "markdown",
   "metadata": {},
   "source": [
    "### 브로드캐스팅(BroadCasting)\n",
    "       - 크기가 서로 다른 행렬(벡터)끼리 연산을 가능하게 하는 것"
   ]
  },
  {
   "cell_type": "code",
   "execution_count": 139,
   "metadata": {},
   "outputs": [
    {
     "name": "stdout",
     "output_type": "stream",
     "text": [
      "[0, 1, 2, 3, 4]\n",
      "[[0], [1], [2], [3], [4]]\n",
      "[range(0, 3), range(1, 4), range(2, 5), range(3, 6), range(4, 7)]\n"
     ]
    }
   ],
   "source": [
    "print([i for i in range(5)])\n",
    "print([[i] for i in range(5)])\n",
    "print([range(7)[i:i+3] for i in range(5)])"
   ]
  },
  {
   "cell_type": "code",
   "execution_count": 143,
   "metadata": {},
   "outputs": [
    {
     "name": "stdout",
     "output_type": "stream",
     "text": [
      "[[ 0  1  2]\n",
      " [ 2  3  4]\n",
      " [ 4  5  6]\n",
      " [ 6  7  8]\n",
      " [ 8  9 10]]\n"
     ]
    }
   ],
   "source": [
    "x= np.vstack([range(7)[i:i+3] for i in range(5)])\n",
    "y=np.arange(5)[:, np.newaxis]\n",
    "print(x+y)"
   ]
  },
  {
   "cell_type": "markdown",
   "metadata": {},
   "source": [
    "### 차원축소(dimension reduction)연산\n",
    "    - 최대값/최소값 : max(),min(),argmin(),argmax()\n",
    "    - 대표값: sum(),mena(),median(),std(),var()\n",
    "    - 논리값: all(),any()\n",
    "    "
   ]
  },
  {
   "cell_type": "code",
   "execution_count": 146,
   "metadata": {},
   "outputs": [
    {
     "name": "stdout",
     "output_type": "stream",
     "text": [
      "0\n",
      "1\n",
      "True\n",
      "False\n"
     ]
    }
   ],
   "source": [
    "x=np.array([1,3,2])\n",
    "print(np.argmin(x))\n",
    "print(np.argmax(x))\n",
    "\n",
    "print(np.any([True,True,False]))\n",
    "print(np.all([True,True,False]))"
   ]
  },
  {
   "cell_type": "code",
   "execution_count": 149,
   "metadata": {},
   "outputs": [
    {
     "name": "stdout",
     "output_type": "stream",
     "text": [
      "6\n",
      "[3 3]\n",
      "[2 4]\n"
     ]
    }
   ],
   "source": [
    "x=np.array([[1,1],[2,2]])\n",
    "print(x.sum())\n",
    "print(x.sum(axis=0))     # 열 합계    \n",
    "print(x.sum(axis=1))     # 행 합계"
   ]
  },
  {
   "cell_type": "markdown",
   "metadata": {},
   "source": [
    "### 기술통계\n",
    "   - len() \n",
    "   - sum(),mean(),median(),std(),var()\n",
    "   - percentile() : 사분위수"
   ]
  },
  {
   "cell_type": "code",
   "execution_count": 155,
   "metadata": {},
   "outputs": [
    {
     "name": "stdout",
     "output_type": "stream",
     "text": [
      "최소값 :  -24.0\n",
      "최대값 :  23.0\n",
      "1사분위 :  0.0\n",
      "2사분위(중앙값) :  5.0\n",
      "3사분위 :  10.0\n"
     ]
    }
   ],
   "source": [
    "x = np.array([18,   5,  10,  23,  19,  -8,  10,   0,   0,   5,   2,  15,   8,\n",
    "              2,   5,   4,  15,  -1,   4,  -7, -24,   7,   9,  -6,  23, -13])\n",
    "print('최소값 : ',np.percentile(x,0))\n",
    "print('최대값 : ',np.percentile(x,100))\n",
    "print('1사분위 : ',np.percentile(x,25))\n",
    "print('2사분위(중앙값) : ',np.percentile(x,50))\n",
    "print('3사분위 : ',np.percentile(x,75))"
   ]
  },
  {
   "cell_type": "markdown",
   "metadata": {},
   "source": [
    "### 정렬"
   ]
  },
  {
   "cell_type": "code",
   "execution_count": 165,
   "metadata": {},
   "outputs": [
    {
     "name": "stdout",
     "output_type": "stream",
     "text": [
      "[[ 3  4  5  7]\n",
      " [ 1  9 11 12]\n",
      " [ 1  2 14 15]]\n",
      "[[ 3  4  5  7]\n",
      " [ 1  9 11 12]\n",
      " [ 1  2 14 15]]\n",
      "[[ 1  3  1  7]\n",
      " [ 2 12  5  9]\n",
      " [ 4 15 11 14]]\n",
      "[[ 3  4  5  7]\n",
      " [ 1  9 11 12]\n",
      " [ 1  2 14 15]]\n",
      "----------------------------------\n",
      "[2 3 1 0]\n",
      "[12 25 38 42]\n"
     ]
    }
   ],
   "source": [
    "arr=np.array([[4,3,5,7],[1,12,11,9],[2,15,1,14]])\n",
    "\n",
    "print(np.sort(arr))\n",
    "print(np.sort(arr,axis=1))    # axis=1 행기준\n",
    "print(np.sort(arr,axis=0))    # axis=0 열기준\n",
    "\n",
    "arr.sort()   # inplace 따로 변수로 설정하지 않아도 변동사항이 원본에 저장되어 있는것! \n",
    "             # sort에는 inplace 기능이 있다. 즉  arr에 자동적으로 변경사항이 저장된다.\n",
    "\n",
    "print(arr)\n",
    "\n",
    "\n",
    "print(\"----------------------------------\")\n",
    "\n",
    "#argsort()\n",
    "arr=np.array([42,38,12,25])\n",
    "idx=np.argsort(arr)\n",
    "print(idx)\n",
    "print(arr[idx]) "
   ]
  },
  {
   "cell_type": "markdown",
   "metadata": {},
   "source": [
    "### 난수\n",
    "     - rand() : 0~1 사이의 균일 분포   \n",
    "     - randn() : 가우시안 표준 정규분포\n",
    "     - randint() : 균일분포의 정수 난수\n",
    " "
   ]
  },
  {
   "cell_type": "code",
   "execution_count": 168,
   "metadata": {},
   "outputs": [
    {
     "name": "stdout",
     "output_type": "stream",
     "text": [
      "[0.89453759 0.84658862 0.94498536 0.22015516 0.89171552 0.91398537\n",
      " 0.02750997 0.56694391 0.60879388 0.05473501]\n",
      "------------------------------\n",
      "[-1.27014859  1.47179097  0.66494157  0.98830086  0.37804224 -1.1400226\n",
      "  0.18233795 -0.72626316  0.14414044 -1.22271104]\n",
      "------------------------------\n",
      "[[ 0.49167489 -0.447289   -1.34939076 -0.98408826  0.32333021]\n",
      " [-1.3137951  -2.07934197 -0.09892528 -0.35677007  1.38368191]\n",
      " [ 0.6734922  -0.80507939 -1.3298516   0.3730224   0.04998414]]\n"
     ]
    }
   ],
   "source": [
    "print(np.random.rand(10))          #0~1사이의 소수 10개 출력\n",
    "print(\"------------------------------\")\n",
    "print(np.random.randn(10))\n",
    "print(\"------------------------------\")\n",
    "print(np.random.randn(3,5))\n"
   ]
  },
  {
   "cell_type": "code",
   "execution_count": 181,
   "metadata": {},
   "outputs": [
    {
     "name": "stdout",
     "output_type": "stream",
     "text": [
      "3\n",
      "[13 16 12 12 14 12 15 17 15 12 13 16 17 12 14 13 16 14 14 15 12 14 11 15\n",
      " 19 15 18 17 14 13 18 12 12 17 12 15 18 13 11 14 13 18 14 19 16 19 19 14\n",
      " 16 15 13 19 18 11 19 12 19 14 19 19 18 17 16 19 18 11 12 12 11 11 14 18\n",
      " 19 13 14 14 13 11 19 15 12 15 12 11 12 11 11 11 11 13 13 17 18 15 16 16\n",
      " 15 16 11 16]\n",
      "[[16 16 19 17]\n",
      " [19 16 11 11]\n",
      " [16 16 18 11]]\n"
     ]
    }
   ],
   "source": [
    "print(np.random.randint(10))     #0~9까지의 정수를 하나 뽑아온다.\n",
    "\n",
    "print(np.random.randint(11,20,size=100))  #11~19까지의 임의의 수 100개를 출력한다.\n",
    "print(np.random.randint(11,20,size=(3,4))) #11~19까지의 임의의 수 3행 4열로 출력한다."
   ]
  },
  {
   "cell_type": "code",
   "execution_count": 185,
   "metadata": {},
   "outputs": [
    {
     "data": {
      "text/plain": [
       "array([0.54340494, 0.27836939, 0.42451759, 0.84477613, 0.00471886])"
      ]
     },
     "execution_count": 185,
     "metadata": {},
     "output_type": "execute_result"
    }
   ],
   "source": [
    "# 재현성\n",
    "np.random.seed(100)      # seed()없이 rand(5)만 하면 할 때마다 값이 바뀌지만 seed를 해주고 나서 하면 값이 고정되어있게 된다. \n",
    "np.random.rand(5)          \n"
   ]
  },
  {
   "cell_type": "code",
   "execution_count": 188,
   "metadata": {},
   "outputs": [
    {
     "name": "stdout",
     "output_type": "stream",
     "text": [
      "[0 1 2 3 4 5 6 7 8 9]\n",
      "[6 9 8 7 2 5 1 3 0 4]\n"
     ]
    }
   ],
   "source": [
    "# 데이터의 순서바꾸기!\n",
    "x= np.arange(10)\n",
    "print(x)\n",
    "\n",
    "np.random.shuffle(x)\n",
    "print(x)"
   ]
  },
  {
   "cell_type": "code",
   "execution_count": 196,
   "metadata": {},
   "outputs": [
    {
     "data": {
      "text/plain": [
       "array([3, 3, 3, 2, 3, 2, 2, 3, 0, 2])"
      ]
     },
     "execution_count": 196,
     "metadata": {},
     "output_type": "execute_result"
    }
   ],
   "source": [
    "# 샘플링 : 복원추출(복원이 디폴트값이다),비복원추출\n",
    "\n",
    "np.random.choice(5,5)\n",
    "np.random.choice(5,3)   # 복원추출\n",
    "\n",
    "np.random.choice(5,5,replace=False)           #디폴틀 replace=True (복원. 같은 것이 중복되어서 나올 수 있다.)\n",
    "np.random.choice(5,3,replace=False)           #replace=False (비복원, 같은 것이 중복되어서 나올 수 없다.)\n",
    "\n",
    "\n",
    "np.random.choice(5,10,p=[0.1,0,0.3,0.6,0])    # 0~4까지의 수를 10번 뽑기\n",
    "                                              # 0이 나올 확률 0.1 , 1이 나올 확률 1, 2가 나올 확률 0.3, 3이 나올 확률 0.6, 4 확률 0\n",
    "    \n",
    "    "
   ]
  },
  {
   "cell_type": "markdown",
   "metadata": {},
   "source": [
    "### 정수형 데이터 카운팅 : unique(),bincount()"
   ]
  },
  {
   "cell_type": "code",
   "execution_count": 199,
   "metadata": {},
   "outputs": [
    {
     "name": "stdout",
     "output_type": "stream",
     "text": [
      "5\n",
      "['a' 'b' 'c']\n"
     ]
    }
   ],
   "source": [
    "arr=np.array(['a','b','b','c','a'])\n",
    "print(len(arr)) \n",
    "print(np.unique(arr))       # 중복을 제거하고 출력!"
   ]
  },
  {
   "cell_type": "code",
   "execution_count": 202,
   "metadata": {},
   "outputs": [
    {
     "name": "stdout",
     "output_type": "stream",
     "text": [
      "['a' 'b' 'c']\n",
      "[2 2 1]\n"
     ]
    }
   ],
   "source": [
    "index,count=np.unique(arr,return_counts=True)           #return_counts =Ture는 중복되 것이 몇개인지 출력해 준다.\n",
    "print(index)\n",
    "print(count)"
   ]
  },
  {
   "cell_type": "code",
   "execution_count": 204,
   "metadata": {},
   "outputs": [
    {
     "name": "stdout",
     "output_type": "stream",
     "text": [
      "[0 2 3 1 0 0]\n"
     ]
    }
   ],
   "source": [
    "# bincount : 발생하지 않은 사건에 대해서도 카운팅!\n",
    "\n",
    "arr= np.array([1,1,2,2,2,3]) \n",
    "print(np.bincount(arr,minlength=6))"
   ]
  },
  {
   "cell_type": "markdown",
   "metadata": {},
   "source": [
    "### 데이터분석실습 : 영화평점데이터 (06.02.화)\n",
    "    https://grouplens.org/datasets/movielens/ml-1m.zip"
   ]
  },
  {
   "cell_type": "code",
   "execution_count": 3,
   "metadata": {},
   "outputs": [
    {
     "name": "stdout",
     "output_type": "stream",
     "text": [
      "[[        1      1193         5 978300760]\n",
      " [        1       661         3 978302109]\n",
      " [        1       914         3 978301968]\n",
      " ...\n",
      " [     6040       562         5 956704746]\n",
      " [     6040      1096         4 956715648]\n",
      " [     6040      1097         4 956715569]]\n",
      "(1000209, 4)\n"
     ]
    }
   ],
   "source": [
    "data=np.loadtxt('data/movie/ratings.dat',delimiter='::',dtype=np.int64)\n",
    "print(data)\n",
    "print(data.shape)"
   ]
  },
  {
   "cell_type": "code",
   "execution_count": 8,
   "metadata": {},
   "outputs": [
    {
     "data": {
      "text/plain": [
       "array([[        1,      1193,         5, 978300760],\n",
       "       [        1,       661,         3, 978302109],\n",
       "       [        1,       914,         3, 978301968],\n",
       "       [        1,      3408,         4, 978300275],\n",
       "       [        1,      2355,         5, 978824291],\n",
       "       [        1,      1197,         3, 978302268],\n",
       "       [        1,      1287,         5, 978302039],\n",
       "       [        1,      2804,         5, 978300719],\n",
       "       [        1,       594,         4, 978302268],\n",
       "       [        1,       919,         4, 978301368],\n",
       "       [        1,       595,         5, 978824268],\n",
       "       [        1,       938,         4, 978301752],\n",
       "       [        1,      2398,         4, 978302281],\n",
       "       [        1,      2918,         4, 978302124],\n",
       "       [        1,      1035,         5, 978301753],\n",
       "       [        1,      2791,         4, 978302188],\n",
       "       [        1,      2687,         3, 978824268],\n",
       "       [        1,      2018,         4, 978301777],\n",
       "       [        1,      3105,         5, 978301713],\n",
       "       [        1,      2797,         4, 978302039],\n",
       "       [        1,      2321,         3, 978302205]], dtype=int64)"
      ]
     },
     "execution_count": 8,
     "metadata": {},
     "output_type": "execute_result"
    }
   ],
   "source": [
    "#1행부터 20행까지 출력\n",
    "data[:21,:]\n"
   ]
  },
  {
   "cell_type": "code",
   "execution_count": 13,
   "metadata": {},
   "outputs": [
    {
     "data": {
      "text/plain": [
       "array([[   1,  720],\n",
       "       [   1, 1270],\n",
       "       [   1,  527],\n",
       "       [   1, 2340],\n",
       "       [   1,   48],\n",
       "       [   1, 1097],\n",
       "       [   1, 1721],\n",
       "       [   1, 1545],\n",
       "       [   1,  745],\n",
       "       [   1, 2294]], dtype=int64)"
      ]
     },
     "execution_count": 13,
     "metadata": {},
     "output_type": "execute_result"
    }
   ],
   "source": [
    "#21행부터 30행까지 userid와 movieid 만 출력\n",
    "data[21:31,0:2]"
   ]
  },
  {
   "cell_type": "code",
   "execution_count": 17,
   "metadata": {},
   "outputs": [
    {
     "name": "stdout",
     "output_type": "stream",
     "text": [
      "3.581564453029317\n",
      "3.581564453029317\n",
      "3.581564453029317\n"
     ]
    }
   ],
   "source": [
    "# 전체 평점 평균\n",
    "print(sum(data[:,2])/len(data))\n",
    "print(data[:,2].mean())\n",
    "print(np.mean(data[:,2]))"
   ]
  },
  {
   "cell_type": "code",
   "execution_count": 22,
   "metadata": {},
   "outputs": [
    {
     "name": "stdout",
     "output_type": "stream",
     "text": [
      "(6040,)\n",
      "결과:  [[1, 4.188679245283019], [2, 3.7131782945736433], [3, 3.9019607843137254], [4, 4.190476190476191], [5, 3.1464646464646466], [6, 3.9014084507042255], [7, 4.32258064516129], [8, 3.884892086330935], [9, 3.7358490566037736], [10, 4.114713216957606], [11, 3.2773722627737225]]\n"
     ]
    }
   ],
   "source": [
    "# 사용자별 평점 평균(10명만 출력)\n",
    "user_id=np.unique(data[:,0])\n",
    "print(user_id.shape)\n",
    "\n",
    "mean_value=[]\n",
    "for id in user_id:                 #6040명이 있으므로 6040번 돌아간다. \n",
    "    data_user=data[data[:,0]==id, :]    # 행은 user_id에 맞춰서 골라서 가져오겠다. 열은 다 가져오기!\n",
    "    value=data_user[:,2].mean()\n",
    "    mean_value.append([id,value])\n",
    "    \n",
    "print(\"결과: \", mean_value[:11])    \n",
    "    "
   ]
  },
  {
   "cell_type": "code",
   "execution_count": 29,
   "metadata": {},
   "outputs": [
    {
     "name": "stdout",
     "output_type": "stream",
     "text": [
      "282\n"
     ]
    }
   ],
   "source": [
    "#최고평점구하기\n",
    "arr_mean_values=np.array(mean_value)\n",
    "print(np.argmax(arr_mean_values[:,1]))"
   ]
  },
  {
   "cell_type": "code",
   "execution_count": 23,
   "metadata": {},
   "outputs": [
    {
     "name": "stdout",
     "output_type": "stream",
     "text": [
      "<class 'numpy.ndarray'>\n"
     ]
    }
   ],
   "source": [
    "#사용자별 평점 평균 데이터를 파일로 저장\n",
    "arr_mean_values=np.array(mean_value)\n",
    "print(type(arr_mean_values))\n",
    "\n",
    "np.savetxt('data/movie/id_ration.csv',arr_mean_values,delimiter=',',\n",
    "          fmt='%.1f')"
   ]
  },
  {
   "cell_type": "code",
   "execution_count": 37,
   "metadata": {},
   "outputs": [
    {
     "data": {
      "text/plain": [
       "[1, 3, 5]"
      ]
     },
     "execution_count": 37,
     "metadata": {},
     "output_type": "execute_result"
    }
   ],
   "source": [
    "#   :: (Extended Slices)\n",
    "\n",
    "arr=range(10)\n",
    "list(arr)\n",
    "\n",
    "list(arr[::2])    # 처음부터 끝까지 2간격으로 접근\n",
    "list(arr[1::2])   # 인덱스가 1부터 2간격으로 \n",
    "list(arr[::-1])   # 역순으로 접근\n",
    "list(arr[::-2])   # 역순으로 2간격으로\n",
    "list(arr[3::-1])  # 3부터 역순으로\n",
    "list(arr[1:6:2])  # 1부터 5까지 2간격으로"
   ]
  },
  {
   "cell_type": "code",
   "execution_count": null,
   "metadata": {},
   "outputs": [],
   "source": []
  },
  {
   "cell_type": "code",
   "execution_count": null,
   "metadata": {},
   "outputs": [],
   "source": [
    "\n"
   ]
  },
  {
   "cell_type": "code",
   "execution_count": null,
   "metadata": {},
   "outputs": [],
   "source": []
  }
 ],
 "metadata": {
  "kernelspec": {
   "display_name": "Python 3",
   "language": "python",
   "name": "python3"
  },
  "language_info": {
   "codemirror_mode": {
    "name": "ipython",
    "version": 3
   },
   "file_extension": ".py",
   "mimetype": "text/x-python",
   "name": "python",
   "nbconvert_exporter": "python",
   "pygments_lexer": "ipython3",
   "version": "3.7.6"
  }
 },
 "nbformat": 4,
 "nbformat_minor": 4
}
