{
 "cells": [
  {
   "cell_type": "markdown",
   "metadata": {},
   "source": [
    "# 제어문(Control Statement)\n",
    "#### 1)  조건문\n",
    "    - if     \n",
    "#### 2) 반복문\n",
    "    - for\n",
    "    - while "
   ]
  },
  {
   "cell_type": "markdown",
   "metadata": {},
   "source": [
    "### if \n",
    "   1) if 조건문\n",
    "     \n",
    "     if 조건식 :\n",
    "        실행할 문장\n",
    "        \n",
    "      elif  조건식: \n",
    "         문장\n",
    "      elif 조건식:\n",
    "         문장       \n",
    "      else:\n",
    "         문장\n",
    "        \n",
    "     2) 조건문의 중첩(Nested)\n",
    "        if  조건문:\n",
    "            문장\n",
    "            \n",
    "            if 조건문:\n",
    "                문장\n",
    "                  \n",
    "    "
   ]
  },
  {
   "cell_type": "code",
   "execution_count": 3,
   "metadata": {},
   "outputs": [
    {
     "name": "stdout",
     "output_type": "stream",
     "text": [
      "숫자를 입력하세요>5\n",
      "홀수\n"
     ]
    }
   ],
   "source": [
    "#입력받은 숫자가 짝수인지 홀수인지 판별하는 프로그램\n",
    "num1= int(input(\"숫자를 입력하세요>\"))\n",
    "\n",
    "if num1 %2 ==0:\n",
    "    print(\"짝수\")\n",
    "else: print(\"홀수\")   "
   ]
  },
  {
   "cell_type": "code",
   "execution_count": 36,
   "metadata": {},
   "outputs": [
    {
     "name": "stdout",
     "output_type": "stream",
     "text": [
      "알파벳을 한 개를 입력하세요>hh\n",
      "오답\n",
      "------------------------------------\n",
      "오답\n"
     ]
    }
   ],
   "source": [
    "# 입력받은 값이  a,b,c,d 이면 ' 정답'이라고 출력 그렇지 않으면 오답이라고 출력\n",
    "list1=['a','b','c','d']\n",
    "answer= input(\"알파벳을 한 개를 입력하세요>\")\n",
    "if answer in list1: \n",
    "    print(\"정답\")\n",
    "else:\n",
    "    print(\"오답\") \n",
    "print(\"------------------------------------\")\n",
    "    \n",
    "if answer>='a' and answer <= 'd':\n",
    "    print(\"정답\")\n",
    "else: \n",
    "    print(\"오답\")\n",
    "    \n",
    "    "
   ]
  },
  {
   "cell_type": "code",
   "execution_count": 41,
   "metadata": {},
   "outputs": [
    {
     "name": "stdout",
     "output_type": "stream",
     "text": [
      "65\n",
      "97\n"
     ]
    }
   ],
   "source": [
    "# ord() : 아스키코드로 바꿔주는 함수\n",
    "print(ord('A'))\n",
    "print(ord('a'))"
   ]
  },
  {
   "cell_type": "markdown",
   "metadata": {},
   "source": [
    "윤년 계산 프로그램\n",
    "-------------------\n",
    "1) 기원 연수가 4로 나누어 떨어지는 해는 우선 윤년으로 한다.\n",
    "\n",
    "2) 그 중에서 100으로 나누어 떨어지는 해는 평년으로 한다.\n",
    "\n",
    "3) 다만 400으로 나누어 떨어지는 해는 다시 윤년으로 정한다.\n",
    "\n",
    "연도를 입력 : 2019(엔터)\n",
    "결과 : 윤년입니다.(윤년이 아닙니다)"
   ]
  },
  {
   "cell_type": "code",
   "execution_count": 48,
   "metadata": {},
   "outputs": [
    {
     "name": "stdout",
     "output_type": "stream",
     "text": [
      "연도를 입력하세요100\n",
      "윤년\n"
     ]
    }
   ],
   "source": [
    "year= int(input(\"연도를 입력하세요\"))\n",
    "if year % 4 == 0:\n",
    "    print(\"평년\")\n",
    "    "
   ]
  },
  {
   "cell_type": "code",
   "execution_count": 46,
   "metadata": {},
   "outputs": [
    {
     "name": "stdout",
     "output_type": "stream",
     "text": [
      "시험점수를 입력하세요85\n",
      "B\n"
     ]
    }
   ],
   "source": [
    "# 시험점수\n",
    "avg= int(input(\"시험점수를 입력하세요\"))\n",
    "if avg >=90:\n",
    "    print('A')\n",
    "elif avg>= 80:\n",
    "    print('B')\n",
    "elif avg>= 70:\n",
    "    print('C')\n",
    "elif avg>= 60:\n",
    "    print('D')\n",
    "else:\n",
    "    print('F')"
   ]
  },
  {
   "cell_type": "code",
   "execution_count": 55,
   "metadata": {},
   "outputs": [
    {
     "name": "stdout",
     "output_type": "stream",
     "text": [
      "숫자를 입력하세요(정수형태만)100\n",
      "숫자를 입력하세요(정수형태만)3\n",
      "원하는 계산을 선택하세요\n",
      " 1.+ 2.- 3.* 4./\n",
      "원하는 계산의 번호를 입력하세요3\n",
      "100 x 3 = 300\n"
     ]
    }
   ],
   "source": [
    "# 전자계산기 프로그램\n",
    "# 연산자를 입력받아서 사칙연산\n",
    "num1=int(input(\"숫자를 입력하세요(정수형태만)\"))\n",
    "num2=int(input(\"숫자를 입력하세요(정수형태만)\"))\n",
    "print(\"원하는 계산을 선택하세요\\n 1.+ 2.- 3.* 4./\")\n",
    "result=int(input(\"원하는 계산의 번호를 입력하세요\"))\n",
    "if result==1:\n",
    "         print(num1,\"+\",num2,\"=\",num1+num2)\n",
    "elif result ==2:\n",
    "      print(num1,\"-\",num2,\"=\",num1-num2)\n",
    "elif result ==3:\n",
    "    print(num1,\"x\",num2,\"=\",num1*num2)\n",
    "elif result==4:\n",
    "    print(num1,\"/\",num2,\"=\",num1/num2)\n",
    "else: print(\"입력오류\")    "
   ]
  },
  {
   "cell_type": "code",
   "execution_count": 69,
   "metadata": {},
   "outputs": [
    {
     "name": "stdout",
     "output_type": "stream",
     "text": [
      "숫자>107\n",
      "숫자>7\n",
      "숫자>107\n",
      "가장 큰수:a=c\n"
     ]
    }
   ],
   "source": [
    "#중첩조건문\n",
    "a=int(input(\"숫자>\"))\n",
    "b=int(input(\"숫자>\"))\n",
    "c=int(input(\"숫자>\"))\n",
    "if a > b:\n",
    "   if a>c:\n",
    "     print(\"a가 제일 크다.\")\n",
    "   elif a<c:\n",
    "     print(\"c가 제일 크다\")\n",
    "   else: \n",
    "     print(\"가장 큰수:a=c\")     \n",
    "elif a<b:\n",
    "    if b>c:\n",
    "        print(\"b가 제일크다\")\n",
    "    elif b<c:\n",
    "        print(\"c가 제일크다\")\n",
    "    else:\n",
    "        print(\"가장큰수:b=c\")\n",
    "else:\n",
    "    print(\"가장큰수:a=b\")\n",
    "    "
   ]
  },
  {
   "cell_type": "code",
   "execution_count": 66,
   "metadata": {},
   "outputs": [
    {
     "name": "stdout",
     "output_type": "stream",
     "text": [
      "아이디: tom\n",
      "패스워드: 1234\n",
      "로그인성공!\n"
     ]
    }
   ],
   "source": [
    "# 아이디와 패스워드를 입력받아 로그인하는 프로그램(id: tom  pw:1234)\n",
    "id= input(\"아이디: \")\n",
    "pw=int(input(\"패스워드: \"))\n",
    "             \n",
    "if id != 'tom':\n",
    "    if pw != 1234:\n",
    "             print(\"아이디와 패스워드가 잘못 입력되었습니다\")\n",
    "    else:\n",
    "             print(\"아이디 입력오류\")\n",
    "else: \n",
    "    if pw != 1234:\n",
    "             print(\"비밀번호입력오류\")\n",
    "    else:\n",
    "             print(\"로그인성공!\")\n"
   ]
  },
  {
   "cell_type": "code",
   "execution_count": 99,
   "metadata": {},
   "outputs": [
    {
     "name": "stdout",
     "output_type": "stream",
     "text": [
      "가위,바위,보 중에서 하나를 선택하세요바위\n",
      "computer:가위, you: 바위 \n",
      " 당신이 이겼습니다!\n"
     ]
    }
   ],
   "source": [
    "# 가위,바위,보 프로그램\n",
    "# 가위,바위,보 중에서 하나를 선택하세요>\n",
    "# 결과: ex) 사용자가 이겼습니다 \n",
    "\n",
    "import random\n",
    "me=input(\"가위,바위,보 중에서 하나를 선택하세요\")\n",
    "computer=random.randint(1,3)\n",
    "if me == '가위':\n",
    "    if computer==1:\n",
    "        print(\"computer:가위, you: 가위 \\n 비겼습니다!\")\n",
    "    elif computer==2:\n",
    "        print(\"computer:바위, you: 가위 \\n 컴퓨터가 이겼습니다!\")\n",
    "    else:\n",
    "        print(\"computer:보, you: 가위 \\n 당신이 이겼습니다!\")\n",
    "elif me == '바위':\n",
    "    if computer==1:\n",
    "        print(\"computer:가위, you: 바위 \\n 당신이 이겼습니다!\")      \n",
    "    elif computer==2:\n",
    "        print(\"computer:바위, you: 바위 \\n 비겼습니다\")     \n",
    "    else:\n",
    "        print(\"computer: 보, you: 바위 \\n 컴퓨터가 이겼습니다!\")\n",
    "elif me== '보':\n",
    "    if computer==1:\n",
    "        print(\"computer:가위, you: 보 \\n 컴퓨터가 이겼습니다!\")\n",
    "    elif computer==2:\n",
    "        print(\"computer:바위, you: 보 \\n 당신이 이겼습니다!\")\n",
    "    else:\n",
    "        print(\"computer:보, you: 보 \\n 비겼습니다\")\n",
    "else:\n",
    "    print(\"입력오류\")\n"
   ]
  },
  {
   "cell_type": "markdown",
   "metadata": {},
   "source": [
    "## 반복문\n"
   ]
  },
  {
   "cell_type": "markdown",
   "metadata": {},
   "source": [
    "### while\n",
    "   while  조건식:\n",
    "        \n",
    "        문장.................."
   ]
  },
  {
   "cell_type": "code",
   "execution_count": 124,
   "metadata": {},
   "outputs": [
    {
     "name": "stdout",
     "output_type": "stream",
     "text": [
      "*   *   *   *   *   *   *   *   *   *   \n",
      "\n",
      "합계:  55\n",
      "결과:  1024\n"
     ]
    }
   ],
   "source": [
    "cnt=0\n",
    "while cnt<10:\n",
    "    print(\"*\",end='   ')\n",
    "    cnt +=1\n",
    "print(\"\\n\")   \n",
    "    \n",
    "i=0\n",
    "total=0\n",
    "while i<11:    \n",
    "    total= total+i\n",
    "    i += 1\n",
    "print(\"합계: \", total)\n",
    "\n",
    "\n",
    "i=0\n",
    "sum=1\n",
    "while i<10:\n",
    "    sum *=2\n",
    "    i +=1\n",
    "print(\"결과: \",sum)    "
   ]
  },
  {
   "cell_type": "markdown",
   "metadata": {},
   "source": [
    "### for\n",
    "   + for 변수 in 집합자료형:\n",
    "          문장"
   ]
  },
  {
   "cell_type": "code",
   "execution_count": 1,
   "metadata": {},
   "outputs": [
    {
     "name": "stdout",
     "output_type": "stream",
     "text": [
      "10\n",
      "20\n",
      "홍길동\n",
      "3.14\n",
      "True\n",
      "-----------------------------\n",
      "10\n",
      "20\n",
      "홍길동\n",
      "3.14\n",
      "True\n",
      "*     *     *     *     *     *     *     *     *     *     "
     ]
    }
   ],
   "source": [
    "data1=[10,20,'홍길동',3.14,True]\n",
    "cnt=0\n",
    "while cnt<len(data1):\n",
    "    print(data1[cnt])\n",
    "    cnt +=1     \n",
    "print(\"-----------------------------\") \n",
    "for i in data1:\n",
    "    print(i)\n",
    "    \n",
    "for i in range(10):\n",
    "    print(\"*\",end='     ')\n",
    "    "
   ]
  },
  {
   "cell_type": "markdown",
   "metadata": {},
   "source": [
    "### 반복문의 강제종료\n",
    "  - 1) break     :완전종료\n",
    "  - 2) continue  :일시종료"
   ]
  },
  {
   "cell_type": "code",
   "execution_count": 2,
   "metadata": {},
   "outputs": [
    {
     "name": "stdout",
     "output_type": "stream",
     "text": [
      "0 1 2 3 4 \n",
      "\n",
      "0 1 2 3 4 6 7 8 9 "
     ]
    }
   ],
   "source": [
    "for i in range(10):\n",
    "    if i ==5:\n",
    "        break \n",
    "    print(i,end=' ')\n",
    "print(\"\\n\")\n",
    "for i in range(10):\n",
    "    if i ==5:\n",
    "        continue \n",
    "    print(i,end=' ')\n",
    "    \n",
    "    \n",
    "    "
   ]
  },
  {
   "cell_type": "markdown",
   "metadata": {},
   "source": [
    "\"\"\"\n",
    "전자 계산기 프로그램을 반복문을 이용해서 업그레이드\n",
    "(끝나는 조건은 연산자에 x를 입력하면 종료)\n",
    "\"\"\"\n",
    "\n",
    "\"\"\"\n",
    "가위 바위 보 게임을 반복문을 사용하여 업그레이드\n",
    "(끝나는 조건은 x나 q를 입력하면 종료)\n",
    "\n",
    "끝날 때 결과에 ?승 ?패 출력\n",
    "\"\"\"\n",
    "\n",
    "\"\"\"\n",
    "숫자를 입력받아서 짝수의 합과 홀수의 합을 구하시오.(0을 입력하면 종료)\n",
    "\"\"\""
   ]
  },
  {
   "cell_type": "markdown",
   "metadata": {},
   "source": [
    "친구 관리 프로그램\n",
    "====================\n",
    "\n",
    "1.친구 리스트 출력\n",
    "2.친구 추가\n",
    "3.친구 삭제\n",
    "4.이름 변경\n",
    "9.종료\n",
    "메뉴를 선택 : 2 (엔터)\n",
    "\n",
    "이름을 입력 : 홍길동 (엔터)\n",
    "-----------------------\n",
    "1.친구 리스트 출력\n",
    "2.친구 추가\n",
    "3.친구 삭제\n",
    "4.이름 변경\n",
    "9.종료\n",
    "메뉴를 선택 : 2 (엔터)\n",
    "\n",
    "이름을 입력 : 임꺽정 (엔터)\n",
    "-----------------------\n",
    "1.친구 리스트 출력\n",
    "2.친구 추가\n",
    "3.친구 삭제\n",
    "4.이름 변경\n",
    "9.종료\n",
    "메뉴를 선택 : 1 (엔터)\n",
    "\n",
    "[\"홍길동\", \"임꺽정\"]\n",
    "----------------------\n",
    "1.친구 리스트 출력\n",
    "2.친구 추가\n",
    "3.친구 삭제\n",
    "4.이름 변경\n",
    "9.종료\n",
    "메뉴를 선택 : 4 (엔터)\n",
    "변경할 이름 선택 : 홍길동 (엔터)\n",
    "\n",
    "변경하고 싶은 이름 입력 : 홍길순 (엔터)\n",
    "-------------------------------\n",
    "1.친구 리스트 출력\n",
    "2.친구 추가\n",
    "3.친구 삭제\n",
    "4.이름 변경\n",
    "9.종료\n",
    "메뉴를 선택 : 1 (엔터)\n",
    "[\"홍길순\", \"임꺽정\"]\n",
    "-------------------------------\n",
    "1.친구 리스트 출력\n",
    "2.친구 추가\n",
    "3.친구 삭제\n",
    "4.이름 변경\n",
    "9.종료\n",
    "메뉴를 선택 : 3 (엔터)\n",
    "삭제할 이름 입력 : 홍길순\n",
    "------------------------------"
   ]
  },
  {
   "cell_type": "code",
   "execution_count": 18,
   "metadata": {},
   "outputs": [
    {
     "name": "stdout",
     "output_type": "stream",
     "text": [
      "1. 친구리스트 출력\n",
      "2. 친구추가\n",
      "3. 친구삭제\n",
      "4. 이름변경\n",
      "9. 종료\n",
      "원하는 작업의 번호를 입력하세요4\n",
      "기존 리스트에서 변경할 친구의 이름을 입력하세요홍길동\n",
      "무슨 이름으로 변경할지 입력하세요가나다\n",
      "['임꺽정', '가나다']\n",
      "1. 친구리스트 출력\n",
      "2. 친구추가\n",
      "3. 친구삭제\n",
      "4. 이름변경\n",
      "9. 종료\n",
      "원하는 작업의 번호를 입력하세요9\n"
     ]
    }
   ],
   "source": [
    "name=['홍길동','임꺽정']\n",
    "\n",
    "while True:\n",
    "    print(\"1. 친구리스트 출력\\n2. 친구추가\\n3. 친구삭제\\n4. 이름변경\\n9. 종료\")\n",
    "    num=int(input(\"원하는 작업의 번호를 입력하세요\"))\n",
    "    if num==1:\n",
    "        print(name)\n",
    "    elif num==2:\n",
    "        name2=input(\"추가할 친구의 이름을 입력하세요\")\n",
    "        name.append(name2)\n",
    "        print(name)\n",
    "    elif num==3:\n",
    "        name3=input(\"삭제할 친구의 이름을 입력하세요\")\n",
    "        if name3 not in name:\n",
    "            print(\"그런이름은 없습니다\")\n",
    "        else:\n",
    "            name.remove(name3)\n",
    "        print(name)\n",
    "    elif num==4:\n",
    "        name4=input(\"기존 리스트에서 변경할 친구의 이름을 입력하세요\")\n",
    "        name5=input(\"무슨 이름으로 변경할지 입력하세요\")\n",
    "        name.remove(name4)\n",
    "        name.append(name5)\n",
    "        print(name)\n",
    "        \n",
    "    elif num==9:\n",
    "        break\n",
    "    else:\n",
    "        print(\"입력오류\")\n",
    "        "
   ]
  },
  {
   "cell_type": "markdown",
   "metadata": {},
   "source": [
    "팩토리얼 계산\n",
    "=============\n",
    "\n",
    "정수 입력 : 3 (엔터)\n",
    "결과 : 3의 팩토리얼은 6이다.\n",
    "\"\"\"\n",
    "\n",
    "\"\"\"\n",
    "자리수의 합\n",
    "============\n",
    "예를 들어 1234라고 입력했을 경우 (1 + 2 + 3 + 4)를 계산하는 프로그램\n",
    "(0을 입력하면 종료)\n",
    "\"\"\"\n",
    "\n",
    "netsong7 [17:06]\n",
    "\"\"\"\n",
    "숫자 맞추기 게임\n",
    "=================\n",
    "\n",
    "1 부터 100사이의 숫자를 맞추시오\n",
    "숫자 입력 : 50\n",
    "낮음!\n",
    "\n",
    "숫자 입력 : 75\n",
    "낮음!\n",
    "\n",
    "...\n",
    "\n",
    "숫자 입력 : 89\n",
    "정답입니다!~~ 시도회수 : 7번\n",
    "\"\"\""
   ]
  },
  {
   "cell_type": "markdown",
   "metadata": {},
   "source": [
    "### 반복문 중첩"
   ]
  },
  {
   "cell_type": "code",
   "execution_count": 38,
   "metadata": {},
   "outputs": [
    {
     "name": "stdout",
     "output_type": "stream",
     "text": [
      "*  *  *  *  *  *  *  *  *  *  \n",
      "*  *  *  *  *  *  *  *  *  *  \n",
      "*  *  *  *  *  *  *  *  *  *  \n",
      "\n",
      "*\n",
      "**\n",
      "***\n",
      "****\n",
      "*****\n",
      "******\n",
      "*******\n",
      "********\n",
      "*********\n",
      "\n",
      "* \n",
      "* * \n",
      "* * * \n",
      "* * * * \n",
      "* * * * * \n",
      "* * * * * * \n",
      "* * * * * * * \n",
      "* * * * * * * * \n",
      "* * * * * * * * * \n",
      "\n",
      "\n",
      "\n",
      "* * * * * * * * * * \n",
      "* * * * * * * * * \n",
      "* * * * * * * * \n",
      "* * * * * * * \n",
      "* * * * * * \n",
      "* * * * * \n",
      "* * * * \n",
      "* * * \n",
      "* * \n",
      "* \n",
      "\n",
      "\n",
      "\n",
      "                    \n",
      "                  * \n",
      "                * * \n",
      "              * * * \n",
      "            * * * * \n",
      "          * * * * * \n",
      "        * * * * * * \n",
      "      * * * * * * * \n",
      "    * * * * * * * * \n",
      "  * * * * * * * * * \n",
      "\n",
      "\n",
      "\n",
      "                    \n",
      "                  * \n",
      "                * * * \n",
      "              * * * * * \n",
      "            * * * * * * * \n",
      "          * * * * * * * * * \n",
      "        * * * * * * * * * * * \n",
      "      * * * * * * * * * * * * * \n",
      "    * * * * * * * * * * * * * * * \n",
      "  * * * * * * * * * * * * * * * * * \n"
     ]
    }
   ],
   "source": [
    "for i in range(3):\n",
    "    for j in range(10):\n",
    "         print(\"*\",end='  ')\n",
    "    print()     \n",
    "\n",
    "i=0    \n",
    "while i<10:\n",
    "    print(\"*\"*i)\n",
    "    i +=1\n",
    "    \n",
    "for v1 in range(10):\n",
    "    for v2 in range(v1):\n",
    "        print(\"*\",end=' ')\n",
    "    print()\n",
    "\n",
    "print(\"\\n\\n\")\n",
    "for v1 in range(10):\n",
    "    for v2 in range(10-v1):\n",
    "        print(\"*\",end=' ')\n",
    "    print()    \n",
    "print(\"\\n\\n\")      \n",
    "\n",
    "\n",
    "for v1 in range(10):\n",
    "    for v2 in range(10-v1):    \n",
    "        print(\" \",end=\" \")\n",
    "    for v2 in range(v1):\n",
    "        print(\"*\",end=\" \")\n",
    "    print()\n",
    "\n",
    "print(\"\\n\\n\")\n",
    "for v1 in range(10):\n",
    "    for v2 in range(10-v1):\n",
    "        print(\" \",end=' ')\n",
    "    for v2 in range(v1):\n",
    "        print(\"*\",end=\" \")\n",
    "    for v2 in range(v1-1):\n",
    "        print(\"*\",end=\" \")\n",
    "    print()    \n",
    "        \n",
    "        \n",
    "    "
   ]
  },
  {
   "cell_type": "markdown",
   "metadata": {},
   "source": [
    "## 숫자맞추기게임"
   ]
  },
  {
   "cell_type": "code",
   "execution_count": 14,
   "metadata": {},
   "outputs": [
    {
     "name": "stdout",
     "output_type": "stream",
     "text": [
      "숫자를 입력해주세요(1~100까지)30\n",
      "입력하신 숫자가 더 큽니다\n",
      "숫자를 입력해주세요(1~100까지)15\n",
      "입력하신 숫자가 더 큽니다\n",
      "숫자를 입력해주세요(1~100까지)7\n",
      "입력하신 숫자가 더 큽니다\n",
      "숫자를 입력해주세요(1~100까지)4\n",
      "입력하신 숫자가 더 작습니다\n",
      "숫자를 입력해주세요(1~100까지)6\n",
      "정답!\n"
     ]
    }
   ],
   "source": [
    "import random\n",
    "\n",
    "num2= random.randint(1,100)\n",
    "\n",
    "while True:\n",
    "    num1=int(input(\"숫자를 입력해주세요(1~100까지)\"))\n",
    "    \n",
    "    if num1>num2:\n",
    "        print(\"입력하신 숫자가 더 큽니다\")\n",
    "    elif num1<num2:\n",
    "        print(\"입력하신 숫자가 더 작습니다\")\n",
    "    else: \n",
    "        print(\"정답!\")\n",
    "        break"
   ]
  },
  {
   "cell_type": "markdown",
   "metadata": {},
   "source": [
    "### 팩토리얼"
   ]
  },
  {
   "cell_type": "code",
   "execution_count": 9,
   "metadata": {},
   "outputs": [
    {
     "name": "stdout",
     "output_type": "stream",
     "text": [
      "숫자를 입력해주세요3\n",
      "3의 팩토리얼은 6이다\n"
     ]
    }
   ],
   "source": [
    "num=int(input(\"숫자를 입력해주세요\"))\n",
    "i=0\n",
    "result=1\n",
    "while i <num:\n",
    "    i +=1\n",
    "    result *=i\n",
    "print(\"%d의 팩토리얼은 %d이다\" % (num,result))"
   ]
  },
  {
   "cell_type": "markdown",
   "metadata": {},
   "source": [
    "### 자리수의 합"
   ]
  },
  {
   "cell_type": "code",
   "execution_count": 43,
   "metadata": {},
   "outputs": [
    {
     "name": "stdout",
     "output_type": "stream",
     "text": [
      "정수입력: 345\n",
      "12\n",
      "정수입력: 0\n"
     ]
    }
   ],
   "source": [
    "while True:\n",
    "    \n",
    "    num=input(\"정수입력: \")\n",
    "    sum=0\n",
    "    if num== '0':\n",
    "        break\n",
    "    else:\n",
    "        for i in range(len(num)):\n",
    "            sum += int(num[i])\n",
    "    print(sum)        \n",
    "        "
   ]
  },
  {
   "cell_type": "code",
   "execution_count": 29,
   "metadata": {},
   "outputs": [
    {
     "name": "stdout",
     "output_type": "stream",
     "text": [
      "34\n",
      "7\n",
      "34\n",
      "7\n",
      "34\n",
      "7\n",
      "0\n",
      "******************************\n",
      "정수를 입력하시오(0을 입력하면 종료): 34\n",
      "34 의 각 수의 합은  7 이다.\n",
      "******************************\n",
      "정수를 입력하시오(0을 입력하면 종료): 0\n"
     ]
    }
   ],
   "source": [
    "while True:\n",
    "    sum = 0\n",
    "    num1 = input()\n",
    "    if num1 == '0':\n",
    "        break\n",
    "    for i in num1:\n",
    "        sum = sum + int(i)\n",
    "    print(sum)\n",
    "    \n",
    "    \n",
    "# 자리수의 합\n",
    "while 1:\n",
    "    print(\"*\" * 30)\n",
    "    sum = 0\n",
    "    num = str(input(\"정수를 입력하시오(0을 입력하면 종료): \"))\n",
    "    if num == '0':\n",
    "        break;\n",
    "    else:\n",
    "        for i in range(0, len(num)):\n",
    "            sum+=int(num[i])\n",
    "    print(num,\"의 각 수의 합은 \",sum,\"이다.\")    "
   ]
  },
  {
   "cell_type": "code",
   "execution_count": null,
   "metadata": {},
   "outputs": [],
   "source": []
  },
  {
   "cell_type": "markdown",
   "metadata": {},
   "source": [
    "### 실행파일 만들기\n",
    "    - pyinstaller, py2exe,\n",
    "    - pip install pyinstaller   -> cmd 창에 이렇게 입력하면 된다.\n",
    "    - https://media.readthedocs.org/pdf/pyinstaller/cross-compiling/pyinstaller.pdf  -> 참고자료\n",
    "    - pyinstaller -F 파일이름.py     ->cmd 창에 입력\n",
    "     "
   ]
  },
  {
   "cell_type": "code",
   "execution_count": null,
   "metadata": {},
   "outputs": [],
   "source": []
  }
 ],
 "metadata": {
  "kernelspec": {
   "display_name": "Python 3",
   "language": "python",
   "name": "python3"
  },
  "language_info": {
   "codemirror_mode": {
    "name": "ipython",
    "version": 3
   },
   "file_extension": ".py",
   "mimetype": "text/x-python",
   "name": "python",
   "nbconvert_exporter": "python",
   "pygments_lexer": "ipython3",
   "version": "3.7.6"
  }
 },
 "nbformat": 4,
 "nbformat_minor": 4
}
