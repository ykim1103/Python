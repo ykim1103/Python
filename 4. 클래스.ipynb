{
 "cells": [
  {
   "cell_type": "markdown",
   "metadata": {},
   "source": [
    "### 특징\n",
    "    1) 묶음(block) : 변수와 함수를 묵어주는 단위. 함수보다 큰 단위가 클래스. 즉, 함수< 클래스 \n",
    "          -변수: 멤버변수, 속성\n",
    "          -함수: 멤버함수, 메서드\n",
    "   \n",
    "    2) 설계도(추상적)이다.     설계도를 이용해 실제로 찍어낸 것을 객체(Object)라고 한다.\n",
    "                              프로그램에서는 메모리가 객체이다. 인스턴스라고도 한다.\n",
    "   \n",
    "    3) . 접근 연산자사용    \n",
    "   \n",
    "    4) 클래스 안에 있는 함수는 메서드라고 부른다. \n",
    "    5) 사용자 정의 자료형\n",
    "    6) 객체의 조건   \n",
    "        - 상속성(inheritance)\n",
    "        - 다양성(polymorphism)\n",
    "        - 캡슐화(encapsulation)\n",
    "    7) 객체 설계 원칙(SOLID)\n",
    "    8) UML "
   ]
  },
  {
   "cell_type": "markdown",
   "metadata": {},
   "source": [
    "### 클래스 작성방법\n",
    "      class 이름:\n",
    "            변수\n",
    "            함수\n",
    "            \n",
    "      class 이름(.............):\n",
    "            변수\n",
    "            함수"
   ]
  },
  {
   "cell_type": "code",
   "execution_count": 29,
   "metadata": {},
   "outputs": [],
   "source": [
    "class Test:\n",
    "    a = 10\n",
    "    \n",
    "    def display(self):                # 클래스 안에 있는 함수는 무조건 self라고 써준다.\n",
    "        print(\"Test 클래스: \",self.a)"
   ]
  },
  {
   "cell_type": "code",
   "execution_count": 23,
   "metadata": {},
   "outputs": [
    {
     "name": "stdout",
     "output_type": "stream",
     "text": [
      "10 <class 'int'>\n",
      "----------------\n"
     ]
    }
   ],
   "source": [
    "Test()   # 객체 생성이다. 함수호출로 착각하면 안된다. Test라는 클래스의 객체생성이다. 함수X. \n",
    "         # 함수호출과 객체생성을 완전히 다른 것이다.\n",
    "         # 구분하기 위해 함수명은 소문자로 시작, 객체생성는 대문자로 시작.\n",
    "        \n",
    "b=Test.a\n",
    "print(b,type(b))\n",
    "print(\"----------------\")\n",
    "\n"
   ]
  },
  {
   "cell_type": "code",
   "execution_count": 32,
   "metadata": {},
   "outputs": [
    {
     "name": "stdout",
     "output_type": "stream",
     "text": [
      "10\n",
      "100\n"
     ]
    }
   ],
   "source": [
    "a1 = Test()    # 주소값 저장\n",
    "print(a1.a)\n",
    "a1.a=100\n",
    "print(a1.a)"
   ]
  },
  {
   "cell_type": "code",
   "execution_count": 34,
   "metadata": {},
   "outputs": [
    {
     "name": "stdout",
     "output_type": "stream",
     "text": [
      "Test 클래스:  100\n"
     ]
    }
   ],
   "source": [
    "a1.display()"
   ]
  },
  {
   "cell_type": "code",
   "execution_count": 40,
   "metadata": {},
   "outputs": [
    {
     "name": "stdout",
     "output_type": "stream",
     "text": [
      "10\n",
      "<class '__main__.Test'>\n"
     ]
    }
   ],
   "source": [
    "a2=Test()\n",
    "print(a2.a)\n",
    "print(type(a2))\n",
    "\n",
    "c"
   ]
  },
  {
   "cell_type": "markdown",
   "metadata": {},
   "source": [
    "##### <5.14.목>"
   ]
  },
  {
   "cell_type": "code",
   "execution_count": 1,
   "metadata": {},
   "outputs": [],
   "source": [
    "# 국적,이름,나이,신장,취미 클래스로 저장."
   ]
  },
  {
   "cell_type": "code",
   "execution_count": 35,
   "metadata": {},
   "outputs": [
    {
     "name": "stdout",
     "output_type": "stream",
     "text": [
      "국적:  한국\n",
      "이름:  홍길동\n",
      "나이:  20\n",
      "신장:  170.7\n",
      "취미:  ['영화보기', '독서']\n",
      "\n",
      "------------------------------------------------\n",
      "국적:  중국\n",
      "이름:  유비\n",
      "나이:  23\n",
      "신장:  178\n",
      "취미:  ['영화보기', '여행']\n",
      "\n",
      "------------------------------------------------\n",
      "국적:  독일\n",
      "이름:  임꺽정\n",
      "나이:  30\n",
      "신장:  174.25\n",
      "취미:  ['잠', '독서']\n",
      "\n",
      "------------------------------------------------\n",
      "--------다른방법-------------\n",
      "국적:  한국\n",
      "이름:  홍길동\n",
      "나이:  20\n",
      "신장:  170.7\n",
      "취미:  ['영화보기', '독서']\n",
      "\n",
      "-----------------------------\n",
      "국적:  중국\n",
      "이름:  유비\n",
      "나이:  23\n",
      "신장:  178\n",
      "취미:  ['영화보기', '여행']\n",
      "\n",
      "-----------------------------\n",
      "국적:  독일\n",
      "이름:  임꺽정\n",
      "나이:  30\n",
      "신장:  174.25\n",
      "취미:  ['잠', '독서']\n",
      "\n",
      "-----------------------------\n"
     ]
    }
   ],
   "source": [
    "# nation = '한국'\n",
    "# name= str()\n",
    "# age=0\n",
    "# height=0.0\n",
    "# hobby=[]\n",
    "# 이 각각의 자료형을 전체로 묶어서 하나로 쓰고 싶을 때 클래스이용\n",
    "\n",
    "class Person:\n",
    "    nation = '한국'\n",
    "    name= str()\n",
    "    age=0\n",
    "    height=0.0\n",
    "    hobby= []\n",
    "    # 데이터 저장만 된것이다. \n",
    "    \n",
    "    \n",
    "    \n",
    "    def info(self):                   # 클래스안에 있는 함수에는 항상 매개변수를  self\n",
    "        print(\"국적: \",self.nation)\n",
    "        print(\"이름: \",self.name)\n",
    "        print(\"나이: \",self.age)\n",
    "        print(\"신장: \",self.height)\n",
    "        print(\"취미: \",self.hobby)\n",
    "        print(\"\\n------------------------------------------------\")\n",
    "    # 클래스를 실제로 출력하기 위한 함수 설정\n",
    "    \n",
    "# 사용하는 방법은?\n",
    "p1=Person()\n",
    "p1.name='홍길동'\n",
    "p1.age=20\n",
    "p1.height=170.7\n",
    "p1.hobby=['영화보기','독서']\n",
    "\n",
    "p1.info()\n",
    "\n",
    "\n",
    "p2=Person()\n",
    "p2.nation=\"중국\"\n",
    "p2.name='유비'\n",
    "p2.age=23\n",
    "p2.height=178\n",
    "p2.hobby=['영화보기','여행']\n",
    "p2.info()\n",
    "\n",
    "\n",
    "p3=Person()\n",
    "p3.nation=\"독일\"\n",
    "p3.name='임꺽정'\n",
    "p3.age=30\n",
    "p3.height=174.25\n",
    "p3.hobby=['잠','독서']\n",
    "p3.info()\n",
    "\n",
    "\n",
    "print(\"--------다른방법-------------\")\n",
    "\n",
    "data=[p1,p2,p3]\n",
    "for i in range(len(data)):\n",
    "    print(\"국적: \",data[i].nation)\n",
    "    print(\"이름: \",data[i].name)\n",
    "    print(\"나이: \",data[i].age)\n",
    "    print(\"신장: \",data[i].height)\n",
    "    print(\"취미: \",data[i].hobby)\n",
    "    print(\"\\n-----------------------------\")"
   ]
  },
  {
   "cell_type": "markdown",
   "metadata": {},
   "source": [
    "### 클래스작성문법\n",
    "   - 1) self\n",
    "       + 현재 사용중인 객체의 주소를 저장하고 있는 참조변수.  참조변수:값을 직접저장하는 것이 아니라 주소를 저장하는 변수.\n",
    "       + 파이썬은 모든 변수가 참조변수이다.\n",
    "       + read only\n",
    "   - 2) 생성자(메서드)와 소멸자(메서드)\n",
    "       + 메서드 \n",
    "       + 객체를 생성하는 용도\n",
    "       + 객체를 처음만들 때 호출, 단 한번만 호출\n",
    "       + 모든 클래스는 기본적으로 생성자를 가지고 있다.\n",
    "       + 객체가 소멸할 때 호출되는 메서드가 소멸자이다.      \n",
    "   - 3) static\n",
    "       + 동일한 공간을 모든 객체들이 공동으로 사용\n",
    "       + static 공간에 만들어지는 변수: 클래스변수\n",
    "   - 4) _ , __\n",
    "       +   _ : 기본 인터프리터(명령프롬포트)에서 사용(최근 사용한 값을 저장하고 불러오기)  \n",
    "               값을 무시한다.\n",
    "               변수명과 함께 사용(접근권한), 이 때 __와 함께 사용\n",
    "          \n",
    "          \n",
    "            "
   ]
  },
  {
   "cell_type": "markdown",
   "metadata": {},
   "source": [
    "#### 1) self"
   ]
  },
  {
   "cell_type": "code",
   "execution_count": 56,
   "metadata": {},
   "outputs": [
    {
     "name": "stdout",
     "output_type": "stream",
     "text": [
      "4.12 홍 3\n"
     ]
    }
   ],
   "source": [
    "class Test1():\n",
    "    a = 0\n",
    "    b = 0.0\n",
    "    c = ' '   \n",
    "    \n",
    "    def show(self):\n",
    "        print(self.a,self.b,self.c)\n",
    "        \n",
    "t1= Test1()        \n",
    "t2= Test1()\n",
    "t3= Test1()\n",
    "\n",
    "\n",
    "# 위에 변수 선언한것은 더 정확하게 하기 위해서 이다. 즉 a=0,b=0.0 이런것들에 꼭 틀에 맞춰할 필요는 없지만 보다 정확성을 높여주기 위함\n",
    "\n",
    "\n",
    "\n",
    "t1.a=4.12\n",
    "t1.b='홍'\n",
    "t1.c=3\n",
    "t1.show()"
   ]
  },
  {
   "cell_type": "code",
   "execution_count": 54,
   "metadata": {},
   "outputs": [
    {
     "name": "stdout",
     "output_type": "stream",
     "text": [
      "self의 주소:  2576425996680\n",
      "20 3.12 홍\n",
      "t1의 주소:  2576425996680\n",
      "------------------\n",
      "self의 주소:  2576425998344\n",
      "10 4.32 길\n"
     ]
    }
   ],
   "source": [
    "class Test1():\n",
    "    a = 0\n",
    "    b = 0.0\n",
    "    c = ' '   \n",
    "    \n",
    "    def show(self):\n",
    "        print(self.a,self.b,self.c)\n",
    "    def setValue(self,x,y,z):    \n",
    "        print(\"self의 주소: \",id(self))\n",
    "        self.a=x\n",
    "        self.b=y\n",
    "        self.c=z\n",
    "\n",
    "        \n",
    "        \n",
    "t1=Test1()       \n",
    "t1.setValue(20,3.12,'홍')     # 우리 눈에 보이지 않지만 (t1주소,20,3.12,'홍')으로 전달되는 것이다. 이 때 눈에 보이지 않는 t1주소값은\n",
    "                              # self로 들어간다. 힙에 있는 객체에 정확하게 찾아가려면 주소가 필요하다. 그래서 받을 때 주소값을 정확\n",
    "                              # 하게 받기 위해 self로 정확한 주소전달을 해줘야한다. \n",
    "t1.show()\n",
    "print(\"t1의 주소: \",id(t1))\n",
    "print(\"------------------\")\n",
    "\n",
    "t2=Test1()\n",
    "t2.setValue(10,4.32,'길')\n",
    "t2.show()\n",
    "    \n",
    "\n",
    "    \n",
    " \n",
    "# 위에 있는 코드는 이렇게도 사용가능\n",
    "class Test1():\n",
    "    \n",
    "    def show(self):\n",
    "        print(self.a,self.b,self.c)\n",
    "    def setValue(self,x,y,z):    \n",
    "        print(\"self의 주소: \",id(self))\n",
    "        self.a=x\n",
    "        self.b=y\n",
    "        self.c=z\n",
    "    \n",
    "    \n",
    "    \n",
    "    \n",
    "# 위에 있는 셀과 현재 셀은 같은 경우인데 위에는 변수에 직접값을 넣은 것이고\n",
    "# 현재는 메서드를 이용해 넣은 것인데 현재 셀에 있는 경우를 쓰는 것이 좋다. 수정, 확인 하기 더 편하다\n",
    "# 위에 있는 셀은 수정하기 불편하고, 사용하려면 변수값을 다 알아야하는데 이럴 경우 현재 셀이 더 편하다."
   ]
  },
  {
   "cell_type": "markdown",
   "metadata": {},
   "source": [
    "##### 2) 생성자"
   ]
  },
  {
   "cell_type": "code",
   "execution_count": 73,
   "metadata": {},
   "outputs": [
    {
     "name": "stdout",
     "output_type": "stream",
     "text": [
      "-----------------------\n",
      "10 안녕ㅎ세요\n",
      "--------------------------------------\n",
      "생성자 호출됨:  3\n",
      "10 안녕ㅎ세요\n"
     ]
    }
   ],
   "source": [
    "class Test3:\n",
    "    pass                    # 클래스에 별다른 코드를 쓰고 싶지 않을 때 pass 를 쓰면된다.\n",
    "Test3()\n",
    "print(\"-----------------------\")\n",
    "\n",
    " \n",
    "class Test2:\n",
    "    a= 0\n",
    "    b= ''\n",
    "    def __init__(self):       # 기본생성자 선언한 것. 우리가 생략했었다.\n",
    "        self.a=10\n",
    "        self.b=\"안녕ㅎ세요\"\n",
    "    def show(self):\n",
    "        print(self.a,self.b)\n",
    "\n",
    "t1= Test2()     # init은 기본생성자라서 따로 호출을 해주지 않아도 객체생성을 하면서 자동적으로 함수 호출이 된다.\n",
    "t1.show()       # 그래서 __init__()   이렇게 따로 호출해주지 않아도 알아서 실행하고 출력한다.ㅡ\n",
    "\n",
    "\n",
    "print(\"--------------------------------------\")\n",
    "\n",
    "class Test2:\n",
    "    a= 0\n",
    "    b= ''\n",
    "    def __init__(self,argv):       # 기본생성자 self,'argv'라는 매개변수 하나를 추가했으면 객체생성할 때 해당하는 인자값을 넣어야한다.\n",
    "        self.a=10                  # argv= None을 해주면 개체 생성할 때 굳이 인자를 해줄 필요는 없다. \n",
    "        self.b=\"안녕ㅎ세요\"\n",
    "        print(\"생성자 호출됨: \",argv)\n",
    "    def show(self):\n",
    "        print(self.a,self.b)\n",
    "\n",
    "t1=Test2(3)\n",
    "t1.show()\n",
    "\n",
    "\n",
    "\n",
    "\n",
    "\n"
   ]
  },
  {
   "cell_type": "code",
   "execution_count": 85,
   "metadata": {},
   "outputs": [
    {
     "name": "stdout",
     "output_type": "stream",
     "text": [
      "20 hello\n",
      "----------------------------\n",
      "30 bb\n"
     ]
    }
   ],
   "source": [
    "class Test2:\n",
    "    a=0\n",
    "    b=''\n",
    "    def show(self):\n",
    "        print(self.a,self.b)\n",
    "    def setValue(self,x,y):\n",
    "        self.a=x\n",
    "        self.b=y            \n",
    "t1=Test2()\n",
    "t1.setValue(20,\"hello\")\n",
    "t1.show()\n",
    "\n",
    "print(\"----------------------------\")\n",
    "\n",
    "class Test2:\n",
    "    a=0\n",
    "    b=''\n",
    "    def show(self):\n",
    "        print(self.a,self.b)\n",
    "    def __init__(self,x,y):      # 따로 setValue라는 함수로 self를 이용해서 x,y를 선언해주지 않아도\n",
    "        self.a=x                 # __ init__ 기본생성자를 이용해서 할 수있다. 그러면 메모리가 더 절약된다. \n",
    "        self.b=y  \n",
    "\n",
    "t2=Test2(30,\"bb\")               # 실행할 때도 따로 setValue 함수를 호출해주지않고 객체 생성하면서 괄호로인자로 받아서 하면 된다.\n",
    "t2.show()"
   ]
  },
  {
   "cell_type": "code",
   "execution_count": 87,
   "metadata": {},
   "outputs": [
    {
     "data": {
      "text/plain": [
       "<__main__.Test2 at 0x257def71888>"
      ]
     },
     "execution_count": 87,
     "metadata": {},
     "output_type": "execute_result"
    }
   ],
   "source": [
    "# 소멸자       __del__  #쓸 일은 거의 없고 존재만 알아두자!\n",
    "\n",
    "class Test2:\n",
    "    a= 0\n",
    "    b= ''\n",
    "    def __init__(self):       # 기본생성자 선언한 것. 우리가 생략했었다.\n",
    "        self.a=10\n",
    "        self.b=\"안녕ㅎ세요\"\n",
    "    \n",
    "    def __del__(self):\n",
    "        print(\"소멸자테스트\")\n",
    "   \n",
    "    def show(self):\n",
    "        print(self.a,self.b)\n",
    "Test2()        "
   ]
  },
  {
   "cell_type": "markdown",
   "metadata": {},
   "source": [
    "##### 3)static"
   ]
  },
  {
   "cell_type": "code",
   "execution_count": 94,
   "metadata": {},
   "outputs": [
    {
     "name": "stdout",
     "output_type": "stream",
     "text": [
      "10\n",
      "100 100\n",
      "200 100 100\n"
     ]
    }
   ],
   "source": [
    "class Test3():\n",
    "    a = 10\n",
    "#########################\n",
    "\n",
    "print(Test3.a)\n",
    "\n",
    "\n",
    "t1=Test3()\n",
    "t2=Test3()\n",
    "Test3.a=100\n",
    "print(t1.a,t2.a)\n",
    "\n",
    "\n",
    "\n",
    "t1.a=200\n",
    "print(t1.a,t2.a,Test3.a)"
   ]
  },
  {
   "cell_type": "code",
   "execution_count": 100,
   "metadata": {},
   "outputs": [
    {
     "name": "stdout",
     "output_type": "stream",
     "text": [
      "객체의 수 :  1\n",
      "객체의 수 :  1\n",
      "객체의 수 :  1\n",
      "객체의 수 :  3\n",
      "객체의 수 :  3\n",
      "객체의 수 :  3\n"
     ]
    }
   ],
   "source": [
    "# 둘의 차이질문!???????????????????????????\n",
    "\n",
    "class Counter:                              \n",
    "    m_cnt=0\n",
    "    \n",
    "    def __init__(self):\n",
    "        self.m_cnt +=1                                       # 변수를 쓸 때 self.로 접근하면 그 해당 개인의 객체에 접근\n",
    "        \n",
    "    def printCount(self):\n",
    "        print(\"객체의 수 : \",self.m_cnt)\n",
    "        \n",
    "        \n",
    "a,b,c = Counter(),Counter(),Counter()                     # 그래서 a,b,c 각각의 객체의 수를 계산\n",
    "                                                          # a는 a, b는 b, c는 c 이런식으로\n",
    "a.printCount()\n",
    "b.printCount()\n",
    "c.printCount()\n",
    "\n",
    "print(\"----------------------------------------------------\")\n",
    "\n",
    "class Counter:                                             # 변수를 쓸 때 해당 클래스명. 으로 접근할 때 \n",
    "    m_cnt=0\n",
    "    \n",
    "    def __init__(self): \n",
    "        Counter.m_cnt +=1                               # Counter로 접근했기 때문에 전제의 객체의 공용으로 사용되어서\n",
    "        \n",
    "    def printCount(self):\n",
    "        print(\"객체의 수 : \",Counter.m_cnt)\n",
    "        \n",
    "        \n",
    "a,b,c = Counter(),Counter(),Counter()\n",
    "a.printCount()\n",
    "b.printCount()\n",
    "c.printCount()\n",
    "\n",
    "\n"
   ]
  },
  {
   "cell_type": "code",
   "execution_count": 110,
   "metadata": {},
   "outputs": [
    {
     "name": "stdout",
     "output_type": "stream",
     "text": [
      "객체의 수 :  3\n",
      "객체의 수 :  3\n",
      "객체의 수 :  3\n",
      "---------------------------------------------------\n",
      "객체의 수 :  3\n"
     ]
    }
   ],
   "source": [
    "# 이둘의 차이도 구별하자!\n",
    "class Counter:\n",
    "    m_cnt=0\n",
    "    \n",
    "    def __init__(self):\n",
    "        Counter.m_cnt +=1\n",
    "        \n",
    "    def printCount(self):\n",
    "        print(\"객체의 수 : \",Counter.m_cnt)\n",
    "        \n",
    "a,b,c = Counter(),Counter(),Counter()\n",
    "a.printCount()\n",
    "b.printCount()\n",
    "c.printCount()\n",
    "print(\"---------------------------------------------------\")       \n",
    "\n",
    "\n",
    "class Counter:\n",
    "    m_cnt=0\n",
    "    \n",
    "    def __init__(self):                         # static을 사용한다고 하더라도 init에는 (self)를 해줘야한다.\n",
    "        Counter.m_cnt +=1\n",
    "        \n",
    "    def staticPrintCount():                       # self를 없애버리고 만들면 static 공간에 딱 하나만 만들어진다.\n",
    "                                                  # self를 쓰면 객체별로 다 만들어진다. \n",
    "        print(\"객체의 수 : \",Counter.m_cnt)\n",
    "   \n",
    "\n",
    "a,b,c = Counter(),Counter(),Counter()           # 선언을 할 때도 각각 해주지 않아도된다.\n",
    "                                                # 객체별로 만들어지는것이 아니기 때문에 a.staticPrintCount() 이런식으로 쓸수 없다.\n",
    "                                                #  a.staticPrintCount() 이렇게도 쓸 수 없다.a는 Counter 클래스의 멤버가 이니다.\n",
    "Counter.staticPrintCount()\n",
    "    \n",
    "                \n",
    "        "
   ]
  },
  {
   "cell_type": "code",
   "execution_count": 118,
   "metadata": {},
   "outputs": [
    {
     "name": "stdout",
     "output_type": "stream",
     "text": [
      "객체의 수 :  3\n",
      "객체의 수 :  3\n"
     ]
    }
   ],
   "source": [
    "class Counter:\n",
    "    m_cnt=0\n",
    "    \n",
    "    def __init__(self):                         # static을 사용한다고 하더라도 init에는 (self)를 해줘야한다.\n",
    "        Counter.m_cnt +=1\n",
    "    \n",
    "    \n",
    "    @staticmethod                                 # 이렇게 @ 표시 해준 것을 decorator라고 한다. 일종의    \n",
    "    def staticPrintCount():                       # self를 없애버리고 만들면 static 공간에 딱 하나만 만들어진다.\n",
    "                                                  # self를 쓰면 객체별로 다 만들어진다. \n",
    "        print(\"객체의 수 : \",Counter.m_cnt)\n",
    "    \n",
    "    sPrintCount = staticmethod(staticPrintCount)   # staticmethond():\n",
    "\n",
    "    \n",
    "    \n",
    "    \n",
    "    \n",
    "a,b,c = Counter(),Counter(),Counter()           # 선언을 할 때도 각각 해주지 않아도된다.\n",
    "                                                # 객체별로 만들어지는것이 아니기 때문에 a.staticPrintCount() 이런식으로 쓸수 없다.\n",
    "                                                #  a.staticPrintCount() 이렇게도 쓸 수 없다.a는 Counter 클래스의 멤버가 이니다.\n",
    "\n",
    "        \n",
    "Counter.staticPrintCount()\n",
    "a.sPrintCount()                                 # 원래 a. 처럼 멤버가 아닌 하나의 객체를 따로 불러서 실행할 수 없지만 staticmethod():\n",
    "                                                #를 사용하면 따로 불러서 사용할 수 있다.\n",
    "    \n",
    "    \n",
    "    "
   ]
  },
  {
   "cell_type": "code",
   "execution_count": 120,
   "metadata": {},
   "outputs": [
    {
     "name": "stdout",
     "output_type": "stream",
     "text": [
      "객체의 수 :  3\n",
      "객체의 수 :  3\n"
     ]
    }
   ],
   "source": [
    "class Counter:\n",
    "    m_cnt=0\n",
    "    \n",
    "    def __init__(self):                         \n",
    "        Counter.m_cnt +=1\n",
    "    \n",
    "    \n",
    "    @staticmethod                                 # 이렇게 @ 표시 해준 것을 decorator라고 한다. 일종의    \n",
    "    def staticPrintCount(): \n",
    "        print(\"객체의 수 : \",Counter.m_cnt)\n",
    "        \n",
    "a,b,c = Counter(),Counter(),Counter()\n",
    "Counter.staticPrintCount()\n",
    "a.staticPrintCount()\n",
    "        "
   ]
  },
  {
   "cell_type": "code",
   "execution_count": 126,
   "metadata": {},
   "outputs": [
    {
     "name": "stdout",
     "output_type": "stream",
     "text": [
      "0\n",
      "0\n",
      "20\n"
     ]
    }
   ],
   "source": [
    "# 원래대로 설계된 멤버 변수외에 객체 별로 별도의 멤버변수를 추가할 수 있다.\n",
    "\n",
    "class Test:\n",
    "    a=0\n",
    "    def show(self):\n",
    "        print(self.a)\n",
    "##################################################\n",
    "a1=Test()\n",
    "a1.show()\n",
    "\n",
    "\n",
    "a2=Test()\n",
    "a2.show()\n",
    "\n",
    "\n",
    "a2.b = 20          # b 라는 것은 위에 선언되지 않았지만 임의로 a2에 멤버변수로 넣어서 추가한 것이다. \n",
    "print(a2.b)\n"
   ]
  },
  {
   "cell_type": "markdown",
   "metadata": {},
   "source": [
    "#####   4)      __ 언더바\n"
   ]
  },
  {
   "cell_type": "code",
   "execution_count": 143,
   "metadata": {},
   "outputs": [
    {
     "name": "stdout",
     "output_type": "stream",
     "text": [
      "2 3\n",
      "10 40\n",
      "10 60\n",
      "0\n",
      "1\n",
      "2\n",
      "3\n",
      "0\n",
      "1\n",
      "2\n",
      "3\n",
      "*  *  *  *  *  *  *  *  *  *  "
     ]
    }
   ],
   "source": [
    "# _ : 값을 무시\n",
    "a,b,c=(10,20,30)\n",
    "_,b,c=(1,2,3)      # a는 패스되고 b와 c에만 값이 담긴다\n",
    "\n",
    "print(b,c)\n",
    "\n",
    "a_,_,_,b,_,_=(10,20,30,40,50,60)\n",
    "print(a,b)\n",
    "\n",
    "a_,_,_,_,_,b=(10,20,30,40,50,60)\n",
    "a,*_,b=(10,20,30,40,50,60)\n",
    "print(a,b)\n",
    "\n",
    "\n",
    "\n",
    "for a,b in enumerate([\"가\",\"나\",\"다\",\"라\"]):\n",
    "    print(a)\n",
    "    \n",
    "for a,_ in enumerate([\"가\",\"나\",\"다\",\"라\"]):    # b가 필요없고 굳이 출력하지 않아될 경우 변수 선언해서 메모리를 낭비하는 것 보다는\n",
    "    print(a)                                    # 대신 _ 를 써도 괜찮다.\n",
    " \n",
    "for _ in range(10):                             # 별찍기에도 변수 i 가 굳이 필요가 없기 때문에  _를 써도 괜찮다.\n",
    "    print(\"*\",end='  ')"
   ]
  },
  {
   "cell_type": "code",
   "execution_count": 163,
   "metadata": {},
   "outputs": [
    {
     "name": "stdout",
     "output_type": "stream",
     "text": [
      "안녕하세요\n",
      "홍길동입니다.\n",
      "다음에 또 봅시다!\n",
      "['_Test__str3', '__class__', '__delattr__', '__dict__', '__dir__', '__doc__', '__eq__', '__format__', '__ge__', '__getattribute__', '__gt__', '__hash__', '__init__', '__init_subclass__', '__le__', '__lt__', '__module__', '__ne__', '__new__', '__reduce__', '__reduce_ex__', '__repr__', '__setattr__', '__sizeof__', '__str__', '__subclasshook__', '__weakref__', '_str2', 'show', 'str1']\n",
      "다음에 또 봅시다!\n"
     ]
    }
   ],
   "source": [
    "# _, __  : 접근권한\n",
    "\n",
    "class Test:\n",
    "    str1=\"안녕하세요\"\n",
    "    _str2=\"홍길동입니다.\"      # 앞에 _ 가 있으면 접근하지 말라는 표시다. 강제성은 없기 때문에 _ 접근하고 싶으면 접근가능\n",
    "                               # 하지만 _가 붙어 있으면 접근하지 말라는 경고표시이다. \n",
    "    __str3=\"다음에 또 봅시다!\" # __ 이거는 _ 보다 더 강제성있게 접근을 막는다.\n",
    "    \n",
    "    def show(self):\n",
    "        print(self.__str3)\n",
    "##########################################    \n",
    "    \n",
    "ob1=Test()\n",
    "print(ob1.str1)\n",
    "print(ob1._str2)               # _는 접근권한이지만 강제성이 없어서 그냥 출력되지만\n",
    "\n",
    "#print(ob1.__str3)              # __는 _보다는 강제성이 있어서 print로 출력하면 값이 나오지 않음\n",
    "\n",
    "                              \n",
    "ob1.show()                # 만약 __ 을 출력하고 싶으면  class 안에 함수만들면된다.\n",
    "                          # 이렇게 str3 출력할 수 있다. \n",
    "\n",
    "print(dir(Test))          #str3은 __가 붙어서 접근제어하기위해 이름이 바뀌었다. dir로 확인하면 _Test__str3으로 바뀐것을 확인할수 있다.\n",
    "\n",
    "print(ob1._Test__str3)   # 임의로 바뀐 이름으로 억지로 접근할수 있지만 좋은 방법은 아니다.  "
   ]
  },
  {
   "cell_type": "markdown",
   "metadata": {},
   "source": [
    "### List Comprehension"
   ]
  },
  {
   "cell_type": "code",
   "execution_count": 173,
   "metadata": {},
   "outputs": [
    {
     "name": "stdout",
     "output_type": "stream",
     "text": [
      "[0, 2, 4, 6, 8]\n",
      "[0, 2, 4, 6, 8]\n"
     ]
    }
   ],
   "source": [
    "result=[]\n",
    "for i in range(10):\n",
    "    if i %2==0:\n",
    "        result.append(i)\n",
    "    \n",
    "print(result)    \n",
    "    \n",
    "    \n",
    "result=[i for i in range(10)]     # result에 9까지의 숫자 i를 result에 담겠다는 뜻이다. 위에 있는 코드와 동일한 결과\n",
    "result=[i for i in range(10) if i%2==0]      #위에 있는 코드와 동일한 결과. 더 간단한 코드! \n",
    "print(result)"
   ]
  },
  {
   "cell_type": "code",
   "execution_count": 182,
   "metadata": {},
   "outputs": [
    {
     "ename": "SyntaxError",
     "evalue": "invalid syntax (<ipython-input-182-855cdb01b642>, line 3)",
     "output_type": "error",
     "traceback": [
      "\u001b[1;36m  File \u001b[1;32m\"<ipython-input-182-855cdb01b642>\"\u001b[1;36m, line \u001b[1;32m3\u001b[0m\n\u001b[1;33m    result=[for i in word1: for j in word2]\u001b[0m\n\u001b[1;37m              ^\u001b[0m\n\u001b[1;31mSyntaxError\u001b[0m\u001b[1;31m:\u001b[0m invalid syntax\n"
     ]
    }
   ],
   "source": [
    "word1=\"Hello\"\n",
    "word2=\"World\"\n",
    "result=[for i in word1: for j in word2]\n",
    "print(i,j)"
   ]
  },
  {
   "cell_type": "code",
   "execution_count": 191,
   "metadata": {},
   "outputs": [
    {
     "name": "stdout",
     "output_type": "stream",
     "text": [
      "['HW', 'Ho', 'Hr', 'Hl', 'Hd', 'eW', 'eo', 'er', 'el', 'ed', 'lW', 'lo', 'lr', 'll', 'ld', 'lW', 'lo', 'lr', 'll', 'ld', 'oW', 'oo', 'or', 'ol', 'od']\n",
      "---------------------------------------------\n",
      "['HW', 'Ho', 'Hr', 'Hl', 'Hd', 'eW', 'eo', 'er', 'el', 'ed', 'lW', 'lo', 'lr', 'll', 'ld', 'lW', 'lo', 'lr', 'll', 'ld', 'oW', 'oo', 'or', 'ol', 'od']\n"
     ]
    }
   ],
   "source": [
    "word1=\"Hello\"\n",
    "word2=\"World\"\n",
    "result=[]\n",
    "for i in word1:\n",
    "    for j in word2:\n",
    "        result.append(i+j)\n",
    "print(result)\n",
    "print(\"---------------------------------------------\")\n",
    "result2=[i+j for i in word1 for j in word2]\n",
    "print(result2)"
   ]
  },
  {
   "cell_type": "code",
   "execution_count": 201,
   "metadata": {},
   "outputs": [
    {
     "name": "stdout",
     "output_type": "stream",
     "text": [
      "['AD', 'AE', 'BD', 'BE', 'BA', 'CD', 'CE', 'CA']\n",
      "--------------------------------\n",
      "['AD', 'AE', 'BD', 'BE', 'BA', 'CD', 'CE', 'CA']\n"
     ]
    }
   ],
   "source": [
    "case1=['A','B','C']\n",
    "case2=['D','E','A']\n",
    "result2=[]\n",
    "\n",
    "for i in case1:\n",
    "    for j in case2:\n",
    "        if not i==j:\n",
    "            result2.append(i+j)\n",
    "print(result2)        \n",
    "print(\"--------------------------------\")\n",
    "result2=[i+j for i in case1 for j in case2 if not i==j]\n",
    "print(result2)        "
   ]
  },
  {
   "cell_type": "code",
   "execution_count": 220,
   "metadata": {},
   "outputs": [
    {
     "name": "stdout",
     "output_type": "stream",
     "text": [
      "[['THE', 'the', 3], ['QUICK', 'quick', 5], ['BROWN', 'brown', 5], ['FOX', 'fox', 3], ['JUMP', 'jump', 4], ['OVER', 'over', 4], ['THE', 'the', 3], ['LAZY', 'lazy', 4], ['DOG', 'dog', 3]]\n"
     ]
    }
   ],
   "source": [
    "words=\"The quick brown fox jump over the lazy dog\"\n",
    "result3=[]\n",
    "list= words.split(\" \")\n",
    "result3=[[i.upper(),i.lower(),len(i)] for i in list]\n",
    "\n",
    "print(result3)\n"
   ]
  },
  {
   "cell_type": "code",
   "execution_count": null,
   "metadata": {},
   "outputs": [],
   "source": [
    "'''\n",
    "e1 = Employee(1111, \"홍길동\", 1000000, [\"여행\", \"낚시\", \"운동\"])\n",
    "e1.display()\n",
    "\n",
    "결과:\n",
    "    사번 : 1111\n",
    "    이름 : 홍길동\n",
    "    급여 : 1000000\n",
    "    취미 : 여행, 낚시, 운동\n",
    "    \n",
    "e2 = Employee(1112, \"임꺽정\", 1200000, [\"자전거\", \"볼링\"])\n",
    "e3 = Employee(1113, \"신돌석\", 1000000, [\"독서\"])\n",
    "\n",
    "total = Employee.getCount()\n",
    "print(\"총 인원수 : \", total)\n",
    "\n",
    "e3.setSalary(2500000)\n",
    "e3.appendHobby([\"피아노\", \"드론\"])\n",
    "e3.display()\n",
    "\n",
    "결과:\n",
    "    사번 : 1113\n",
    "    이름 : 신돌석\n",
    "    급여 : 2500000\n",
    "    취미 : 독서, 피아노, 드론\n",
    "    '''"
   ]
  },
  {
   "cell_type": "markdown",
   "metadata": {},
   "source": [
    "## 상속(5/15)\n",
    "    - 상속설계시 고려할 점\n",
    "       + 부모 클래스는 최소한의 코드로 작성하는 것이 좋다.\n",
    "       + 중복된 코드가 있어서는 안된다. \n",
    "       + 상속받은 자식 클래스는 반드시 기능을 확장(추가) 시켜야 상속받는 의미가 있다.\n",
    "     \n",
    "    _ 다형성\n",
    "       + 오버라이드(재정의,상속과 관련) : 상속받은 메서드를 고쳐서 사용\n",
    "       + 오버로드(중복정의,상속과 무관) : 같은 이름의 함수를 여러개 만들 수 있다.\n",
    "     \n",
    "    - super() : 부모 객체에 접근하기 위한 주소를 리턴\n",
    "      \n",
    "    - 표준화 \n",
    "      \n",
    "    - 다중 상속  \n",
    "    \n",
    "    - 추상클래스(Abstract Class)\n",
    "       : 추상메서드를 한 개 이상 가지고 있어야 한다.\n",
    "       : 추상메서드란 내용이 없는 메서드를 의미한다. \n",
    "       \n",
    "    - object\n",
    "       "
   ]
  },
  {
   "cell_type": "code",
   "execution_count": 26,
   "metadata": {},
   "outputs": [
    {
     "name": "stdout",
     "output_type": "stream",
     "text": [
      "멍멍!\n",
      "움직인다\n",
      "강아지의 이름은 체리 입니다\n",
      "움직인다\n",
      "현재속도는  5\n"
     ]
    }
   ],
   "source": [
    "class Animal:\n",
    "    def move(self):\n",
    "        print(\"움직인다\")\n",
    "\n",
    "class Dog(Animal):\n",
    "    def bark(self):\n",
    "        print(\"멍멍!\")\n",
    "    def name(self,name):\n",
    "        self.name= name\n",
    "        print(\"강아지의 이름은\", self.name,\"입니다\")\n",
    "        \n",
    "class Horse(Animal):\n",
    "    def speed(self,s):\n",
    "        print(\"현재속도는 \",s)\n",
    "        \n",
    "######################################################################  \n",
    "a1=Dog()\n",
    "a1.bark()\n",
    "a1.move()\n",
    "a1.name(\"체리\")\n",
    "\n",
    "a2=Horse()\n",
    "a2.move()\n",
    "a2.speed('5')\n"
   ]
  },
  {
   "cell_type": "code",
   "execution_count": 50,
   "metadata": {},
   "outputs": [
    {
     "name": "stdout",
     "output_type": "stream",
     "text": [
      "30\n",
      "0.5\n",
      "-----------------------------------\n",
      "81\n"
     ]
    }
   ],
   "source": [
    "# 전자계산기\n",
    "class Calculator:\n",
    "   \n",
    "    def __init__(self, first=None, second=None):     # 생성자 \n",
    "        self.first = first\n",
    "        self.second = second\n",
    "        \n",
    "    def setData(self, first=None, second=None):      # 생성자와 같은 코드. 같은 코드를 2개나 쓴 이유는?\n",
    "                                                     # __init__는  초기생성자   setData는 또 반복해서 다시 계산하기 위함\n",
    "        self.first = first\n",
    "        self.second = second\n",
    "        \n",
    "    def sum(self):\n",
    "        return self.first + self.second\n",
    "    \n",
    "    def mul(self):\n",
    "        return self.first * self.second\n",
    "    \n",
    "    def div(self):\n",
    "        return self.first / self.second\n",
    "    \n",
    "    def sub(self):\n",
    "        return self.first - self.second\n",
    "    \n",
    "\n",
    "    \n",
    "class Calc_v1(Calculator):\n",
    "    def pow(self):\n",
    "        return self.first ** self.second\n",
    "      \n",
    "    \n",
    "    \n",
    "    \n",
    "################################################\n",
    "calc1=Calculator()\n",
    "calc1.setData(10,20)\n",
    "print(calc1.sum())\n",
    "print(calc1.div())\n",
    "print(\"-----------------------------------\")\n",
    "\n",
    "calc2=Calc_v1(3,4)\n",
    "print(calc2.pow())"
   ]
  },
  {
   "cell_type": "markdown",
   "metadata": {},
   "source": [
    "#### 오버로딩 불가"
   ]
  },
  {
   "cell_type": "code",
   "execution_count": 41,
   "metadata": {},
   "outputs": [
    {
     "ename": "TypeError",
     "evalue": "display() missing 1 required positional argument: 'b'",
     "output_type": "error",
     "traceback": [
      "\u001b[1;31m---------------------------------------------------------------------------\u001b[0m",
      "\u001b[1;31mTypeError\u001b[0m                                 Traceback (most recent call last)",
      "\u001b[1;32m<ipython-input-41-fc893adec11c>\u001b[0m in \u001b[0;36m<module>\u001b[1;34m\u001b[0m\n\u001b[0;32m      9\u001b[0m \u001b[1;31m# 똑같은 이름의 메서드가 있다. 각 각의 기능은 다르다. 구별하고 싶으면 매개변수로 구별하지만 이런 방식은 파이썬에서는 지원안함\u001b[0m\u001b[1;33m\u001b[0m\u001b[1;33m\u001b[0m\u001b[1;33m\u001b[0m\u001b[0m\n\u001b[0;32m     10\u001b[0m \u001b[0mt1\u001b[0m\u001b[1;33m=\u001b[0m\u001b[0mTest\u001b[0m\u001b[1;33m(\u001b[0m\u001b[1;33m)\u001b[0m\u001b[1;33m\u001b[0m\u001b[1;33m\u001b[0m\u001b[0m\n\u001b[1;32m---> 11\u001b[1;33m \u001b[0mt1\u001b[0m\u001b[1;33m.\u001b[0m\u001b[0mdisplay\u001b[0m\u001b[1;33m(\u001b[0m\u001b[1;33m)\u001b[0m\u001b[1;33m\u001b[0m\u001b[1;33m\u001b[0m\u001b[0m\n\u001b[0m",
      "\u001b[1;31mTypeError\u001b[0m: display() missing 1 required positional argument: 'b'"
     ]
    }
   ],
   "source": [
    "#파이썬에서 실행 불가\n",
    "class Test:\n",
    "    def display():\n",
    "        print(\"기본값출력\")\n",
    "    def display(a):\n",
    "        print(\"a 출력\",a)\n",
    "    def display(a,b):\n",
    "        print(\"a,b 출력\",a,b)  \n",
    "# 똑같은 이름의 메서드가 있다. 각 각의 기능은 다르다. 구별하고 싶으면 매개변수로 구별하지만 이런 방식은 파이썬에서는 지원안함        \n",
    "t1=Test()\n",
    "t1.display()"
   ]
  },
  {
   "cell_type": "code",
   "execution_count": 46,
   "metadata": {},
   "outputs": [
    {
     "name": "stdout",
     "output_type": "stream",
     "text": [
      "기본값출력\n",
      "10 None\n",
      "10 20\n"
     ]
    }
   ],
   "source": [
    "# 위에 있는 것을 파이썬에서 실행하는 방법  (파이썬에서는 오버로딩을 못써서 디폴트인수를 이용해서 해야한다.)\n",
    "class Test:\n",
    "    def display(self,a=None,b=None):\n",
    "        if a ==None and b==None:\n",
    "            print(\"기본값출력\")\n",
    "        else:\n",
    "            print(a,b)\n",
    "t1=Test()\n",
    "t1.display()\n",
    "t1.display(10)\n",
    "t1.display(10,20)"
   ]
  },
  {
   "cell_type": "markdown",
   "metadata": {},
   "source": [
    "### 오버라이딩(상속에서만 가능)"
   ]
  },
  {
   "cell_type": "code",
   "execution_count": 59,
   "metadata": {},
   "outputs": [
    {
     "name": "stdout",
     "output_type": "stream",
     "text": [
      "30\n",
      "0.5\n",
      "-----------------------------------\n",
      "0으로 나눌 수 없다.\n"
     ]
    }
   ],
   "source": [
    "# 전자계산기\n",
    "class Calculator:\n",
    "   \n",
    "    def __init__(self, first=None, second=None):     # 생성자 \n",
    "        self.first = first\n",
    "        self.second = second\n",
    "        \n",
    "    def setData(self, first=None, second=None):      # 생성자와 같은 코드. 같은 코드를 2개나 쓴 이유는?\n",
    "                                                     # __init__는  초기생성자   setData는 또 반복해서 다시 계산하기 위함\n",
    "        self.first = first\n",
    "        self.second = second\n",
    "        \n",
    "    def sum(self):\n",
    "        return self.first + self.second\n",
    "    \n",
    "    def mul(self):\n",
    "        return self.first * self.second\n",
    "    \n",
    "    def div(self):\n",
    "        return self.first / self.second\n",
    "    \n",
    "    def sub(self):\n",
    "        return self.first - self.second\n",
    "    \n",
    "\n",
    "    \n",
    "class Calc_v1(Calculator):\n",
    "    def pow(self):\n",
    "        return self.first ** self.second\n",
    "    \n",
    "    def div(self):                                       # 부모한테 물려받은 함수를 다시 쓰는 것. 이름은 동일해야한다.\n",
    "        if self.second==0:\n",
    "            return \"0으로 나눌 수 없다.\"\n",
    "        else:\n",
    "            return self.first / self.second                      \n",
    "\n",
    "\n",
    "        \n",
    "calc1=Calculator()\n",
    "calc1.setData(10,20)\n",
    "print(calc1.sum())\n",
    "print(calc1.div())\n",
    "print(\"-----------------------------------\")\n",
    "\n",
    "\n",
    "calc2=Calc_v1(3,0)\n",
    "print(calc2.div())"
   ]
  },
  {
   "cell_type": "markdown",
   "metadata": {},
   "source": [
    "#### super"
   ]
  },
  {
   "cell_type": "code",
   "execution_count": 66,
   "metadata": {},
   "outputs": [
    {
     "name": "stdout",
     "output_type": "stream",
     "text": [
      "Employee 클래스\n",
      "나이:20, 하고 싶은 말:일하는 동물\n",
      "나이:30, 하고 싶은 말:일하는 동물\n",
      "일하는 동물\n",
      "30\n",
      "난 사람\n",
      "20\n"
     ]
    }
   ],
   "source": [
    "class Person:\n",
    "    say=\"난 사람\"\n",
    "    age='20'\n",
    "    \n",
    "    def __init__(self,age):\n",
    "        print(\"Person 클래스\")\n",
    "        self.age=age\n",
    "        \n",
    "    def info(self):\n",
    "        print(\"나이:{}, 하고 싶은 말:{}\".format(self.age,self.say))\n",
    " \n",
    "\n",
    "class Employee(Person):\n",
    "    say=\"일하는 동물\"\n",
    "    subject=\"근로자\"\n",
    "    \n",
    "    def __init__(self):\n",
    "        print(\"Employee 클래스\")\n",
    "    \n",
    "    def einfo(self):                  \n",
    "        print(self.say)                  #   오버라이딩 , 원래 부모한테 있던 say를 재정의 한것이다.\n",
    "        print(self.age)\n",
    "        \n",
    "        \n",
    "        print(super().say)               #   새로 재정의한 say가 아니라 부모에 있는 say를 사용하고 싶을 때 부모인 super호출.\n",
    "        print(super().age) \n",
    "        \n",
    "        \n",
    "        \n",
    "        \n",
    "############################################################################\n",
    "\n",
    "e1= Employee()     # 자식클래스\n",
    "e1.info()          # 부모클래스에 있는  info 사용가능\n",
    "e1.age=30\n",
    "e1.info()\n",
    "e1.einfo()        \n",
    "  \n",
    "    \n",
    "    "
   ]
  },
  {
   "cell_type": "markdown",
   "metadata": {},
   "source": [
    "#### 접근제어 (파이썬은 원래 강제적인 접근제어는 없다. )"
   ]
  },
  {
   "cell_type": "code",
   "execution_count": 75,
   "metadata": {},
   "outputs": [
    {
     "name": "stdout",
     "output_type": "stream",
     "text": [
      "Employee 클래스\n",
      "나이:20, 하고 싶은 말:일하는 동물\n",
      "일하는 동물\n"
     ]
    },
    {
     "ename": "AttributeError",
     "evalue": "'Employee' object has no attribute '_Employee__age'",
     "output_type": "error",
     "traceback": [
      "\u001b[1;31m---------------------------------------------------------------------------\u001b[0m",
      "\u001b[1;31mAttributeError\u001b[0m                            Traceback (most recent call last)",
      "\u001b[1;32m<ipython-input-75-959a77cea768>\u001b[0m in \u001b[0;36m<module>\u001b[1;34m\u001b[0m\n\u001b[0;32m     35\u001b[0m \u001b[1;33m\u001b[0m\u001b[0m\n\u001b[0;32m     36\u001b[0m \u001b[0me1\u001b[0m\u001b[1;33m.\u001b[0m\u001b[0m__age\u001b[0m\u001b[1;33m=\u001b[0m \u001b[1;36m30\u001b[0m         \u001b[1;31m# 부모로 부터 물려받은 age값을 바꾼것이 아니라 e1이라는 객체에 새로운 age를 추가한것이다.\u001b[0m\u001b[1;33m\u001b[0m\u001b[1;33m\u001b[0m\u001b[0m\n\u001b[1;32m---> 37\u001b[1;33m \u001b[0me1\u001b[0m\u001b[1;33m.\u001b[0m\u001b[0meinfo\u001b[0m\u001b[1;33m(\u001b[0m\u001b[1;33m)\u001b[0m\u001b[1;33m\u001b[0m\u001b[1;33m\u001b[0m\u001b[0m\n\u001b[0m",
      "\u001b[1;32m<ipython-input-75-959a77cea768>\u001b[0m in \u001b[0;36meinfo\u001b[1;34m(self)\u001b[0m\n\u001b[0;32m     20\u001b[0m     \u001b[1;32mdef\u001b[0m \u001b[0meinfo\u001b[0m\u001b[1;33m(\u001b[0m\u001b[0mself\u001b[0m\u001b[1;33m)\u001b[0m\u001b[1;33m:\u001b[0m\u001b[1;33m\u001b[0m\u001b[1;33m\u001b[0m\u001b[0m\n\u001b[0;32m     21\u001b[0m         \u001b[0mprint\u001b[0m\u001b[1;33m(\u001b[0m\u001b[0mself\u001b[0m\u001b[1;33m.\u001b[0m\u001b[0msay\u001b[0m\u001b[1;33m)\u001b[0m\u001b[1;33m\u001b[0m\u001b[1;33m\u001b[0m\u001b[0m\n\u001b[1;32m---> 22\u001b[1;33m         \u001b[0mprint\u001b[0m\u001b[1;33m(\u001b[0m\u001b[0mself\u001b[0m\u001b[1;33m.\u001b[0m\u001b[0m__age\u001b[0m\u001b[1;33m)\u001b[0m\u001b[1;33m\u001b[0m\u001b[1;33m\u001b[0m\u001b[0m\n\u001b[0m\u001b[0;32m     23\u001b[0m \u001b[1;33m\u001b[0m\u001b[0m\n\u001b[0;32m     24\u001b[0m \u001b[1;33m\u001b[0m\u001b[0m\n",
      "\u001b[1;31mAttributeError\u001b[0m: 'Employee' object has no attribute '_Employee__age'"
     ]
    }
   ],
   "source": [
    "class Person:\n",
    "    say=\"난 사람\"\n",
    "    __age='20'          # age 접근제어 표시. 그래서 자식한테 제대로 물려줄수 없다.\n",
    "    \n",
    "    def __init__(self,age):\n",
    "        print(\"Person 클래스\")\n",
    "        self.__age=age\n",
    "        \n",
    "    def info(self):\n",
    "        print(\"나이:{}, 하고 싶은 말:{}\".format(self.__age,self.say))\n",
    "        \n",
    " \n",
    "\n",
    "class Employee(Person):\n",
    "    say=\"일하는 동물\"\n",
    "    subject=\"근로자\"\n",
    "    \n",
    "    def __init__(self):\n",
    "        print(\"Employee 클래스\")\n",
    "    \n",
    "    def einfo(self):                  \n",
    "        print(self.say)                  \n",
    "        print(self.__age)\n",
    "        \n",
    "        \n",
    "        print(super().say)               \n",
    "        print(super().__age)             # 접근제어를 하면 이름을 바꿔버렸기 때문에 아무리 super로 호출해도 오류가 난다.\n",
    "        \n",
    "        print(self._Person_age)\n",
    "        print(super()._Person_age)       # 접근제어를 한 age에 억지로 접근하는 방법. 하지만 좋은 방법이 아니다.\n",
    "                                         # 접근제어에 억지로 접근하는 것은 좋지않다.\n",
    "                \n",
    "        \n",
    "e1= Employee()     \n",
    "e1.info()          \n",
    "\n",
    "e1.__age= 30         # 부모로 부터 물려받은 age값을 바꾼것이 아니라 e1이라는 객체에 새로운 age를 추가한것이다.\n",
    "e1.einfo()\n"
   ]
  },
  {
   "cell_type": "code",
   "execution_count": 83,
   "metadata": {},
   "outputs": [
    {
     "name": "stdout",
     "output_type": "stream",
     "text": [
      "Employee 클래스\n",
      "나이:20, 하고 싶은 말:일하는 동물\n",
      "일하는 동물\n"
     ]
    },
    {
     "ename": "AttributeError",
     "evalue": "'Employee' object has no attribute '_Employee__age'",
     "output_type": "error",
     "traceback": [
      "\u001b[1;31m---------------------------------------------------------------------------\u001b[0m",
      "\u001b[1;31mAttributeError\u001b[0m                            Traceback (most recent call last)",
      "\u001b[1;32m<ipython-input-83-4f997329390e>\u001b[0m in \u001b[0;36m<module>\u001b[1;34m\u001b[0m\n\u001b[0;32m     42\u001b[0m \u001b[1;33m\u001b[0m\u001b[0m\n\u001b[0;32m     43\u001b[0m \u001b[0me1\u001b[0m\u001b[1;33m.\u001b[0m\u001b[0m__age\u001b[0m\u001b[1;33m=\u001b[0m \u001b[1;36m30\u001b[0m         \u001b[1;31m# 부모로 부터 물려받은 age값을 바꾼것이 아니라 e1이라는 객체에 새로운 age를 추가한것이다.\u001b[0m\u001b[1;33m\u001b[0m\u001b[1;33m\u001b[0m\u001b[0m\n\u001b[1;32m---> 44\u001b[1;33m \u001b[0me1\u001b[0m\u001b[1;33m.\u001b[0m\u001b[0meinfo\u001b[0m\u001b[1;33m(\u001b[0m\u001b[1;33m)\u001b[0m\u001b[1;33m\u001b[0m\u001b[1;33m\u001b[0m\u001b[0m\n\u001b[0m",
      "\u001b[1;32m<ipython-input-83-4f997329390e>\u001b[0m in \u001b[0;36meinfo\u001b[1;34m(self)\u001b[0m\n\u001b[0;32m     27\u001b[0m     \u001b[1;32mdef\u001b[0m \u001b[0meinfo\u001b[0m\u001b[1;33m(\u001b[0m\u001b[0mself\u001b[0m\u001b[1;33m)\u001b[0m\u001b[1;33m:\u001b[0m\u001b[1;33m\u001b[0m\u001b[1;33m\u001b[0m\u001b[0m\n\u001b[0;32m     28\u001b[0m         \u001b[0mprint\u001b[0m\u001b[1;33m(\u001b[0m\u001b[0mself\u001b[0m\u001b[1;33m.\u001b[0m\u001b[0msay\u001b[0m\u001b[1;33m)\u001b[0m\u001b[1;33m\u001b[0m\u001b[1;33m\u001b[0m\u001b[0m\n\u001b[1;32m---> 29\u001b[1;33m         \u001b[0mprint\u001b[0m\u001b[1;33m(\u001b[0m\u001b[0mself\u001b[0m\u001b[1;33m.\u001b[0m\u001b[0m__age\u001b[0m\u001b[1;33m)\u001b[0m\u001b[1;33m\u001b[0m\u001b[1;33m\u001b[0m\u001b[0m\n\u001b[0m\u001b[0;32m     30\u001b[0m \u001b[1;33m\u001b[0m\u001b[0m\n\u001b[0;32m     31\u001b[0m \u001b[1;33m\u001b[0m\u001b[0m\n",
      "\u001b[1;31mAttributeError\u001b[0m: 'Employee' object has no attribute '_Employee__age'"
     ]
    }
   ],
   "source": [
    "class Person:\n",
    "    say=\"난 사람\"\n",
    "    __age='20'          # age 접근제어 표시. 그래서 자식한테 제대로 물려줄수 없다.\n",
    "    \n",
    "    def __init__(self,age):\n",
    "        print(\"Person 클래스\")\n",
    "        self.__age=age\n",
    "        \n",
    "    def info(self):\n",
    "        print(\"나이:{}, 하고 싶은 말:{}\".format(self.__age,self.say))\n",
    "        \n",
    "    def setAge(self, age):     # 굳이 age에 접근하려면(age에 대한 검증을 하고 싶으면) 따로 함수를 선언해서 확인해보자\n",
    "                               # Setter 메서드 (직접 접근하기 힘든 변수에 접근하고 싶을 때). 암묵적으로 이름은 set으로 시작해야한다.\n",
    "        self.__age = age\n",
    "    \n",
    "    def getAge(self):          # Getter 메서드. \n",
    "        return self.__age\n",
    "        \n",
    " \n",
    "\n",
    "class Employee(Person):\n",
    "    say=\"일하는 동물\"\n",
    "    subject=\"근로자\"\n",
    "    \n",
    "    def __init__(self):\n",
    "        print(\"Employee 클래스\")\n",
    "    \n",
    "    def einfo(self):                  \n",
    "        print(self.say)                  \n",
    "        print(self.__age)\n",
    "        \n",
    "        \n",
    "        print(super().say)               \n",
    "        print(super().__age)             # 접근제어를 하면 이름을 바꿔버렸기 때문에 아무리 super로 호출해도 오류가 난다.\n",
    "        \n",
    "        print(self._Person_age)\n",
    "        print(super()._Person_age)       # 접근제어를 한 age에 억지로 접근하는 방법. 하지만 좋은 방법이 아니다.\n",
    "                                         # 접근제어에 억지로 접근하는 것은 좋지않다.\n",
    "                \n",
    "        \n",
    "e1= Employee()     \n",
    "e1.info()          \n",
    "\n",
    "e1.__age= 30         # 부모로 부터 물려받은 age값을 바꾼것이 아니라 e1이라는 객체에 새로운 age를 추가한것이다.\n",
    "e1.einfo()\n"
   ]
  },
  {
   "cell_type": "markdown",
   "metadata": {},
   "source": [
    "### 표준화"
   ]
  },
  {
   "cell_type": "code",
   "execution_count": 85,
   "metadata": {},
   "outputs": [
    {
     "name": "stdout",
     "output_type": "stream",
     "text": [
      "TV 볼륨의 크기는 10만큼 증가하여 현재 볼륨은 10 입니다.\n",
      "TV 볼륨의 크기는 3만큼 감소하여 현재 볼륨은 7 입니다.\n"
     ]
    }
   ],
   "source": [
    "class Volume:      # 부모클래스\n",
    "    vol = 0\n",
    "    def volumeUp(self, vol):\n",
    "        self.vol += vol\n",
    "        print(\"볼륨의 크기는 %d만큼 증가하여 현재 볼륨은 %d 입니다.\"% (vol, self.vol))\n",
    "        \n",
    "    def volumeDown(self, vol):\n",
    "        self.vol -= vol\n",
    "        print(\"볼륨의 크기는 %d만큼 감소하여 현재 볼륨은 %d 입니다.\"% (vol, self.vol))\n",
    "        \n",
    "############################################\n",
    "\n",
    "class TV(Volume):\n",
    "    def volumeUp(self, vol):\n",
    "        self.vol += vol\n",
    "        print(\"TV 볼륨의 크기는 %d만큼 증가하여 현재 볼륨은 %d 입니다.\"% (vol, self.vol))\n",
    "        \n",
    "    def volumeDown(self, vol):\n",
    "        self.vol -= vol\n",
    "        print(\"TV 볼륨의 크기는 %d만큼 감소하여 현재 볼륨은 %d 입니다.\"% (vol, self.vol))\n",
    "\n",
    "############################################\n",
    "\n",
    "class Radio(Volume):\n",
    "    def volumeUp(self, vol):\n",
    "        self.vol += vol\n",
    "        print(\"Radio 볼륨의 크기는 %d만큼 증가하여 현재 볼륨은 %d 입니다.\"% (vol, self.vol))\n",
    "        \n",
    "    def volumeDown(self, vol):\n",
    "        self.vol -= vol\n",
    "        print(\"Radio 볼륨의 크기는 %d만큼 감소하여 현재 볼륨은 %d 입니다.\"% (vol, self.vol))\n",
    "\n",
    "############################################\n",
    "\n",
    "class Speaker(Volume):\n",
    "    def volumeUp(self, vol):\n",
    "        self.vol += vol\n",
    "        print(\"Speaker 볼륨의 크기는 %d만큼 증가하여 현재 볼륨은 %d 입니다.\"% (vol, self.vol))\n",
    "        \n",
    "    def volumeDown(self, vol):\n",
    "        self.vol -= vol\n",
    "        print(\"Speaker 볼륨의 크기는 %d만큼 감소하여 현재 볼륨은 %d 입니다.\"% (vol, self.vol))\n",
    "\n",
    "\n",
    "        \n",
    "tv= TV()\n",
    "radio=Radio()\n",
    "speaker=Speaker()\n",
    "\n",
    "tv.volumeUp(10)\n",
    "tv.volumeDown(3)\n",
    "        "
   ]
  },
  {
   "cell_type": "markdown",
   "metadata": {},
   "source": [
    "### 다중상속"
   ]
  },
  {
   "cell_type": "code",
   "execution_count": 87,
   "metadata": {},
   "outputs": [
    {
     "name": "stdout",
     "output_type": "stream",
     "text": [
      "통화가능\n",
      "촬영가능\n"
     ]
    }
   ],
   "source": [
    "class Phone:\n",
    "    def call(self):\n",
    "        print(\"통화가능\")\n",
    "        \n",
    "class Camera:\n",
    "    def picture(self):\n",
    "        print(\"촬영가능\")\n",
    "        \n",
    "class PhoneCamera(Phone,Camera):     # 폰과 카메라 양쪽에서 상속받았기 때문에 다중상속이다. \n",
    "    pass\n",
    "\n",
    "##########################################\n",
    "\n",
    "cp = PhoneCamera()\n",
    "cp.call()\n",
    "cp.picture()"
   ]
  },
  {
   "cell_type": "markdown",
   "metadata": {},
   "source": [
    "### 추상클래스와 추상메서드"
   ]
  },
  {
   "cell_type": "code",
   "execution_count": 91,
   "metadata": {},
   "outputs": [
    {
     "name": "stdout",
     "output_type": "stream",
     "text": [
      "TV 볼륨의 크기는 10만큼 증가하여 현재 볼륨은 10 입니다.\n",
      "TV 볼륨의 크기는 7만큼 감소하여 현재 볼륨은 3 입니다.\n"
     ]
    },
    {
     "ename": "TypeError",
     "evalue": "Can't instantiate abstract class Volume with abstract methods volumeDown, volumeUp",
     "output_type": "error",
     "traceback": [
      "\u001b[1;31m---------------------------------------------------------------------------\u001b[0m",
      "\u001b[1;31mTypeError\u001b[0m                                 Traceback (most recent call last)",
      "\u001b[1;32m<ipython-input-91-850d21992f9d>\u001b[0m in \u001b[0;36m<module>\u001b[1;34m\u001b[0m\n\u001b[0;32m     28\u001b[0m \u001b[1;33m\u001b[0m\u001b[0m\n\u001b[0;32m     29\u001b[0m \u001b[1;33m\u001b[0m\u001b[0m\n\u001b[1;32m---> 30\u001b[1;33m \u001b[0mv1\u001b[0m\u001b[1;33m=\u001b[0m\u001b[0mVolume\u001b[0m\u001b[1;33m(\u001b[0m\u001b[1;33m)\u001b[0m\u001b[1;33m\u001b[0m\u001b[1;33m\u001b[0m\u001b[0m\n\u001b[0m\u001b[0;32m     31\u001b[0m \u001b[0mv1\u001b[0m\u001b[1;33m.\u001b[0m\u001b[0mvol\u001b[0m\u001b[1;33m=\u001b[0m\u001b[1;36m10\u001b[0m\u001b[1;33m\u001b[0m\u001b[1;33m\u001b[0m\u001b[0m\n",
      "\u001b[1;31mTypeError\u001b[0m: Can't instantiate abstract class Volume with abstract methods volumeDown, volumeUp"
     ]
    }
   ],
   "source": [
    "import abc     # 추상메서드를 실행한 메서드는 오버라이딩을 해줘야한다. \n",
    "\n",
    "class Volume(metaclass=abc.ABCMeta):      \n",
    "    vol = 0\n",
    "    \n",
    "    @abc.abstractclassmethod       # 추상메서드 선언. 이제 volumeUp 은 추상메서드이다.\n",
    "    def volumeUp(self, vol):\n",
    "        pass\n",
    "    @abc.abstractclassmethod\n",
    "    def volumeDown(self, vol):\n",
    "        pass\n",
    "############################################\n",
    "\n",
    "class TV(Volume):                                 \n",
    "    def volumeUp(self, vol):                         \n",
    "        self.vol += vol\n",
    "        print(\"TV 볼륨의 크기는 %d만큼 증가하여 현재 볼륨은 %d 입니다.\"% (vol, self.vol))\n",
    "        \n",
    "    def volumeDown(self, vol):\n",
    "        self.vol -= vol\n",
    "        print(\"TV 볼륨의 크기는 %d만큼 감소하여 현재 볼륨은 %d 입니다.\"% (vol, self.vol))\n",
    "\n",
    "tv=TV()\n",
    "tv.volumeUp(10)\n",
    "tv.volumeDown(7)    \n",
    "# 추상메서드를 하지않고 오버라이딩도 안해주면 오류가 나지 않는다 . 그냥 넘어간다. 그래서 오류가 있다고 표시를 해주기 위해서는\n",
    "# 추상메서드르 만들어줘야한다. 추상메서드를 만들고 오버라이딩을 하지 않으면 오버라이딩을 해달라서 오류메세지라 나온다.\n",
    "\n",
    "\n",
    "v1=Volume()      #  추상클래스는 객체를 생성할 수 없다.   \n",
    "v1.vol=10\n"
   ]
  },
  {
   "cell_type": "markdown",
   "metadata": {},
   "source": [
    "### object"
   ]
  },
  {
   "cell_type": "code",
   "execution_count": 95,
   "metadata": {},
   "outputs": [
    {
     "name": "stdout",
     "output_type": "stream",
     "text": [
      "<class 'int'>\n"
     ]
    },
    {
     "data": {
      "text/plain": [
       "['__abstractmethods__',\n",
       " '__class__',\n",
       " '__delattr__',\n",
       " '__dict__',\n",
       " '__dir__',\n",
       " '__doc__',\n",
       " '__eq__',\n",
       " '__format__',\n",
       " '__ge__',\n",
       " '__getattribute__',\n",
       " '__gt__',\n",
       " '__hash__',\n",
       " '__init__',\n",
       " '__init_subclass__',\n",
       " '__le__',\n",
       " '__lt__',\n",
       " '__module__',\n",
       " '__ne__',\n",
       " '__new__',\n",
       " '__reduce__',\n",
       " '__reduce_ex__',\n",
       " '__repr__',\n",
       " '__setattr__',\n",
       " '__sizeof__',\n",
       " '__str__',\n",
       " '__subclasshook__',\n",
       " '__weakref__',\n",
       " '_abc_impl',\n",
       " 'vol',\n",
       " 'volumeDown',\n",
       " 'volumeUp']"
      ]
     },
     "execution_count": 95,
     "metadata": {},
     "output_type": "execute_result"
    }
   ],
   "source": [
    "dir(object)\n",
    "\n",
    "a = int()\n",
    "print(type(a))\n",
    "dir(a)\n",
    "\n",
    "\n",
    "dir(tv)\n",
    "\n"
   ]
  },
  {
   "cell_type": "code",
   "execution_count": 104,
   "metadata": {},
   "outputs": [
    {
     "name": "stdout",
     "output_type": "stream",
     "text": [
      "파이썬 클래스\n",
      "파이썬 클래스\n",
      "파이썬 클래스\n",
      "-------------------------------------------\n",
      "데이터변경\n",
      "데이터변경\n",
      "데이터변경\n"
     ]
    }
   ],
   "source": [
    "# __class__  : static \n",
    "\n",
    "class Test:\n",
    "    data=\"파이썬 클래스\"\n",
    "    \n",
    "###########################################\n",
    "\n",
    "a1= Test()\n",
    "a2= Test()\n",
    "\n",
    "print(a1.data)\n",
    "print(a2.data)\n",
    "print(Test.data)\n",
    "print(\"-------------------------------------------\")\n",
    "\n",
    "\n",
    "#a1.data=\"데이터 변경\"\n",
    "#Test.data=\"데이터변경2\"\n",
    "#print(a1.data)\n",
    "#print(a2.data)\n",
    "#print(Test.data)\n",
    "\n",
    "\n",
    "\n",
    "a1.__class__.data=\"데이터변경\"\n",
    "print(a1.data)\n",
    "print(a2.data)\n",
    "print(Test.data)"
   ]
  },
  {
   "cell_type": "code",
   "execution_count": 112,
   "metadata": {},
   "outputs": [
    {
     "name": "stdout",
     "output_type": "stream",
     "text": [
      "멍멍이 10\n",
      "고양이 5\n"
     ]
    }
   ],
   "source": [
    "# __slots__: 객체 별로 변수를 추가 금지\n",
    "\n",
    "class Animal:\n",
    "    #name='동물'\n",
    "    #age=0\n",
    "    \n",
    "    __slots__=['name','age']     # name과 age 이외의 객체를 맘대로 추가 시킬 수 없다. \n",
    "    \n",
    "    \n",
    "    def display(self):\n",
    "        print(self.name,self.age)\n",
    "######################################################\n",
    "\n",
    "dog = Animal()\n",
    "cat = Animal()\n",
    "\n",
    "dog.name=\"멍멍이\"\n",
    "dog.age=10\n",
    "\n",
    "cat.name=\"고양이\"\n",
    "cat.age=5\n",
    "\n",
    "dog.display()\n",
    "cat.display()\n",
    "\n",
    "\n",
    "#dog.etc=\"예방접종을 받았음\"\n",
    "#print(dog.etc)"
   ]
  },
  {
   "cell_type": "code",
   "execution_count": null,
   "metadata": {},
   "outputs": [],
   "source": []
  },
  {
   "cell_type": "code",
   "execution_count": null,
   "metadata": {},
   "outputs": [],
   "source": []
  }
 ],
 "metadata": {
  "kernelspec": {
   "display_name": "Python 3",
   "language": "python",
   "name": "python3"
  },
  "language_info": {
   "codemirror_mode": {
    "name": "ipython",
    "version": 3
   },
   "file_extension": ".py",
   "mimetype": "text/x-python",
   "name": "python",
   "nbconvert_exporter": "python",
   "pygments_lexer": "ipython3",
   "version": "3.7.6"
  }
 },
 "nbformat": 4,
 "nbformat_minor": 4
}
