{
 "cells": [
  {
   "cell_type": "markdown",
   "metadata": {},
   "source": [
    "## 1. 함수의 정의\n",
    "    - 일정한 작업을 수행하는 코드블럭\n",
    "\n",
    "## 2. 함수의 장점\n",
    "    - 반복적인 코드를 없애주어 코드의 길이를 짧게 만들어 준다.\n",
    "    - 프로그램의 유지보수를 쉽게 해준다.\n",
    "## 3. 함수 정의\n",
    "    - def 함수이름(........):\n",
    "          코드 작성\n",
    "          \n",
    "          return\n",
    "## 4. 함수호출유형(방식)\n",
    "    + 인자(인수)가 없는 방식\n",
    "    + 인가가 있는 방식\n",
    "    + 반환값(return)이 있는 방식\n",
    "       - return\n",
    "           * 값을 반환화 (1개만 반환)\n",
    "           * 함수를 강제 종료\n",
    "## 5. 함수의 설계\n",
    "     - 재사용성 (한 번쓰고 말거면 굳이 함수로 만들필요가 없다.)\n",
    "     - 단일기능 (한 함수에 여러기능을 추가시키지 말 것!)\n",
    "## 6. 함수의 종류\n",
    "     - 내장함수(Bulit-in)  ex) print\n",
    "     - 외장함수()  - 설치되어있으면   import\n",
    "                   - 설치 x           pip를 이용해서 설치해야한다.\n",
    "     - 사용자정의함수 : 내가 직접 만든 함수\n",
    "           \n",
    "###### 모듈화의 최소단위는 함수           "
   ]
  },
  {
   "cell_type": "code",
   "execution_count": 52,
   "metadata": {},
   "outputs": [],
   "source": [
    "def line(a,type):       #여기서 a는 매개변수라 한다.   (a,type)=( 갯수,모양)\n",
    "    for i in range(a):\n",
    "        print(type,end= '')\n",
    "    print()    "
   ]
  },
  {
   "cell_type": "code",
   "execution_count": 17,
   "metadata": {},
   "outputs": [
    {
     "name": "stdout",
     "output_type": "stream",
     "text": [
      "----------------------------------------\n",
      "                친구관리 프로그램                \n",
      "^^^^^^^^^^^^^^^^^^^^^^^^^^^^^^\n",
      " 1. 친구목록출력\n",
      " 2. 친구추가\n",
      " 3. 친구삭제\n",
      " 4. 종료\n",
      "%%%%%%%%%%%%%%%%%%%%\n"
     ]
    }
   ],
   "source": [
    "line(40,'-')\n",
    "print(\"                친구관리 프로그램                \")\n",
    "line(30,'^')\n",
    "print(\" 1. 친구목록출력\")\n",
    "print(\" 2. 친구추가\")\n",
    "print(\" 3. 친구삭제\")\n",
    "print(\" 4. 종료\")\n",
    "line(20,'%')"
   ]
  },
  {
   "cell_type": "code",
   "execution_count": 42,
   "metadata": {},
   "outputs": [],
   "source": [
    "def swqp(num1,num2):\n",
    "    num3=num2\n",
    "    num2=num1\n",
    "    num1=num3\n",
    "    return num1,num2\n",
    "    "
   ]
  },
  {
   "cell_type": "code",
   "execution_count": 44,
   "metadata": {},
   "outputs": [
    {
     "name": "stdout",
     "output_type": "stream",
     "text": [
      "두 수의 교환\n",
      "결과:  80 70\n"
     ]
    }
   ],
   "source": [
    "print(\"두 수의 교환\")\n",
    "n1,n2 =swqp(70,80)\n",
    "print(\"결과: \",n1,n2)"
   ]
  },
  {
   "cell_type": "code",
   "execution_count": 51,
   "metadata": {},
   "outputs": [
    {
     "name": "stdout",
     "output_type": "stream",
     "text": [
      "None\n"
     ]
    }
   ],
   "source": [
    "def swqp1(num1,num2):\n",
    "    num3= num1\n",
    "    if num1 ==0:\n",
    "        return    \n",
    "    num1=num2\n",
    "    num2=num3\n",
    "\n",
    "    return num1,num2\n",
    "\n",
    "a=swqp1(0,10)\n",
    "print(a)"
   ]
  },
  {
   "cell_type": "markdown",
   "metadata": {},
   "source": [
    "### 파이썬에서 함수를 지원하기 위한 문법"
   ]
  },
  {
   "cell_type": "code",
   "execution_count": 59,
   "metadata": {},
   "outputs": [
    {
     "name": "stdout",
     "output_type": "stream",
     "text": [
      "전국대표\n",
      "지역대표 홍길동\n"
     ]
    }
   ],
   "source": [
    "# 변수의 유효범위 : 지역변수(자기가 선언된 메모리내에서 사용하는 변수)\n",
    "#                   전역변수\n",
    "\n",
    "player =\"전국대표\"      # player는 전역변수\n",
    "def funcSoccer():\n",
    "    name=\"홍길동\"        # name은 def funcSoccer에서만 사용할 수 있는 지역변수이다.\n",
    "    player=\"지역대표\"    # player 라는 것은 지역변수인데 전역변수에 같은 이름의 변수가 있으므로 이름을 바꾸는게 좋다.\n",
    "    print(player,name)\n",
    "\n",
    "###############################################################\n",
    "print(player)               #   print 한 것은 player 전역변수\n",
    "funcSoccer()                #   함수에서 사용하는 것은 함수안에서 선언한 player(지역변수) 이므로 지역대표가 출력."
   ]
  },
  {
   "cell_type": "code",
   "execution_count": null,
   "metadata": {},
   "outputs": [],
   "source": [
    "funcSoccer()"
   ]
  },
  {
   "cell_type": "code",
   "execution_count": 122,
   "metadata": {},
   "outputs": [
    {
     "name": "stdout",
     "output_type": "stream",
     "text": [
      "지역대표 홍길동\n",
      "지역대표\n"
     ]
    }
   ],
   "source": [
    "player =\"전국대표\"      # player는 전역변수\n",
    "def funcSoccer():\n",
    "    global player\n",
    "    name=\"홍길동\"        # name은 def funcSoccer에서만 사용할 수 있는 지역변수이다.\n",
    "    player=\"지역대표\"    # player 라는 것은 지역변수인데 전역변수에 같은 이름의 변수가 있으므로 이름을 바꾸는게 좋다.\n",
    "    print(player,name)\n",
    "  ################################\n",
    "funcSoccer()\n",
    "print(player)            # 전체적으로 함수안에 선언된 player를 쓰고 싶을 경우 global을 해주면 \n",
    "                         # 선언된 지역변수를 전역변수처럼(?) 사용할 수 있다."
   ]
  },
  {
   "cell_type": "code",
   "execution_count": 3,
   "metadata": {},
   "outputs": [
    {
     "name": "stdout",
     "output_type": "stream",
     "text": [
      "******************************\n",
      "******************************\n",
      "안녕하세요! 서울에 사는 윤정한님! 당신의 나이는 26세 입니다.\n",
      "안녕하세요! 부산에 사는 하이님! 당신의 나이는 29세 입니다.\n",
      "안녕하세요! 제주도에 사는 홍길동님! 당신의 나이는 23세 입니다.\n"
     ]
    }
   ],
   "source": [
    "# default 인수\n",
    "def line(type, a=30):           #디폴트 값은 맨 뒤에 와야한다. 디폴트값은 여러개를 사용할 수 있다.   (a=30,type)이라고 하면 에러\n",
    "    for i in range(a):\n",
    "        print(\"*\",end= '')\n",
    "    print()    \n",
    " \n",
    "\n",
    "\n",
    "def hello(addr,age,name=None):\n",
    "    if name == None:\n",
    "        print(\"이름을 입력해주세요!\")\n",
    "        return\n",
    "    else:\n",
    "        print(\"안녕하세요! {1}에 사는 {0}님! 당신의 나이는 {2}세 입니다.\".format(name,addr,age))\n",
    "####################################################\n",
    "\n",
    "line('*',30)\n",
    "line('*')       # 인자를 써주지 않아도 미리 함수에 기본값(디폴트값)을 30으로 지정했기 때문에 인자가 없어도 알아서 디폴트값으로 출력.\n",
    "\n",
    "hello('서울',26,'윤정한')\n",
    "hello(addr='부산',name='하이',age=29)      # 함수의 순서에 맞지 않게 쓰지않고 '변수명'= 값 을 써서 인자값을 넘겨줄 수 있다.\n",
    "hello('제주도',name='홍길동',age=23)"
   ]
  },
  {
   "cell_type": "code",
   "execution_count": 117,
   "metadata": {},
   "outputs": [
    {
     "name": "stdout",
     "output_type": "stream",
     "text": [
      "홍길동\n",
      "-------\n",
      "('홍길동', '임꺽정')\n",
      "('홍길동', '임꺽정')\n",
      "<class 'tuple'>\n",
      "<class 'list'> ['홍길동', '임꺽정']\n",
      "['홍길동', '임꺽정', '유비']\n",
      "*******************************\n",
      "('홍길동', '임꺽정', ['가나다', '라마바', '사아자'])\n",
      "<class 'tuple'> ('홍길동', '임꺽정', ['가나다', '라마바', '사아자'])\n",
      "라마바\n"
     ]
    }
   ],
   "source": [
    "## 가변인수\n",
    "#   * : packing,unpacking (튜플형식으로)\n",
    "## ** : dict 형식으로\n",
    "\n",
    "def greeting(name):\n",
    "    print(name)\n",
    "##############################################################    \n",
    "greeting('홍길동')\n",
    "\n",
    "#  greeting('홍길동','임꺽정')     #매개변수는 하나이므로 두개를 입력하면 오류! 이럴 땐 가변인수를 이용\n",
    "def greeting(*name):               # *를 매개변수 앞에 붙여주면 원하는 개수만큼 변수를 받을 수 있다. 결과는 튜플로 나옴( 값1,값2 )\n",
    "    print(name)    \n",
    "    result= name\n",
    "    return name\n",
    "print(\"-------\")\n",
    "a=greeting('홍길동','임꺽정')\n",
    "print(a)\n",
    "print(type(a))\n",
    "b= list(a)\n",
    "print(type(b),b)\n",
    "b.append('유비')\n",
    "print(b)\n",
    "print(\"*******************************\")\n",
    "c=greeting('홍길동','임꺽정',['가나다','라마바','사아자'])\n",
    "print(type(c),c)\n",
    "print(c[2][1])"
   ]
  },
  {
   "cell_type": "code",
   "execution_count": 141,
   "metadata": {},
   "outputs": [
    {
     "name": "stdout",
     "output_type": "stream",
     "text": [
      "**********************************************\n",
      "홍길동 님 환영합니다 170 60\n",
      "임꺽정 님 환영합니다 180 75\n",
      "유비 님 환영합니다 180 75\n",
      "관우 님 환영합니다 180 75\n",
      "장비 님 환영합니다 180 75\n",
      "##############################################\n",
      "1 [2, 3, 4, 5]\n",
      "\n",
      "\n",
      "1 2 3 4 5\n"
     ]
    }
   ],
   "source": [
    "def greeting2(height,weight,*name):          #가변인수도 디폴트 값처럼 맨뒤에 써야한다, 가변인수는 하나만 있어야한다.\n",
    "    for i in name:\n",
    "        print(i,\"님 환영합니다\",height,weight) \n",
    "print(\"**********************************************\")\n",
    "\n",
    "greeting2(170,60,'홍길동')\n",
    "greeting2(180,75,'임꺽정','유비','관우','장비')\n",
    "\n",
    "print(\"##############################################\")\n",
    "\n",
    "def test(a,b):       # 매개변수는 2개지만 튜플이나 리스트로 받을 수 있다. 즉, 패킹처리가 된다.\n",
    "    print(a,b)\n",
    "test(1,[2,3,4,5])       \n",
    "print('\\n')\n",
    "def test(a,b):       # * 이 앞에 있으면 패킹 처리되었던 것이 언패킹이 되면서 각각 개별이 된다. \n",
    "    print(a,*b)\n",
    "test(1,[2,3,4,5])\n"
   ]
  },
  {
   "cell_type": "code",
   "execution_count": 152,
   "metadata": {},
   "outputs": [
    {
     "name": "stdout",
     "output_type": "stream",
     "text": [
      "50 160\n",
      "{'name': '홍길동', 'age': 20, 'addr': '서울', 'blood_type': 'A'}\n",
      "---------------------------------\n",
      "10 4 3 2\n"
     ]
    }
   ],
   "source": [
    "#나머지 정보들은  other에 저장\n",
    "def test2(weight,height,**other):      # other에 들어가는 정보가 많다. 이 때 **을 쓰면 dict 형식으로 묶어준다.\n",
    "    print(weight,height)\n",
    "    print(other)\n",
    "#########################################\n",
    "a=test2(50,160,name='홍길동',age=20,addr='서울',blood_type='A')\n",
    "\n",
    "print(\"---------------------------------\")\n",
    "\n",
    "def test3(a,b,c,d):\n",
    "    print(a,b,c,d)\n",
    "data={'c':3,'d':2,'b':4}    \n",
    "test3(10,**data)               ## test3(10,data) 이렇게  data앞에 **를 하지 않으면 오류가 난다. \n",
    "                               #  **를 불임으로써 data를 dict 형식으로 처리하겠다는 의미가 된다. "
   ]
  },
  {
   "cell_type": "markdown",
   "metadata": {},
   "source": [
    "## 내장함수(all,any,eval,enumerate,map,zip)"
   ]
  },
  {
   "cell_type": "code",
   "execution_count": 161,
   "metadata": {},
   "outputs": [
    {
     "name": "stdout",
     "output_type": "stream",
     "text": [
      "True\n",
      "False\n",
      "True\n",
      "False\n"
     ]
    }
   ],
   "source": [
    "# all(): and연산자를 함수로 만든것, any(): or 연산자를 함수로 만든것\n",
    "\n",
    "print(all([1,2,3,-1,-2]))     # all: 하나라도 값이 0이거나 값이 없으면 False가 나온다.\n",
    "print(all([0,1,2,3,' ']))\n",
    "\n",
    "print(any([0,2,' ',-3]))      # any: 하나라도 값이 있으면 True\n",
    "print(any([0,0,0,0]))"
   ]
  },
  {
   "cell_type": "code",
   "execution_count": 123,
   "metadata": {},
   "outputs": [
    {
     "name": "stdout",
     "output_type": "stream",
     "text": [
      "0 : 홍길동     1 : 임꺽정     2 : 3.14     3 : 1000     4 : True     ------------------------------------\n",
      "<enumerate object at 0x00000209F2B57A48>\n",
      "[(0, '안'), (1, '녕'), (2, '하'), (3, '세'), (4, '요')]\n"
     ]
    }
   ],
   "source": [
    "# enumerate(iterator) : 순서있는 자료형(리스트,튜플)을 입력받아 인덱스 값을 포함해서 리턴. 리턴할 때는 튜플형식으로 리턴\n",
    "enum1=enumerate(['홍길동','임꺽정',3.14,1000,True])\n",
    "\n",
    "for a,b in enum1:       # 여기서는 a가 인덱스를 받고 b가 값을 받는다.\n",
    "    print(a,':',b, end='     ')\n",
    "print(\"------------------------------------\")\n",
    "a= enumerate('안녕하세요')\n",
    "print(a)\n",
    "print(list(a))\n",
    "    "
   ]
  },
  {
   "cell_type": "code",
   "execution_count": 176,
   "metadata": {},
   "outputs": [
    {
     "name": "stdout",
     "output_type": "stream",
     "text": [
      "3+4\n",
      "7\n",
      "all([1,2,3,-1,-2])\n",
      "True\n"
     ]
    }
   ],
   "source": [
    "# eval(expression) : 표현식을 파이썬에서 실행가능하게 만들어주는 역할\n",
    "print('3+4')\n",
    "print(eval('3+4'))       # '3+4'는 문자열이지만 실제로 3+4가 계산되어서 출력된다. \n",
    "\n",
    "print('all([1,2,3,-1,-2])')\n",
    "print(eval('all([1,2,3,-1,-2])'))       #'all[1,2,3,-1,-2]' 자체가 파이썬에서 실행가능하므로  True라고 출력된다. "
   ]
  },
  {
   "cell_type": "code",
   "execution_count": 195,
   "metadata": {},
   "outputs": [
    {
     "name": "stdout",
     "output_type": "stream",
     "text": [
      "<class 'int'> 102\n",
      "-------------------------------------\n",
      "[12, 22, 32, 42, 52]\n",
      "---------------------------------------\n",
      "<map object at 0x00000230EA8C9248>\n",
      "(12, 22, 32, 42, 52)\n",
      "--------------------------------------------\n",
      "[12, 22, 32, 42, 52]\n"
     ]
    }
   ],
   "source": [
    "# map(function,iterable)  : 집합의 각 요소가 함수에 의해 수행된 결과를 묶어서 리턴을 한다.\n",
    "# iterable  은 집합자료형을 의미한다.\n",
    "\n",
    "#map을 사용 x\n",
    "def calc(x):\n",
    "    return x+2\n",
    "############################################\n",
    "a=calc(100)\n",
    "print(type(a),a)\n",
    "print(\"-------------------------------------\")\n",
    "data=[10,20,30,40,50]\n",
    "result=[ ]    \n",
    "for i in data:\n",
    "    a=calc(i)\n",
    "    result.append(a)\n",
    "print(result) \n",
    "print(\"---------------------------------------\")\n",
    "\n",
    "\n",
    "#map  사용 o \n",
    "print(map(calc, data))     #  이렇게하면(map만 쓰면) 그 값의 주소값을 가져온다.\n",
    "print(tuple((map(calc,data))))    # 값을 원하면  list이나  tuple  처리 해면된다.     \n",
    "                                # 이런 경우  calc 를 콜백함수라고 한다. \n",
    "                                # 사용자가 직접 호출해서 사용하는 것이 아니라 다른 것이 함수를 불러내서 사용하는 것을 콜백함수라 한다. \n",
    "print(\"--------------------------------------------\")\n",
    "#lambda 교재 166      lambda 는 일회용. \n",
    "\n",
    "result2= list(map(lambda x:x+2,data))  \n",
    "print(result2)\n"
   ]
  },
  {
   "cell_type": "code",
   "execution_count": 203,
   "metadata": {},
   "outputs": [
    {
     "name": "stdout",
     "output_type": "stream",
     "text": [
      "<zip object at 0x00000230EA900608>\n",
      "[('a1', 'b1', 'c1', 'd1'), ('a2', 'b2', 'c2', 'd2'), ('a3', 'b3', 'c3', 'd3')]\n",
      "응용---------------------------\n",
      "0 a1 b1 c1\n",
      "1 a2 b2 c2\n",
      "2 a3 b3 c3\n"
     ]
    }
   ],
   "source": [
    "#zip(iterable) : 동일한 갯수로 이루어진 자료형을 묶어주는 역할. 출력은 튜플형식으로 한다.\n",
    "a= ['a1','a2','a3']\n",
    "b= ['b1','b2','b3']\n",
    "c= ('c1','c2','c3')\n",
    "d=('d1','d2','d3','d4')      #갯수가 맞지 않으면 남는거는 버리고 출력한다.\n",
    "print(zip(a,b))             # 주소값만 출력\n",
    "print(list(zip(a,b,c,d)))       # 실제값을 출력\n",
    "\n",
    "\n",
    "print(\"응용---------------------------\")\n",
    "for num,(a,b,c) in enumerate(zip(a,b,c)):\n",
    "    print(num,a,b,c)\n"
   ]
  },
  {
   "cell_type": "markdown",
   "metadata": {},
   "source": [
    "#### 5/12 복습"
   ]
  },
  {
   "cell_type": "code",
   "execution_count": 224,
   "metadata": {},
   "outputs": [
    {
     "name": "stdout",
     "output_type": "stream",
     "text": [
      "[(0, '사과'), (1, '바나나'), (2, '포도'), (3, '복숭아'), (4, '자두')]\n",
      "-----------------------\n",
      "0 사과\n",
      "1 바나나\n",
      "2 포도\n",
      "3 복숭아\n",
      "4 자두\n"
     ]
    }
   ],
   "source": [
    "\n",
    "test=enumerate(['사과','바나나','포도','복숭아','자두'])\n",
    "\n",
    "a=list(test)\n",
    "print(a)\n",
    "print(\"-----------------------\")\n",
    "for i,j in a:\n",
    "    print(i,j)"
   ]
  },
  {
   "cell_type": "code",
   "execution_count": 234,
   "metadata": {},
   "outputs": [
    {
     "name": "stdout",
     "output_type": "stream",
     "text": [
      "[('사과', '사과2', '사과3', '사과4', '사과5'), ('바나나', '바나나2', '바나나3', '바나나4', '바나나5'), ('포도', '포도2', '포도3', '포도4', '포도5'), ('복숭아', '복숭아2', '복숭아3', '복숭아4', '복숭아5'), ('자두', '자두2', '자두3', '자두4', '자두5')]\n",
      "\n",
      " <enumerate object at 0x00000230EA7DBD68>\n",
      "(0, ('사과', '사과2', '사과3', '사과4', '사과5')) ['사과', '바나나', '포도', '복숭아', '자두'] ['사과2', '바나나2', '포도2', '복숭아2', '자두2'] ['사과3', '바나나3', '포도3', '복숭아3', '자두3'] ['사과4', '바나나4', '포도4', '복숭아4', '자두4'] ['사과5', '바나나5', '포도5', '복숭아5', '자두5']\n",
      "(1, ('바나나', '바나나2', '바나나3', '바나나4', '바나나5')) ['사과', '바나나', '포도', '복숭아', '자두'] ['사과2', '바나나2', '포도2', '복숭아2', '자두2'] ['사과3', '바나나3', '포도3', '복숭아3', '자두3'] ['사과4', '바나나4', '포도4', '복숭아4', '자두4'] ['사과5', '바나나5', '포도5', '복숭아5', '자두5']\n",
      "(2, ('포도', '포도2', '포도3', '포도4', '포도5')) ['사과', '바나나', '포도', '복숭아', '자두'] ['사과2', '바나나2', '포도2', '복숭아2', '자두2'] ['사과3', '바나나3', '포도3', '복숭아3', '자두3'] ['사과4', '바나나4', '포도4', '복숭아4', '자두4'] ['사과5', '바나나5', '포도5', '복숭아5', '자두5']\n",
      "(3, ('복숭아', '복숭아2', '복숭아3', '복숭아4', '복숭아5')) ['사과', '바나나', '포도', '복숭아', '자두'] ['사과2', '바나나2', '포도2', '복숭아2', '자두2'] ['사과3', '바나나3', '포도3', '복숭아3', '자두3'] ['사과4', '바나나4', '포도4', '복숭아4', '자두4'] ['사과5', '바나나5', '포도5', '복숭아5', '자두5']\n",
      "(4, ('자두', '자두2', '자두3', '자두4', '자두5')) ['사과', '바나나', '포도', '복숭아', '자두'] ['사과2', '바나나2', '포도2', '복숭아2', '자두2'] ['사과3', '바나나3', '포도3', '복숭아3', '자두3'] ['사과4', '바나나4', '포도4', '복숭아4', '자두4'] ['사과5', '바나나5', '포도5', '복숭아5', '자두5']\n"
     ]
    }
   ],
   "source": [
    "a=['사과','바나나','포도','복숭아','자두']\n",
    "b=['사과2','바나나2','포도2','복숭아2','자두2']\n",
    "c=['사과3','바나나3','포도3','복숭아3','자두3']\n",
    "d=['사과4','바나나4','포도4','복숭아4','자두4']\n",
    "e=['사과5','바나나5','포도5','복숭아5','자두5']\n",
    "test2=list(zip(a,b,c,d,e))\n",
    "test3=enumerate(zip(a,b,c,d,e))\n",
    "print(test2)\n",
    "print('\\n',test3)\n",
    "for i in test3:\n",
    "    print(i,a,b,c,d,e)"
   ]
  },
  {
   "cell_type": "markdown",
   "metadata": {},
   "source": [
    "### 외장함수(5/13)\n",
    "     + pip,conda를 이용해서 설치한 후 \n",
    "     + import라는 명령어로 호출하여 사용"
   ]
  },
  {
   "cell_type": "code",
   "execution_count": 5,
   "metadata": {},
   "outputs": [
    {
     "name": "stdout",
     "output_type": "stream",
     "text": [
      "5\n"
     ]
    }
   ],
   "source": [
    "# pip list  -> cmd 에서 실행해야함  \n",
    "# 주피터에서 실행하려면 !pip list로 실행\n",
    "#  !pip list\n",
    "\n",
    "import math \n",
    "dir(math)     # math함수에 대한 정보출력    dir()은 해당 함수에 대한 정보를 보여주는 함수이다. \n",
    "a=math.sqrt(25)\n",
    "print(int(a))"
   ]
  },
  {
   "cell_type": "code",
   "execution_count": 35,
   "metadata": {},
   "outputs": [
    {
     "name": "stdout",
     "output_type": "stream",
     "text": [
      "--------------------------------\n",
      "<class 'datetime.date'> 2020-05-13\n",
      "오늘은 2020 년 5 월 13 일 입니다\n",
      "<class 'datetime.datetime'> 2020-05-13 10:39:09.390044\n",
      "-2 days, 0:00:00\n",
      "2020-05-11\n",
      "13 days, 8:00:00\n",
      "2020-05-26 \n",
      " 2020-05-26 18:39:09.390044\n",
      "--------------------------------------------\n",
      "<class 'datetime.date'>\n",
      "<class 'str'>\n",
      "<class 'str'> 2020-05-13 10:39:09\n",
      "<class 'datetime.datetime'> 2020-05-13 10:35:20\n"
     ]
    }
   ],
   "source": [
    "# 날짜형 함수\n",
    "print(\"--------------------------------\")\n",
    "import datetime\n",
    "dir(datetime)\n",
    "#오늘날짜 알아내는 방법\n",
    "today=datetime.date.today()\n",
    "print(type(today),today)\n",
    "print(\"오늘은\",today.year,\"년\",today.month,\"월\",today.day,\"일 입니다\")\n",
    "\n",
    "#현재시간 알아내는 방법\n",
    "c=datetime.datetime.today()\n",
    "print(type(c),c)\n",
    "\n",
    "\n",
    "#날짜와 시간 연산 방법\n",
    "var1= datetime.timedelta(days=-2)\n",
    "print(var1)\n",
    "print(today+var1)\n",
    "\n",
    "var1= datetime.timedelta(days=13,hours=8)\n",
    "print(var1)\n",
    "print(today+var1,'\\n',c+var1)\n",
    "\n",
    "print(\"--------------------------------------------\")\n",
    "# 날짜형식\n",
    "print(type(today))\n",
    "today.strftime(\"%m/%d/%Y\")     # %m =month, %d=day. %Y= year    %M=minute\n",
    "\n",
    "# 날짜 형식의 변환 : \n",
    "# strftime() : 날짜를 문자형 형식으로 바꿔준다. \n",
    "print(type(today.strftime(\"%m/%d/%Y\")))\n",
    "strd=c.strftime('%Y-%m-%d %H:%M:%S')\n",
    "print(type(strd),strd)\n",
    "\n",
    "# strptime() : 문자를 날짜형 형식으로 바꿔준다\n",
    "strdate=\"2020-05-13 10:35:20\"\n",
    "dstr=datetime.datetime.strptime(strdate,'%Y-%m-%d %H:%M:%S')\n",
    "print(type(dstr),dstr)"
   ]
  },
  {
   "cell_type": "markdown",
   "metadata": {},
   "source": [
    "### 명령행 인자(Command Line Argument)\n",
    "     - (파이참과 cmd 에서 하기!)"
   ]
  },
  {
   "cell_type": "code",
   "execution_count": 41,
   "metadata": {},
   "outputs": [
    {
     "name": "stdout",
     "output_type": "stream",
     "text": [
      "['C:\\\\Users\\\\acorn\\\\mywork\\\\pythonwork\\\\basic', 'C:\\\\Users\\\\acorn\\\\Anaconda3\\\\python37.zip', 'C:\\\\Users\\\\acorn\\\\Anaconda3\\\\DLLs', 'C:\\\\Users\\\\acorn\\\\Anaconda3\\\\lib', 'C:\\\\Users\\\\acorn\\\\Anaconda3', '', 'C:\\\\Users\\\\acorn\\\\Anaconda3\\\\lib\\\\site-packages', 'C:\\\\Users\\\\acorn\\\\Anaconda3\\\\lib\\\\site-packages\\\\win32', 'C:\\\\Users\\\\acorn\\\\Anaconda3\\\\lib\\\\site-packages\\\\win32\\\\lib', 'C:\\\\Users\\\\acorn\\\\Anaconda3\\\\lib\\\\site-packages\\\\Pythonwin', 'C:\\\\Users\\\\acorn\\\\Anaconda3\\\\lib\\\\site-packages\\\\IPython\\\\extensions', 'C:\\\\Users\\\\acorn\\\\.ipython']\n",
      "win32\n",
      "3.7.6 (default, Jan  8 2020, 20:23:39) [MSC v.1916 64 bit (AMD64)]\n",
      "C:\\Users\\acorn\\mywork\\pythonwork\\basic\n",
      "0\n"
     ]
    }
   ],
   "source": [
    "import sys\n",
    "print(sys.path)\n",
    "print(sys.platform) # 플랫폼(윈도우,리눅스)을 알려줌\n",
    "print(sys.version)   # 파이썬 버전\n",
    "# sys.exit()    프로그램을 완전히 종료시킬 때 사용하는 함수\n",
    "\n",
    "\n",
    "import os\n",
    "print(os.getcwd())        # 경로정보\n",
    "print(os.system(\"dir\"))   # dir은 윈도우 언어인데  'os' 를 해줌으로써 파이썬에서 dir 사용 -\n"
   ]
  },
  {
   "cell_type": "markdown",
   "metadata": {},
   "source": [
    "### 파일처리함수\n",
    "    - data persistance\n",
    "    - 기존엔 키보드로 입력을 받았던 것을 파일로 입력받겠다.\n",
    "    - 기존엔 모니터로 출려을 했던 것을 파일로 출력받겠다.\n",
    "    - 즉, 불러오기와 저장하기 같은 느낌으로!\n",
    "    \n",
    "    + open(파일명(경로포함),모드)   : 파일을 로드()하는 함수.  로드:보조기억장치에 있는 것을 주기억장치(메모리)에 올려주는 것 \n",
    "         - 모드 : r(읽기용, 수정불가), w(쓰기용,기존내용지우고 덮어쓰기), a(추가,기존내용에 추가), \n",
    "                  rb(이진수로 읽기, 이진수이기 때문에 사람이 읽지 못한다. 대신 시스템이 빨리 처리가능),wb(이진수),ab(이진수)\n",
    "    + close() : (파일을 언로드)    언로드: 메모리에서 제거\n",
    "    + 읽어올 때 : readline()  : 한 줄(한 행)씩 읽어오기,  readlines() : 한줄씩 리스트에 담아서 전체 데이터를한거번에 ,  \n",
    "                  read()  :전체 데이터를 한거번에 하나의 문자열로 저장.\n",
    "    + 저장할 때 : write()\n",
    "    -------------------------------------------------------------------------------------------\n",
    "    \n",
    "      1) 순차처리방식: ex) 카세트 테이프처럼 내가 듣고싶은노래를 바로 들을 수 있는게 아니라 빨기감기를 하거나 그냥 순서대로 들어야함.\n",
    "                           그래서 데이터가 순차처리방식이면 수정이나 삭제가 귀찮음.\n",
    "      \n",
    "      2) 원칙적으로는 순차처리방식이지만 임의로 접근할 수 있는 함수 제공 : seek(), tell()"
   ]
  },
  {
   "cell_type": "code",
   "execution_count": 50,
   "metadata": {},
   "outputs": [
    {
     "name": "stdout",
     "output_type": "stream",
     "text": [
      "<_io.TextIOWrapper name='C:\\\\Users\\\\acorn\\\\mywork\\\\pythonwork\\\\filetest.txt' mode='r' encoding='cp949'>\n",
      "___________________________________\n",
      "<_io.TextIOWrapper name='..\\\\filetest.txt' mode='r' encoding='cp949'>\n",
      "abcdefg\n",
      "\n",
      "hijklmn\n",
      "\n"
     ]
    }
   ],
   "source": [
    "f=open(\"C:\\\\Users\\\\acorn\\\\mywork\\\\pythonwork\\\\filetest.txt\",'r')\n",
    "print(f)\n",
    "print(\"___________________________________\")\n",
    "\n",
    "g=open(\"..\\\\filetest.txt\",'r')   # ..를 이용해서 경로 최소화\n",
    "print(g)\n",
    "print(g.readline())    # 메모장 인코딩이  utf가 아니라  ANSI로 되어있어야 읽어올수 있다.\n",
    "print(g.readline())\n",
    "# 원래는 \\하나만 있지만 \\하나만 있으면 특수문자로 인식해서 이것을 무효화해주기 위해 앞에 \\를 하나 더 써서 \\를 두개 사용한다.\n"
   ]
  },
  {
   "cell_type": "code",
   "execution_count": 53,
   "metadata": {},
   "outputs": [
    {
     "name": "stdout",
     "output_type": "stream",
     "text": [
      "abcdefg\n",
      "\n",
      "hijklmn\n",
      "\n",
      "opqrstr\n",
      "\n",
      "\n",
      "\n",
      "가나다라\n",
      "\n",
      "마바사아\n",
      "\n",
      "자차카타\n",
      "---------------------------------------\n",
      "<class 'str'>\n"
     ]
    }
   ],
   "source": [
    "g=open(\"..\\\\filetest.txt\",'r')\n",
    "\n",
    "while True:           # while True 대신 while 1 이런식으로 숫자를 써도된다.\n",
    "    line = g.readline()     # 먼저 한줄 읽어온 후\n",
    "    \n",
    "    if not line:       # line에 읽어온 값이 없으면  break        # if line== False 라고 쓰면 계속 무한반복이 된다.\n",
    "                                                                 # line이 문자형이기 때문에 bool형인  False라 고 쓰면 인식못함\n",
    "                                                                 # if line == \" \"  : 이렇게 빈공간으로 해도 괜찮다.\n",
    "        break \n",
    "    \n",
    "    print(line)        # line에 읽어온 값이 있으면  line 을 출력. else 써도되고 안써도된다.\n",
    "\n",
    "    \n",
    "g.close()\n",
    "\n",
    "print(\"---------------------------------------\")\n",
    "print(type(line))   # line 은 bool형이 아니라 문자형"
   ]
  },
  {
   "cell_type": "code",
   "execution_count": 58,
   "metadata": {},
   "outputs": [
    {
     "name": "stdout",
     "output_type": "stream",
     "text": [
      "abcdefg\n",
      "\n",
      "hijklmn\n",
      "\n",
      "opqrstr\n",
      "\n",
      "\n",
      "\n",
      "가나다라\n",
      "\n",
      "마바사아\n",
      "\n",
      "자차카타\n",
      "----------------------------\n",
      "['abcdefg\\n', 'hijklmn\\n', 'opqrstr\\n', '\\n', '가나다라\\n', '마바사아\\n', '자차카타']\n",
      "<class 'list'>\n"
     ]
    }
   ],
   "source": [
    "#readlines()\n",
    "g=open(\"..\\\\filetest.txt\",'r')\n",
    "lines =g.readlines()\n",
    "\n",
    "\n",
    "for i in lines:\n",
    "    print(i)\n",
    "\n",
    "g.close()\n",
    "print(\"----------------------------\")\n",
    "print(lines)\n",
    "print(type(lines))"
   ]
  },
  {
   "cell_type": "code",
   "execution_count": 71,
   "metadata": {},
   "outputs": [
    {
     "name": "stdout",
     "output_type": "stream",
     "text": [
      "################################\n",
      "abcdefg\n",
      "hijklmn\n",
      "opqrstr\n",
      "\n",
      "가나다라\n",
      "마바사아\n",
      "자차카타\n",
      "<class 'str'>\n",
      "-------------------------\n",
      "39\n",
      "1\n",
      "--------------------------\n",
      "['abcdefg', 'hijklmn', 'opqrstr', '', '가나다라', '마바사아', '자차카타']\n",
      "0 : abcdefg\n",
      "1 : hijklmn\n",
      "2 : opqrstr\n",
      "3 : \n",
      "4 : 가나다라\n",
      "5 : 마바사아\n",
      "6 : 자차카타\n",
      "---------------------\n",
      "0 : abcdefg\n",
      "1 : hijklmn\n",
      "2 : opqrstr\n",
      "3 : \n",
      "4 : 가나다라\n",
      "5 : 마바사아\n",
      "6 : 자차카타\n"
     ]
    }
   ],
   "source": [
    "# read()    # 문자열로 가져온다. \n",
    "g=open(\"..\\\\filetest.txt\",'r')\n",
    "data=g.read()\n",
    "\n",
    "g.close()\n",
    "\n",
    "\n",
    "\n",
    "\n",
    "print(\"################################\")\n",
    "print(data)\n",
    "print(type(data))  \n",
    "print(\"-------------------------\")\n",
    "a=len(data)\n",
    "print(a)\n",
    "print(data.count('a'))\n",
    "print(\"--------------------------\")\n",
    "\n",
    "#split\n",
    "data2=data.split(\"\\n\")\n",
    "print(data2)\n",
    "data2[0]\n",
    "\n",
    "\n",
    "\n",
    "#line numering\n",
    "count =0\n",
    "for line in data2:\n",
    "    print(count,\":\",line)\n",
    "    count +=1\n",
    "print(\"---------------------\")\n",
    "# line numbering 을 enumerate  이용해서 한것!\n",
    "for count, line in enumerate(data2):\n",
    "    print(count,\":\",line)\n",
    "    "
   ]
  },
  {
   "cell_type": "code",
   "execution_count": 76,
   "metadata": {},
   "outputs": [
    {
     "name": "stdout",
     "output_type": "stream",
     "text": [
      "<_io.TextIOWrapper name='..\\\\filetest2.txt' mode='w' encoding='cp949'>\n"
     ]
    }
   ],
   "source": [
    "f = open(\"..\\\\filetest2.txt\",'w')   # w는 저장할 목적. 그러므로 파일이 없으면 자기가 알아서 만든다.\n",
    "print(f)\n",
    "\n",
    "f.write(\"이름: 홍길동\")\n",
    "f.write(\"전화: 010-111-1111\")\n",
    "f.write(\"주소: 서울시 강남구\\n\")\n",
    "\n",
    "f.write(\"이름: 임꺽정\")\n",
    "f.write(\"전화: 010-111-1234\")\n",
    "f.write('주소: 서울시\\n')\n",
    "f.close()\n"
   ]
  },
  {
   "cell_type": "code",
   "execution_count": 77,
   "metadata": {},
   "outputs": [],
   "source": [
    "f = open(\"..\\\\filetest2.txt\",'a')    # 'a'라고 써야 추가가 된다. 'w'면 기존 데이터가 삭제되고 현재 데이터가 들어간다.\n",
    "\n",
    "f.write(\"이름: 유비\")\n",
    "f.write(\"전화: 010-11133-1111\")\n",
    "f.write(\"주소: 서울시 강서구\\n\")\n",
    "\n",
    "f.close()"
   ]
  },
  {
   "cell_type": "code",
   "execution_count": 91,
   "metadata": {},
   "outputs": [
    {
     "name": "stdout",
     "output_type": "stream",
     "text": [
      "<_io.TextIOWrapper name='.\\\\data\\\\filetest3.txt' mode='w' encoding='cp949'>\n"
     ]
    }
   ],
   "source": [
    "# csv형식으로 저장       csv란: ,로 구분해놓는것\n",
    "\n",
    "nums=[10,20,30,40,50,60,70,80,90]\n",
    "count=len(nums)\n",
    "\n",
    "# f= open(\"C:\\\\Users\\\\acorn\\\\mywork\\\\pythonwork\\\\basic\\\\data\\\\filetest3.txt\",'w')      #확장자를 csv로 하는 것이 좋다.\n",
    "# f=open(\"data\\\\filetest3.txt\",'w')\n",
    "f=open('.\\\\data\\\\filetest3.txt','w')\n",
    "print(f)\n",
    "\n",
    "for i in range(count):\n",
    "    if i<count-1:\n",
    "        f.write(str(nums[i])+\",\")\n",
    "    else :\n",
    "        f.write(str(nums[i]))\n",
    "\n",
    "f.close()"
   ]
  },
  {
   "cell_type": "code",
   "execution_count": 94,
   "metadata": {},
   "outputs": [],
   "source": [
    "# with문       with를 쓰면 close를 쓰지 않아도된다.    교재 176쪽\n",
    "\n",
    "\n",
    "\n",
    "with open('.\\\\data\\\\filetest3.txt','w') as f:\n",
    "    for i in range(count):\n",
    "        if i<count-1:\n",
    "            f.write(str(nums[i])+\",\")\n",
    "        else :\n",
    "            f.write(str(nums[i]))\n",
    "            "
   ]
  },
  {
   "cell_type": "markdown",
   "metadata": {},
   "source": [
    "##### 파일임의 접근: seek(), tell()\n",
    "     - tell(): 파일포인터, 파일의 위치접근\n",
    "     - seek(a,b)   :   b-> 기준위치(파일의 시작위치)    a=0이 디폴트값    a=1 이면 파일의 현재위치  a=2 파일의 끝 위치\n",
    "                       \n",
    "     "
   ]
  },
  {
   "cell_type": "code",
   "execution_count": 105,
   "metadata": {},
   "outputs": [
    {
     "name": "stdout",
     "output_type": "stream",
     "text": [
      "파일포인터:  0\n",
      "abcdefg\n",
      "hijklmn\n",
      "opqrstr\n",
      "\n",
      "가나다라\n",
      "마바사아\n",
      "자차카타\n",
      "----------------------------\n",
      "파일포인터:  57\n",
      "파일포인터:  0\n",
      "ijklmn\n",
      "\n"
     ]
    }
   ],
   "source": [
    "with open(\"..\\\\filetest.txt\",'r') as f:\n",
    "    print(\"파일포인터: \",f.tell())  \n",
    "    for i in f:\n",
    "        print(i,end='')\n",
    "    print(\"\\n----------------------------\")    \n",
    "    \n",
    "    print(\"파일포인터: \",f.tell())  \n",
    "    \n",
    "    f.seek(0,0)                          # 파일포인터를 0,0으로 옮김\n",
    "    print(\"파일포인터: \",f.tell())       # 그래서 위치접근이 0으로 바뀐다.\n",
    "    \n",
    "    f.seek(10,0)                         # 10번째는 i \n",
    "    print(f.readline())      "
   ]
  },
  {
   "cell_type": "markdown",
   "metadata": {},
   "source": [
    "##### 동시에 여러 개의 파일을 불러오는 방법"
   ]
  },
  {
   "cell_type": "code",
   "execution_count": 112,
   "metadata": {},
   "outputs": [
    {
     "name": "stdout",
     "output_type": "stream",
     "text": [
      "['1-변수와 자료형.ipynb', '2. 제어문.ipynb', '3.  함수.ipynb']\n"
     ]
    }
   ],
   "source": [
    "import glob\n",
    "# files= glob.glob(\"*\")        # 파일과 폴더 다 불러오기 (리스트형식)\n",
    "# files=glob.glob(\"*.ipynb\")  # ipynb 파일만 가져오기\n",
    "files=glob.glob(\"*.*\")        # 전체 파일 다 불러오기 \n",
    "print(files)"
   ]
  },
  {
   "cell_type": "markdown",
   "metadata": {},
   "source": [
    "## 재귀함수(recursive function)\n",
    "     - 자기가 자기를 호출해서 사용"
   ]
  },
  {
   "cell_type": "code",
   "execution_count": 120,
   "metadata": {},
   "outputs": [
    {
     "name": "stdout",
     "output_type": "stream",
     "text": [
      "7\n",
      "6\n",
      "5\n",
      "4\n",
      "3\n",
      "2\n",
      "1\n",
      "완료\n"
     ]
    }
   ],
   "source": [
    "def countDown(n):\n",
    "    if n==0:\n",
    "        print(\"완료\")\n",
    "        return\n",
    "    else:\n",
    "        print(n)\n",
    "########################################\n",
    "for i in range(7,-1,-1):\n",
    "    countDown(i)\n",
    "    "
   ]
  },
  {
   "cell_type": "code",
   "execution_count": 121,
   "metadata": {},
   "outputs": [
    {
     "name": "stdout",
     "output_type": "stream",
     "text": [
      "7\n",
      "6\n",
      "5\n",
      "4\n",
      "3\n",
      "2\n",
      "1\n",
      "완료\n"
     ]
    }
   ],
   "source": [
    "#위에 것과 같은 결과(위: 반복문, 지금:재귀함수)\n",
    "\n",
    "def countDown(n):\n",
    "    if n==0:\n",
    "        print(\"완료\")\n",
    "        return\n",
    "    else:\n",
    "        print(n)\n",
    "        countDown(n-1)             # 자기가 자기자신을 호출하는 중\n",
    "########################################\n",
    "countDown(7)"
   ]
  },
  {
   "cell_type": "code",
   "execution_count": null,
   "metadata": {},
   "outputs": [],
   "source": []
  },
  {
   "cell_type": "code",
   "execution_count": null,
   "metadata": {},
   "outputs": [],
   "source": []
  },
  {
   "cell_type": "code",
   "execution_count": null,
   "metadata": {},
   "outputs": [],
   "source": []
  },
  {
   "cell_type": "code",
   "execution_count": null,
   "metadata": {},
   "outputs": [],
   "source": []
  },
  {
   "cell_type": "code",
   "execution_count": null,
   "metadata": {},
   "outputs": [],
   "source": []
  },
  {
   "cell_type": "code",
   "execution_count": null,
   "metadata": {},
   "outputs": [],
   "source": []
  },
  {
   "cell_type": "code",
   "execution_count": null,
   "metadata": {},
   "outputs": [],
   "source": []
  }
 ],
 "metadata": {
  "kernelspec": {
   "display_name": "Python 3",
   "language": "python",
   "name": "python3"
  },
  "language_info": {
   "codemirror_mode": {
    "name": "ipython",
    "version": 3
   },
   "file_extension": ".py",
   "mimetype": "text/x-python",
   "name": "python",
   "nbconvert_exporter": "python",
   "pygments_lexer": "ipython3",
   "version": "3.7.6"
  }
 },
 "nbformat": 4,
 "nbformat_minor": 4
}
