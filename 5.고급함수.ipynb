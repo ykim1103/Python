{
 "cells": [
  {
   "cell_type": "markdown",
   "metadata": {},
   "source": [
    "### 5.18(월)\n",
    "## <고급함수>\n",
    "\n",
    "### 변수의 생존범위\n",
    "     - global\n",
    "     - nonlocal  : 중첩된 함수에서 global 을 사용하고 싶을 때 global 을 쓰는 것이 아니라 nonlocal사용"
   ]
  },
  {
   "cell_type": "code",
   "execution_count": 16,
   "metadata": {},
   "outputs": [
    {
     "name": "stdout",
     "output_type": "stream",
     "text": [
      "100\n",
      "kbs1 함수내부:  1\n",
      "--------------------------------------------------------\n",
      "100\n",
      "kbs2 함수내부:  2\n",
      "kbs1 함수내부:  1\n"
     ]
    }
   ],
   "source": [
    "a=100\n",
    "def kbs1():\n",
    "    a=1\n",
    "    def kbs2():\n",
    "        a = 2\n",
    "        print(\"kbs2 함수내부: \",a)\n",
    "    print(\"kbs1 함수내부: \",a)\n",
    "#########################################################\n",
    "print(a)                # 전역함수 100\n",
    "kbs1()                  # kbs2()는 호출불가\n",
    "\n",
    "# kbs2() -> 이 호출을 아예 kbs1() 안에서 해야한다. #즉\n",
    "\n",
    "print(\"--------------------------------------------------------\")\n",
    "a=100\n",
    "def kbs1():\n",
    "    a=1\n",
    "    def kbs2():\n",
    "        a = 2\n",
    "        print(\"kbs2 함수내부: \",a)\n",
    "    kbs2()               # kbs2 는 kbs1 내부에 있는 함수이기 때문에 호출도 kbs1()안에서 해야한다.\n",
    "    print(\"kbs1 함수내부: \",a)\n",
    "\n",
    "    \n",
    "print(a)\n",
    "kbs1()"
   ]
  },
  {
   "cell_type": "code",
   "execution_count": 23,
   "metadata": {},
   "outputs": [
    {
     "name": "stdout",
     "output_type": "stream",
     "text": [
      "100\n",
      "kbs2 함수내부:  100\n",
      "kbs1 함수내부:  1\n",
      "2\n"
     ]
    }
   ],
   "source": [
    "a=100\n",
    "def kbs1():\n",
    "    a=1\n",
    "    def kbs2():\n",
    "        # a = 2\n",
    "        #nonlocal a      # a=100이 아니라 a=1을 가져다 쓰겠다. global 은 아니고 자기보댜 범위가 큰 함수의 변수를 쓰기위함\n",
    "        #global a        # global a 일 경우 print(a)를 하면 100이 아니라 2라는 값이 나온다.    \n",
    "        print(\"kbs2 함수내부: \",a)\n",
    "        \n",
    "        a = 2\n",
    "    kbs2()               \n",
    "    print(\"kbs1 함수내부: \",a)\n",
    "\n",
    "    \n",
    "print(a)\n",
    "kbs1()\n",
    "print(a)                     "
   ]
  },
  {
   "cell_type": "markdown",
   "metadata": {},
   "source": [
    "### Closer\n",
    "     - 함수 밖에서 임의의 함수 안에 선언된 지역변수를 계속 참조할 수 있게 하는 방법\n",
    "     _ 특별한 문법이나 키워드를 사용한 것이 아니라 하나의 방법이다."
   ]
  },
  {
   "cell_type": "code",
   "execution_count": 33,
   "metadata": {},
   "outputs": [
    {
     "name": "stdout",
     "output_type": "stream",
     "text": [
      "1\n",
      "1\n",
      "1\n",
      "----------------------------------------------------\n",
      "1\n",
      "2\n",
      "3\n"
     ]
    }
   ],
   "source": [
    "def out():                      # 여기서는 out()으로 계속 뽑아내도 1이 누적되지 않고 계속 초기화가 된다.\n",
    "    count =0                    # 계속해서 다시 count =0으로 초기화 된 후 실행되기 때문에 누적하면 1이다. 다시 count=0 다시 누적 1 \n",
    "    \n",
    "    def inn():\n",
    "        nonlocal count\n",
    "        \n",
    "        count += 1\n",
    "        print(count)\n",
    "    inn()\n",
    "#################################\n",
    "out()\n",
    "out()\n",
    "out()\n",
    "\n",
    "print(\"----------------------------------------------------\")\n",
    "\n",
    "\n",
    "count=0    # 전역변수 방법사용\n",
    "\n",
    "\n",
    "def out():\n",
    "    count =0\n",
    "    \n",
    "    def inn():\n",
    "        #onlocal count\n",
    "        global count\n",
    "        count += 1\n",
    "        print(count)\n",
    "    inn()\n",
    "    \n",
    "######################################################\n",
    "out()           # count를 계속 누적시킴. 그래서 전역변수  count=0을 가져와야하기 때문에 global count오 가져와야한다. \n",
    "out()\n",
    "out()"
   ]
  },
  {
   "cell_type": "code",
   "execution_count": 31,
   "metadata": {},
   "outputs": [
    {
     "name": "stdout",
     "output_type": "stream",
     "text": [
      "1\n",
      "2\n",
      "3\n"
     ]
    }
   ],
   "source": [
    "# 전역변수를 사용하지 않고 지역변수만으로  closer이용한것\n",
    "def out():\n",
    "    count =0\n",
    "    \n",
    "    def inn():\n",
    "        nonlocal count\n",
    "        \n",
    "        count += 1\n",
    "        print(count)\n",
    "    inn()\n",
    "    \n",
    "    return inn                 # return을 이용해 값을 반환시키고 그 반환한 값에 계속 누적시키면 된다. \n",
    "#################################################\n",
    "a= out()     # 함수의 객체생성이라는 개념으로 생각하자    # return inn r값을 a라는 변수에 out을 담아두고 그 담아둔 것을 이용해서\n",
    "a()                                                       # 계속 누적시킨다.\n",
    "a()    "
   ]
  },
  {
   "cell_type": "code",
   "execution_count": 44,
   "metadata": {},
   "outputs": [
    {
     "name": "stdout",
     "output_type": "stream",
     "text": [
      "2500.0\n",
      "14000.0\n"
     ]
    }
   ],
   "source": [
    "def outer(tax):\n",
    "    def inner(su,dan):\n",
    "        amount = su*dan*tax\n",
    "        return amount \n",
    "    \n",
    "    \n",
    "    return inner      # 다시 리턴해주는게 closer 문법\n",
    "\n",
    "###########################################################\n",
    "tax_rate=outer(0.1)    #outter의 return 값은 inner 이기 때문에 \n",
    "books=tax_rate(5,5000)       #tax_rate()는 inner\n",
    "print(books)\n",
    "\n",
    "usb=tax_rate(7,20000)\n",
    "print(usb)\n",
    "\n",
    "print(\"-------------------------\")\n",
    "tax_rate2=outer(0.05 )\n",
    "\n"
   ]
  },
  {
   "cell_type": "markdown",
   "metadata": {},
   "source": [
    "## 람다함수(익명함수, 무명함수)"
   ]
  },
  {
   "cell_type": "code",
   "execution_count": 53,
   "metadata": {},
   "outputs": [
    {
     "name": "stdout",
     "output_type": "stream",
     "text": [
      "30\n"
     ]
    }
   ],
   "source": [
    "def hap(x,y):\n",
    "    return x+y\n",
    "###################################\n",
    "result=hap(10,20)\n",
    "print(result)\n"
   ]
  },
  {
   "cell_type": "code",
   "execution_count": 56,
   "metadata": {},
   "outputs": [
    {
     "name": "stdout",
     "output_type": "stream",
     "text": [
      "22\n",
      "50\n",
      "125\n"
     ]
    }
   ],
   "source": [
    "lambda  x,y : x+y      # lambda 매개변수  :  코드식\n",
    "\n",
    "print((lambda  x,y : x+y)(10,12))     # 실행\n",
    "\n",
    "a=(lambda  x,y : x+y)\n",
    "print(a(20,30))\n",
    "\n",
    "b=(lambda  x,y=25 : x+y)\n",
    "print(b(100))"
   ]
  },
  {
   "cell_type": "code",
   "execution_count": 64,
   "metadata": {},
   "outputs": [
    {
     "name": "stdout",
     "output_type": "stream",
     "text": [
      "1 (2, 3, 4, 5) {'m': 6, 'n': 7, 'p': 8}\n",
      "---------------------------------------------------\n",
      "1 (2, 3, 4, 5) {'m': 6, 'n': 7, 'p': 8}\n"
     ]
    }
   ],
   "source": [
    "def lambda_test(a, *b, **c):\n",
    "    print(a,b,c)\n",
    "\n",
    "lambda_test(1,2,3,4,5,m=6,n=7,p=8)    \n",
    "print(\"---------------------------------------------------\")\n",
    "\n",
    "(lambda a, *b,**c : print(a,b,c))(1,2,3,4,5,m=6,n=7,p=8)"
   ]
  },
  {
   "cell_type": "code",
   "execution_count": 80,
   "metadata": {},
   "outputs": [
    {
     "name": "stdout",
     "output_type": "stream",
     "text": [
      "[1, 4, 3, 16, 5]\n",
      "---------------------------------------------------\n",
      "[1, 4, 3, 16, 5]\n",
      "------------------------------------------------------\n"
     ]
    }
   ],
   "source": [
    "data=[1,2,3,4,5]\n",
    "def lam_test(x):\n",
    "    if x %2==0:\n",
    "        return x**2\n",
    "    else:\n",
    "        return x\n",
    "\n",
    "result=[]    \n",
    "for i in data:\n",
    "    result.append(lam_test(i))\n",
    "print(result)    \n",
    "    \n",
    "\n",
    "print(\"---------------------------------------------------\")\n",
    "\n",
    "\n",
    "print(list(map(lambda x : x**2 if x%2==0 else x , data)))\n",
    "\n",
    "print(\"------------------------------------------------------\")\n",
    "\n",
    "\n",
    "\n",
    "\n"
   ]
  },
  {
   "cell_type": "markdown",
   "metadata": {},
   "source": [
    "## 함수 장식자(decorator)\n",
    "      - 일종의 함수 감싸기(wrapping)를 해주는 디자인패턴\n",
    "      - 메타프로그래밍 기법\n",
    "      - @classmethond, @staticmethod, @abstract, ......................"
   ]
  },
  {
   "cell_type": "code",
   "execution_count": 95,
   "metadata": {},
   "outputs": [
    {
     "name": "stdout",
     "output_type": "stream",
     "text": [
      "<function make1.<locals>.<lambda> at 0x000001908FBEF3A8>\n",
      "안녕 반가워 홍길동\n",
      "------------------------------------\n",
      "안녕 반가워 홍길동\n"
     ]
    }
   ],
   "source": [
    "def make2(fn):\n",
    "    return lambda: \"안녕 \" + fn()\n",
    "\n",
    "def make1(fn):\n",
    "    return lambda: \"반가워 \" + fn()    #  lambda자체도 일종의 함수이기 때문에 return할 때 결과값이 아니라 주소값이 나온다.  \n",
    "\n",
    "def hello():\n",
    "    return \"홍길동\"\n",
    "\n",
    "\n",
    "print(make1(hello))    \n",
    "\n",
    "h1=make1(hello)\n",
    "h2=make2(h1)\n",
    "print(h2())\n",
    "print(\"------------------------------------\")\n",
    "m1=make2(make1(hello))     \n",
    "print(m1())\n"
   ]
  },
  {
   "cell_type": "code",
   "execution_count": 98,
   "metadata": {},
   "outputs": [
    {
     "name": "stdout",
     "output_type": "stream",
     "text": [
      "안녕 반가워 임꺽정\n"
     ]
    }
   ],
   "source": [
    "@make2                      # 복잡하게 함수안에 함수를 호출하지 않고 @를 이용한다.\n",
    "@make1                      # make2(make1(hello2))라고 하면 복잡하므로 위에 @를 달아주고 바로 hello2()로 호출해준다.             \n",
    "def hello2():\n",
    "    return \"임꺽정\"\n",
    "########################################\n",
    "print(hello2())\n"
   ]
  },
  {
   "cell_type": "code",
   "execution_count": 106,
   "metadata": {},
   "outputs": [],
   "source": [
    "def outer(fn):\n",
    "    def inner (n1,n2):\n",
    "        print(\"결과는 {} 입니다\".format(fn(n1,n2)))    \n",
    "        \n",
    "    return inner    \n",
    "\n",
    "\n",
    "def func(n1,n2):\n",
    "    return n1+n2\n",
    "\n"
   ]
  },
  {
   "cell_type": "code",
   "execution_count": 107,
   "metadata": {},
   "outputs": [
    {
     "name": "stdout",
     "output_type": "stream",
     "text": [
      "결과는 13 입니다\n"
     ]
    }
   ],
   "source": [
    "result=outer(func)     # outer의 returnd은 inner이므로 result는 inner에 관한 것이 들어 있다. \n",
    "result(10,3)"
   ]
  },
  {
   "cell_type": "code",
   "execution_count": 109,
   "metadata": {},
   "outputs": [
    {
     "name": "stdout",
     "output_type": "stream",
     "text": [
      "결과는 13 입니다\n"
     ]
    }
   ],
   "source": [
    "def outer(fn):\n",
    "    def inner (n1,n2):\n",
    "        print(\"결과는 {} 입니다\".format(fn(n1,n2)))    \n",
    "        \n",
    "    return inner    \n",
    "\n",
    "@outer                        #@outer를 해줌으로써 func()에 바로 매개변수를 써서 호출가능하다. \n",
    "def func(n1,n2):\n",
    "    return n1+n2\n",
    "\n",
    "\n",
    "func(10,3)"
   ]
  },
  {
   "cell_type": "code",
   "execution_count": null,
   "metadata": {},
   "outputs": [],
   "source": []
  },
  {
   "cell_type": "code",
   "execution_count": null,
   "metadata": {},
   "outputs": [],
   "source": []
  }
 ],
 "metadata": {
  "kernelspec": {
   "display_name": "Python 3",
   "language": "python",
   "name": "python3"
  },
  "language_info": {
   "codemirror_mode": {
    "name": "ipython",
    "version": 3
   },
   "file_extension": ".py",
   "mimetype": "text/x-python",
   "name": "python",
   "nbconvert_exporter": "python",
   "pygments_lexer": "ipython3",
   "version": "3.7.6"
  }
 },
 "nbformat": 4,
 "nbformat_minor": 4
}
