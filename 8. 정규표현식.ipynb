{
 "cells": [
  {
   "cell_type": "markdown",
   "metadata": {},
   "source": [
    "### 5.20(수) \n",
    "\n",
    "\n",
    "## 정규표현식(Regular Expression)\n",
    "#### p.291\n",
    "        - https://docs.python.org/3/library/re.html?highlight=regular   \n",
    "        - 모듈로 제공되는 기능이기 때문에  import 해서 불러와야한다.\n",
    "        - 반복\n",
    "             * : 0번 이상 반복할 때 사용\n",
    "                 ex> ab*  -> a, ab, abbbb,abbbbbb,abbbbbbbb ...등등을 찾을 때\n",
    "                     lo*l    ->  ll ,lol, loooool,loooooooooool,(ll도 가능 o가 0번 반복되기 때문에)\n",
    "             \n",
    "             + : 1회 이상(반드시 한번은 나와야함)\n",
    "                 ex> ab+   ->  b,abb,abbbbb,abbbbbb (a는 불가 왜냐하면 적어도 b가 1번은 반복되어야하기 )\n",
    "                     \n",
    "             ? : 0회 또는 1회만\n",
    "                 ex> ab?   -> a, ab\n",
    "                 \n",
    "            {n} : n회 반복\n",
    "                a{3}bc  ->  aaabc\n",
    "                \n",
    "           {m,n}: m회부터 n회까지 반복\n",
    "                a{2,4}bc  ->    aabc,aaabc,aaaabc\n",
    "           \n",
    "           \n",
    "         - 매칭 메타문자\n",
    "              . : 줄바꿈 문자를 제외한 모든 문자와 매치 \n",
    "                   a.b  ->  aab,abb,acb,a3b,a'b 다 되는데 줄바꿈 문자는 올 수 없다.\n",
    "            \n",
    "              ^ : 문자열의 시작과 매치\n",
    "                    ^a : 반드시 시작문자는  a\n",
    "                   \n",
    "              $ : 문자열의 마지막과 매치\n",
    "                   a$  : 반드시 마지막문자는  a\n",
    "             \n",
    "             [] : 문자 집합 중 한 문자를 매칭   \n",
    "                   [abc]xyz  -> axyz,bxyz,cxyz      \n",
    "                   [a-z]bc  ->abc,bbc,cbc,dbc,gbc,jbc,tbc ..............\n",
    "                   [a-zA-Z]hello     -> ahello,bhello,zhello,Ahello,Bhello,Zhello\n",
    "                   [0-9]hello      -> 0hello, 1hello, 2hello, 5hello, 7hello....................\n",
    "                   [a | b]hello     ->ahello, bhello       (|는 소문자 엘 이 아니라 or 기호임)\n",
    "                   a[.]b            -> a.b          (.은 모든 문자가 올수 있지만 .을 []로 묶었기 때문에 .만 와야한다.)\n",
    "                   [a^bc]hello       -> ahello, chello   ([]안에 있는 ^는 제외표시 ^뒤에 있는 문자를 제외 시켜야 한다.)\n",
    "            \n",
    "            \n",
    "         - 특수문자\n",
    "             \\d  : 숫자를 대신한다.\n",
    "                   ab\\dc  :ab3c,ab0c,ab1c,ab5c....................................\n",
    "                   ab\\d\\dc   : ab34c.ab56c.ab03c,ab41c...............................\n",
    "                   ab[0-9][0-9]c    =  ab\\d\\dc\n",
    "             \n",
    "             \\D  : 숫자가 아닌 문자와 매치\n",
    "             \\s  : 공백과 매치\n",
    "             \\S  : 공백이 아닌 모든 문자\n",
    "             \\w  : 숫자 또는 문자와 매치\n",
    "             \\W  : 숫자 또는 문자가 아닌 것(?,>... 등등)들과 매치\n",
    "             \n",
    "         \n",
    "         - 파이썬에서 제공하는 객체 또는 메서드\n",
    "             compile()     : 정규표현식 객체 생성\n",
    "             match()       : 문자열의 처음부터 정규식과 매치되는지 조사\n",
    "             search()      : 문자열 전체를 검색하여 정규식과 매치되는지 조사\n",
    "             split()       : 문자열 분리\n",
    "             findall()     : 정규식과 매치되는 모든 문자열을 리스트로 리턴\n",
    "             finditer()    : 정규식과 매치되는 모든 문자열을 반복 가능한 객체로 리턴\n",
    "             sub()         : 변경, 교체\n",
    "                            \n",
    "                   \n",
    "                   "
   ]
  },
  {
   "cell_type": "code",
   "execution_count": 114,
   "metadata": {},
   "outputs": [
    {
     "name": "stdout",
     "output_type": "stream",
     "text": [
      "<re.Match object; span=(0, 9), match='3 dfe ?f+'>\n",
      "<re.Match object; span=(0, 11), match='0 dpdg 아무문자'>\n",
      "None\n",
      "False\n",
      "True\n",
      "--------------------------------\n",
      "<re.Match object; span=(0, 4), match='35th'>\n",
      "True\n",
      "----------------------------------------\n",
      "False\n",
      "True\n",
      "---------------------------------------------------\n",
      "True\n",
      "True\n",
      "True\n"
     ]
    }
   ],
   "source": [
    "import re\n",
    "\n",
    "# 객체 생성\n",
    "p=re.compile(\"[0-9] [a-z]+ .+\")\n",
    "print(p.match('3 dfe ?f+'))\n",
    "print(p.match('0 dpdg 아무문자'))\n",
    "print(p.match(\"dddfs\"))    # 조건에 맞지 않게 입력하면 None이 출력되었다.\n",
    "\n",
    "print(bool(p.match(\"dddfs\")))                       \n",
    "print(bool(p.match('0 dpdg 아무문자')))\n",
    "\n",
    "\n",
    "print(\"--------------------------------\")\n",
    "\n",
    "\n",
    "# 함수 사용\n",
    "a= re.match(\"\\d*th\" , '35th')\n",
    "a1= bool(re.match(\"\\d*th\" , '35th'))\n",
    "print(a)\n",
    "print(a1)\n",
    "\n",
    "print(\"----------------------------------------\")\n",
    "\n",
    "\n",
    "print(bool(re.match(\"\\d*th\" , '  35th')))              # match는 ' 35th'로 찾기 때문에 false로 나온다.  공백까지 생각하기 때문이다.\n",
    "                                                       # match는 처음부터 끝까지 동일해야 찾을 수 있다. \n",
    "\n",
    "print(bool(re.search(\"\\d*th\" , ' 35th')))             # search는 '35tj'라는 문자에만 집중하기 때문에 true로 나온다.\n",
    "                                                      # search는 찾고 싶은 해당 문자가 있으면 전체적으로 일치하지 않더라도 찾는다.\n",
    "    \n",
    "print(\"---------------------------------------------------\")\n",
    "\n",
    "\n",
    "# \"010-222-3333\"\n",
    "\n",
    "c=re.compile(\"[0-9]{2}.\\d*.\\d*\")\n",
    "print(bool(c.match(\"010-222-3333\")))\n",
    "\n",
    "print(bool(re.match(\"\\d\\d\\d[-]\\d*.\\d*\",'010-123-1234')))  \n",
    "print(bool(re.search(\"\\d\\d\\d[-]\\d*.\\d*\",'010-123-1234')))  \n"
   ]
  },
  {
   "cell_type": "code",
   "execution_count": 60,
   "metadata": {},
   "outputs": [
    {
     "name": "stdout",
     "output_type": "stream",
     "text": [
      "['life', 'is', 'too', 'short']\n",
      "<callable_iterator object at 0x000001A4D86E0E88>\n",
      "<re.Match object; span=(0, 4), match='life'>\n",
      "<re.Match object; span=(10, 12), match='is'>\n",
      "<re.Match object; span=(17, 20), match='too'>\n",
      "<re.Match object; span=(24, 29), match='short'>\n"
     ]
    }
   ],
   "source": [
    "p=re.compile(\"[a-z]+\")\n",
    "m=p.findall(\"life 3333 is 222 too 10 short\")\n",
    "print(m)\n",
    "\n",
    "\n",
    "m1=p.finditer(\"life 3333 is 222 too 10 short\")\n",
    "print(m1)\n",
    "\n",
    "for i in m1:\n",
    "    print(i)"
   ]
  },
  {
   "cell_type": "code",
   "execution_count": 75,
   "metadata": {},
   "outputs": [
    {
     "name": "stdout",
     "output_type": "stream",
     "text": [
      "['1', '2', '3', '4', '5', '5', '5', '6']\n",
      "['1234', '555', '6']\n",
      "['12', '34', '55']\n",
      "['123', '555']\n"
     ]
    }
   ],
   "source": [
    "data= \"1234 abc가나다ABC_555_6\"\n",
    "print(re.findall(\"[0-9]\",data))      # data를 ([0-9])숫자만 하나씩 뽑아오기\n",
    "print(re.findall(\"[0-9]+\",data))     # data를 ([0-9]+) 숫자를 여러개씩 한 묶음으로\n",
    "print(re.findall(\"[0-9]{2}\",data))\n",
    "print(re.findall(\"[0-9]{2,3}\",data))  #2자리나 3자리를 찾는거지만 2자리나 3자리수가 없다. 그래서 최대의 3자리만 출력. 1234여도 앞에서\n",
    "                                      # 부터 짤라서 123만 출력된다. "
   ]
  },
  {
   "cell_type": "code",
   "execution_count": 104,
   "metadata": {},
   "outputs": [
    {
     "name": "stdout",
     "output_type": "stream",
     "text": [
      "['abc', 'mbc']\n",
      "['1']\n",
      "['234 abc가나다ABC_555_6 mbc air air']\n",
      "['abc', 'air', 'air']\n",
      "['air']\n",
      "['r']\n"
     ]
    }
   ],
   "source": [
    "data= \"1234 abc가나다ABC_555_6 mbc air air\"\n",
    "\n",
    "\n",
    "print(re.findall(\".bc\",data))         \n",
    "print(re.findall(\"^1+\",data))    \n",
    "print(re.findall(\"[^1]+\",data))  \n",
    "print(re.findall(\"a..\",data))\n",
    "print(re.findall(\"air$\",data))\n",
    "print(re.findall(\"r$\",data))\n"
   ]
  },
  {
   "cell_type": "code",
   "execution_count": 119,
   "metadata": {},
   "outputs": [
    {
     "name": "stdout",
     "output_type": "stream",
     "text": [
      "['80', '10', '50']\n",
      "['100']\n",
      "['tom', ', j', 'ame', ', o', 'sca']\n"
     ]
    }
   ],
   "source": [
    "data=\"tom 80, james 100, oscar 50\"\n",
    "\n",
    "print(re.findall(\"\\d\\d\",data))\n",
    "print(re.findall(\"\\d{3}\",data))\n",
    "print(re.findall(\"\\D{3}\",data))"
   ]
  },
  {
   "cell_type": "code",
   "execution_count": 137,
   "metadata": {},
   "outputs": [
    {
     "name": "stdout",
     "output_type": "stream",
     "text": [
      "['mbc', 'kbs sbs:ytn tvn']\n"
     ]
    },
    {
     "data": {
      "text/plain": [
       "['mbc', 'kbs', 'sbs']"
      ]
     },
     "execution_count": 137,
     "metadata": {},
     "output_type": "execute_result"
    }
   ],
   "source": [
    "##split()\n",
    "\n",
    "\n",
    "tv = \"mbc,kbs sbs:ytn tvn\"\n",
    "\n",
    "print(tv.split(','))      #그냥 split은 짜르는게 한 개의 문자를 기준으로 해서 복잡하다.\n",
    "\n",
    "re.split(\"\\W\",tv)         # re.split을 이용한다. \\W은 글자문자와 숫자가 아닌 것들을 뜻한다.\n",
    "re.split(\",|:| \",tv)\n",
    "\n",
    "\n",
    "\n",
    "a1=re.split(\"\\W\",tv)\n",
    "a1[0:3]"
   ]
  },
  {
   "cell_type": "code",
   "execution_count": 150,
   "metadata": {},
   "outputs": [
    {
     "name": "stdout",
     "output_type": "stream",
     "text": [
      "4321 abc가나다ABC_4321_4321 mbc air air dddddd\n",
      "mbc,kbs,sbs,ytn,tvn\n"
     ]
    }
   ],
   "source": [
    "data1= \"1234 abc가나다ABC_555_6 mbc air air dddddd\"\n",
    "aa=re.sub(\"\\d+\",\"4321\",data1)\n",
    "print(aa)\n",
    "\n",
    "\n",
    "\n",
    "tv = \"mbc,kbs sbs:ytn tvn\" #의 구분 기호를 ','로 통일'\n",
    "a1=re.sub(\"\\W\",\",\",tv)\n",
    "print(a1)"
   ]
  },
  {
   "cell_type": "code",
   "execution_count": 167,
   "metadata": {},
   "outputs": [
    {
     "name": "stdout",
     "output_type": "stream",
     "text": [
      "<re.Match object; span=(0, 6), match='python'>\n",
      "python\n",
      "0 6\n",
      "(0, 6)\n",
      "<re.Match object; span=(0, 6), match='python'>\n",
      "python\n",
      "0 6\n",
      "(0, 6)\n",
      "<re.Match object; span=(0, 6), match='python'>\n",
      "python\n",
      "0 6\n",
      "(0, 6)\n",
      "-------------------------------------------\n",
      "<re.Match object; span=(7, 13), match='python'>\n",
      "python\n",
      "7 13\n",
      "(7, 13)\n",
      "None\n"
     ]
    },
    {
     "ename": "AttributeError",
     "evalue": "'NoneType' object has no attribute 'start'",
     "output_type": "error",
     "traceback": [
      "\u001b[1;31m---------------------------------------------------------------------------\u001b[0m",
      "\u001b[1;31mAttributeError\u001b[0m                            Traceback (most recent call last)",
      "\u001b[1;32m<ipython-input-167-f25381204faf>\u001b[0m in \u001b[0;36m<module>\u001b[1;34m\u001b[0m\n\u001b[0;32m     38\u001b[0m \u001b[0mprint\u001b[0m\u001b[1;33m(\u001b[0m\u001b[0mm2\u001b[0m\u001b[1;33m)\u001b[0m\u001b[1;33m\u001b[0m\u001b[1;33m\u001b[0m\u001b[0m\n\u001b[0;32m     39\u001b[0m \u001b[1;31m#print(m2.group())\u001b[0m\u001b[1;33m\u001b[0m\u001b[1;33m\u001b[0m\u001b[1;33m\u001b[0m\u001b[0m\n\u001b[1;32m---> 40\u001b[1;33m \u001b[0mprint\u001b[0m\u001b[1;33m(\u001b[0m\u001b[0mm2\u001b[0m\u001b[1;33m.\u001b[0m\u001b[0mstart\u001b[0m\u001b[1;33m(\u001b[0m\u001b[1;33m)\u001b[0m\u001b[1;33m,\u001b[0m\u001b[0mm2\u001b[0m\u001b[1;33m.\u001b[0m\u001b[0mend\u001b[0m\u001b[1;33m(\u001b[0m\u001b[1;33m)\u001b[0m\u001b[1;33m)\u001b[0m\u001b[1;33m\u001b[0m\u001b[1;33m\u001b[0m\u001b[0m\n\u001b[0m\u001b[0;32m     41\u001b[0m \u001b[0mprint\u001b[0m\u001b[1;33m(\u001b[0m\u001b[0mm2\u001b[0m\u001b[1;33m.\u001b[0m\u001b[0mspan\u001b[0m\u001b[1;33m(\u001b[0m\u001b[1;33m)\u001b[0m\u001b[1;33m)\u001b[0m\u001b[1;33m\u001b[0m\u001b[1;33m\u001b[0m\u001b[0m\n",
      "\u001b[1;31mAttributeError\u001b[0m: 'NoneType' object has no attribute 'start'"
     ]
    }
   ],
   "source": [
    "## match 객체의 메서드\n",
    "\n",
    "p=re.compile(\"[a-z]+\")\n",
    "m=p.match(\"python 123 !?\")\n",
    "print(m)\n",
    "print(m.group())\n",
    "print(m.start(),m.end())\n",
    "print(m.span())\n",
    "\n",
    "\n",
    "p=re.compile(\"[a-z]+\")\n",
    "m=p.match(\"python 123 !? python\")           # 중복되어 있어도 처음에 있는 거만 출력한다. 다 뽑아내고 싶으면 findall을 쓰자\n",
    "print(m)\n",
    "print(m.group())\n",
    "print(m.start(),m.end())\n",
    "print(m.span())\n",
    "\n",
    "\n",
    "p=re.compile(\"[a-z]+\")\n",
    "m=p.match(\"python 123 !? java\")        # 마찬가지로 제일 앞에 있는 문자인 python에 대한 것만 출력한다.\n",
    "print(m)\n",
    "print(m.group())\n",
    "print(m.start(),m.end())\n",
    "print(m.span())\n",
    "\n",
    "\n",
    "print(\"-------------------------------------------\")\n",
    "\n",
    "\n",
    "m1=p.search(\"123 !? python\")\n",
    "print(m1)\n",
    "print(m1.group())\n",
    "print(m1.start(),m1.end())\n",
    "print(m1.span())\n",
    "\n",
    "\n",
    "m2=p.match(\"123 !? python\")     #python이라는 문자열이 맨 앞에 있는 것이 아니라서 에러가 난다\n",
    "print(m2)\n",
    "print(m2.group())\n",
    "print(m2.start(),m2.end())\n",
    "print(m2.span())\n"
   ]
  },
  {
   "cell_type": "code",
   "execution_count": 176,
   "metadata": {},
   "outputs": [
    {
     "name": "stdout",
     "output_type": "stream",
     "text": [
      "<re.Match object; span=(0, 3), match='a+b'>\n",
      "None\n",
      "------------------------------------------\n",
      "<re.Match object; span=(0, 3), match='a+b'>\n",
      "<re.Match object; span=(0, 3), match='a\\nb'>\n",
      "---------------------------------------------\n",
      "<re.Match object; span=(0, 1), match='P'>\n"
     ]
    }
   ],
   "source": [
    "#컴파일 옵션: S(or DOTALL),    I(or IGNORECASE),     M(or MULTILINE)\n",
    "\n",
    "p=re.compile(\"a.b\")   \n",
    "\n",
    "m1=p.match(\"a+b\")\n",
    "print(m1)\n",
    "\n",
    "m2=p.match(\"a\\nb\")            #줄바꿈 문자는 match를 시킬 수 없다.\n",
    "print(m2)\n",
    "\n",
    "print(\"------------------------------------------\")\n",
    "\n",
    "p=re.compile(\"a.b\",re.S)      #줄바꿈 문자는 match를 시킬 수 없다. re.S 를 이용해서 매칭시킴\n",
    "\n",
    "m1=p.match(\"a+b\")\n",
    "print(m1)\n",
    "\n",
    "m2=p.match(\"a\\nb\")                    \n",
    "print(m2)\n",
    "\n",
    "\n",
    "print(\"---------------------------------------------\")\n",
    "# I\n",
    "#p = re.compile(\"[a-z]\")\n",
    "p = re.compile(\"[a-zA-Z]\")\n",
    "\n",
    "p =re.compile(\"[a-z]\",re.I)      #re.I  대소문자무시하고 같은 문자로 찾아낸다.\n",
    "print(p.match(\"Python\"))\n",
    "\n",
    "\n"
   ]
  },
  {
   "cell_type": "code",
   "execution_count": 189,
   "metadata": {},
   "outputs": [
    {
     "name": "stdout",
     "output_type": "stream",
     "text": [
      "['python one', 'python two', 'Python three']\n"
     ]
    }
   ],
   "source": [
    "data=\"\"\"python one \n",
    "life is too short\n",
    "python two\n",
    "you need python\n",
    "Python three\"\"\"\n",
    "\n",
    "p=re.compile(\"^[p|P]ython\\s\\w+\",re.M)\n",
    "print(p.findall(data))\n"
   ]
  },
  {
   "cell_type": "code",
   "execution_count": 206,
   "metadata": {},
   "outputs": [
    {
     "name": "stdout",
     "output_type": "stream",
     "text": [
      "['abc1.html', 'abc2.html', 'abc3.html']\n"
     ]
    }
   ],
   "source": [
    "data=\"\"\"\n",
    "<a href=\"abc1.html\">abc1</a>\n",
    "<a href=\"abc2.html\">abc1</a>\n",
    "<a href=\"abc3.html\">abc1</a>\n",
    "\"\"\"\n",
    "\n",
    "\n",
    "\n",
    "\n",
    "#['abc1.html','abc2.html',abc.3html]\n",
    "c=re.findall(\"[a-c]{3}\\d\\W\\w{4}\",data)\n",
    "c=re.findall('href=\"(.+)\"',data)\n",
    "print(c)"
   ]
  },
  {
   "cell_type": "code",
   "execution_count": 152,
   "metadata": {},
   "outputs": [
    {
     "name": "stdout",
     "output_type": "stream",
     "text": [
      "<re.Match object; span=(0, 2), match='0!'>\n"
     ]
    }
   ],
   "source": [
    "p=re.compile(\"\\d.\")\n",
    "a= p.match('0!')\n",
    "print(a)"
   ]
  },
  {
   "cell_type": "code",
   "execution_count": 100,
   "metadata": {},
   "outputs": [
    {
     "name": "stdout",
     "output_type": "stream",
     "text": [
      "True\n",
      "True\n",
      "True\n"
     ]
    }
   ],
   "source": [
    "# \"010-222-3333\"\n",
    "\n",
    "c=re.compile(\"[0-9]{3}[-]\\d{3}.\\d{4}\")\n",
    "print(bool(c.match(\"010-222-3333\")))\n",
    "\n",
    "print(bool(re.match(\"\\d\\d\\d.\\d*.\\d*\",'010-123-1234')))  \n",
    "print(bool(re.search(\"\\d\\d\\d.\\d*.\\d*\",'010-123-1234')))  "
   ]
  }
 ],
 "metadata": {
  "kernelspec": {
   "display_name": "Python 3",
   "language": "python",
   "name": "python3"
  },
  "language_info": {
   "codemirror_mode": {
    "name": "ipython",
    "version": 3
   },
   "file_extension": ".py",
   "mimetype": "text/x-python",
   "name": "python",
   "nbconvert_exporter": "python",
   "pygments_lexer": "ipython3",
   "version": "3.7.6"
  }
 },
 "nbformat": 4,
 "nbformat_minor": 4
}
