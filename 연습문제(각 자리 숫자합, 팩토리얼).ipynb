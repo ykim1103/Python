{
 "cells": [
  {
   "cell_type": "markdown",
   "metadata": {},
   "source": [
    "# 연습문제"
   ]
  },
  {
   "cell_type": "markdown",
   "metadata": {},
   "source": [
    "### 각 자리 숫자합 구하기"
   ]
  },
  {
   "cell_type": "code",
   "execution_count": 1,
   "metadata": {},
   "outputs": [
    {
     "name": "stdout",
     "output_type": "stream",
     "text": [
      "정수입력: 34\n",
      "7\n",
      "정수입력: 0\n",
      "3\n",
      "정수를 입력하세요123\n",
      "6\n",
      "정수를 입력하세요0\n"
     ]
    }
   ],
   "source": [
    "while True:\n",
    "\n",
    "    num = input(\"정수입력: \")\n",
    "    sum = 0\n",
    "    if num == '0':\n",
    "        break\n",
    "    else:\n",
    "        for i in range(len(num)):\n",
    "            sum += int(num[i])\n",
    "    print(sum)\n",
    "num='123'\n",
    "print(len(num))\n",
    "\n",
    "while True:\n",
    "    num=input(\"정수를 입력하세요\")\n",
    "    sum=0\n",
    "    if num== '0':\n",
    "        break\n",
    "    else:\n",
    "        for i in range(len(num)):\n",
    "            sum += int(num[i])\n",
    "        print(sum)\n"
   ]
  },
  {
   "cell_type": "markdown",
   "metadata": {},
   "source": [
    "### 각 자리 숫자합 구하기(함수)"
   ]
  },
  {
   "cell_type": "code",
   "execution_count": 2,
   "metadata": {},
   "outputs": [
    {
     "name": "stdout",
     "output_type": "stream",
     "text": [
      "자리수의 합이 알고 싶은 숫자를 입력하시오: (종료하고 싶으면 0 입력)12345\n",
      "12345의 자리수의 합은 15입니다.\n",
      "자리수의 합이 알고 싶은 숫자를 입력하시오: (종료하고 싶으면 0 입력)4949\n",
      "4949의 자리수의 합은 26입니다.\n",
      "자리수의 합이 알고 싶은 숫자를 입력하시오: (종료하고 싶으면 0 입력)0\n",
      "종료합니다.\n"
     ]
    }
   ],
   "source": [
    "def sum_digit(num_len, num):\n",
    "    sum_num = 0\n",
    "    for i in range(num_len):\n",
    "        digit = num % 10\n",
    "        num = num // 10\n",
    "        sum_num += digit\n",
    "\n",
    "    return sum_num\n",
    "\n",
    "\n",
    "while True:\n",
    "    num = input('자리수의 합이 알고 싶은 숫자를 입력하시오: (종료하고 싶으면 0 입력)')\n",
    "    if num == '0':\n",
    "        print('종료합니다.')\n",
    "        break\n",
    "    num_len = len(num)\n",
    "    num = int(num)\n",
    "\n",
    "    print('%d의 자리수의 합은 %d입니다.' % (num, sum_digit(num_len, num)))\n"
   ]
  },
  {
   "cell_type": "markdown",
   "metadata": {},
   "source": [
    "### 입력받는 숫자의 평균을 구하는 함수"
   ]
  },
  {
   "cell_type": "code",
   "execution_count": 61,
   "metadata": {},
   "outputs": [
    {
     "name": "stdout",
     "output_type": "stream",
     "text": [
      "4.0\n"
     ]
    }
   ],
   "source": [
    "def avg(*num):\n",
    "    result=0\n",
    "    for i in num:\n",
    "        result += i\n",
    "    return result/len(num)\n",
    "\n",
    "a= avg(3,4,5)\n",
    "print(a)"
   ]
  },
  {
   "cell_type": "markdown",
   "metadata": {},
   "source": [
    "### 팩토리얼"
   ]
  },
  {
   "cell_type": "code",
   "execution_count": 42,
   "metadata": {},
   "outputs": [
    {
     "name": "stdout",
     "output_type": "stream",
     "text": [
      "숫자를 입력하세요10\n",
      "3628800\n"
     ]
    }
   ],
   "source": [
    "num= int(input(\"숫자를 입력하세요\"))\n",
    "i=0\n",
    "result=1\n",
    "\n",
    "while i<num:\n",
    "    i +=1\n",
    "    result *=i\n",
    "print(result)    \n",
    "      "
   ]
  },
  {
   "cell_type": "markdown",
   "metadata": {},
   "source": [
    "### while을 이용한 커피자판기"
   ]
  },
  {
   "cell_type": "code",
   "execution_count": 4,
   "metadata": {},
   "outputs": [
    {
     "name": "stdout",
     "output_type": "stream",
     "text": [
      "현재금액: 1000\n",
      "커피자판기 입니다\n",
      "한잔에 500원입니다\n",
      "커피가 나왔습니다\n",
      "거스름돈:  500 원\n",
      "현재금액: 200\n",
      "커피자판기 입니다\n",
      "한잔에 500원입니다\n",
      "금액이 부족합니다.\n",
      "남은 커피:  9\n"
     ]
    }
   ],
   "source": [
    "\n",
    "coffee=10\n",
    "while True:\n",
    "    \n",
    "    money=int(input(\"현재금액: \"))\n",
    "    print(\"커피자판기 입니다\")\n",
    "    print(\"한잔에 500원입니다\")\n",
    "    \n",
    "    if money>500:\n",
    "        returnmoney=money-500\n",
    "        print(\"커피가 나왔습니다\")\n",
    "        print(\"거스름돈: \",returnmoney,\"원\")\n",
    "        coffee -=1\n",
    "    elif money==500:\n",
    "        coffee -=1\n",
    "        print(\"커피가 나왔습니다\")\n",
    "    else:\n",
    "        print(\"금액이 부족합니다.\")\n",
    "        print(\"남은 커피: \",coffee)\n",
    "        break\n",
    "        \n",
    "    if coffee==0:\n",
    "        print(\"커피가 부족합니다\")\n",
    "        break\n",
    "    \n",
    "    "
   ]
  },
  {
   "cell_type": "code",
   "execution_count": 9,
   "metadata": {},
   "outputs": [
    {
     "name": "stdout",
     "output_type": "stream",
     "text": [
      "1\n",
      "2\n",
      "4\n",
      "5\n",
      "7\n",
      "8\n",
      "10\n"
     ]
    }
   ],
   "source": [
    "a=0\n",
    "while a<10:\n",
    "    a +=1\n",
    "    if a %3 ==0: \n",
    "        continue\n",
    "    print(a)"
   ]
  },
  {
   "cell_type": "code",
   "execution_count": 27,
   "metadata": {},
   "outputs": [
    {
     "name": "stdout",
     "output_type": "stream",
     "text": [
      "10,6 의 합은 16 입니다\n"
     ]
    },
    {
     "data": {
      "text/plain": [
       "16"
      ]
     },
     "execution_count": 27,
     "metadata": {},
     "output_type": "execute_result"
    }
   ],
   "source": [
    "def add(a,b):\n",
    "    result = a+b\n",
    "    print(\"%d,%d 의 합은 %d 입니다\" % (a,b,a+b))\n",
    "    return result\n",
    "    \n",
    "\n",
    "add(10,6)\n"
   ]
  },
  {
   "cell_type": "markdown",
   "metadata": {},
   "source": [
    "두개의 double변수를 이용해서 각각 갤런과 리터값을 저장하고 갤런값을 해당하는 리터값으로 바꿔보자.(1갤런은 3.7584리터이다)\n",
    "달의 중력은 지구 중력의 17% 정도이다. 달에서의 당신의 체중을 계산하는 프로그램을 작성하라.\n",
    "번개가 얼마나 먼 곳에서 발생했나? (번개 소리를 들은 사람이 번개가 치는 곳에서부터 몇 피트 정도 떨어져 있는가를 계산하라. 소리는 공기 중을 약 1,100 피트/초의 속도로 진행한다. - 번개를 본 시각과 천둥소리를 들은 시각 사이의 시간을 알면 거리를 계산할 수 있다. 여기서는 7.2초로 가정하자)\n",
    "동전 교환 프로그램\n",
    "================== 교환할 돈은 얼마입니까? 2763 (엔터키)\n",
    "결과: 오백원짜리 ===> 5개 백원짜리 ===> 2개 오십원짜리 ===> 1개 십원짜리 ===> 1개 나머지 바꾸지 못한 잔돈 ===> 3원"
   ]
  },
  {
   "cell_type": "code",
   "execution_count": 1,
   "metadata": {},
   "outputs": [
    {
     "name": "stdout",
     "output_type": "stream",
     "text": [
      "5\n",
      "3\n"
     ]
    }
   ],
   "source": [
    "\n",
    "\n",
    "a=1\n",
    "\n",
    "def test(): \n",
    "    global a\n",
    "    a=3\n",
    "    b=2\n",
    "    return a+b\n",
    "\n",
    "print(test())\n",
    "print(a)    \n",
    "    "
   ]
  },
  {
   "cell_type": "code",
   "execution_count": 63,
   "metadata": {},
   "outputs": [
    {
     "name": "stdout",
     "output_type": "stream",
     "text": [
      "[(0, '안'), (1, '녕'), (2, '하'), (3, '세'), (4, '요')]\n"
     ]
    }
   ],
   "source": [
    "a= enumerate('안녕하세요')\n",
    "print(list(a))"
   ]
  },
  {
   "cell_type": "markdown",
   "metadata": {},
   "source": [
    "e1 = Employee(1111, \"홍길동\", 1000000, [\"여행\", \"낚시\", \"운동\"])\n",
    "e1.display()\n",
    "\n",
    "결과:\n",
    "    사번 : 1111\n",
    "    이름 : 홍길동\n",
    "    급여 : 1000000\n",
    "    취미 : 여행, 낚시, 운동\n",
    "    \n",
    "e2 = Employee(1112, \"임꺽정\", 1200000, [\"자전거\", \"볼링\"])\n",
    "e3 = Employee(1113, \"신돌석\", 1000000, [\"독서\"])\n",
    "\n",
    "total = Employee.getCount()\n",
    "print(\"총 인원수 : \", total)\n",
    "\n",
    "e3.setSalary(2500000)\n",
    "e3.appendHobby([\"피아노\", \"드론\"])\n",
    "e3.display()\n",
    "\n",
    "결과:\n",
    "    사번 : 1113\n",
    "    이름 : 신돌석\n",
    "    급여 : 2500000\n",
    "    취미 : 독서, 피아노, 드론"
   ]
  },
  {
   "cell_type": "code",
   "execution_count": 3,
   "metadata": {},
   "outputs": [
    {
     "ename": "SyntaxError",
     "evalue": "invalid syntax (<ipython-input-3-729b6c088461>, line 4)",
     "output_type": "error",
     "traceback": [
      "\u001b[1;36m  File \u001b[1;32m\"<ipython-input-3-729b6c088461>\"\u001b[1;36m, line \u001b[1;32m4\u001b[0m\n\u001b[1;33m    결과:\u001b[0m\n\u001b[1;37m       ^\u001b[0m\n\u001b[1;31mSyntaxError\u001b[0m\u001b[1;31m:\u001b[0m invalid syntax\n"
     ]
    }
   ],
   "source": [
    "e1 = Employee(1111, \"홍길동\", 1000000, [\"여행\", \"낚시\", \"운동\"])\n",
    "e1.display()\n",
    "\n",
    "결과:\n",
    "    사번 : 1111\n",
    "    이름 : 홍길동\n",
    "    급여 : 1000000\n",
    "    취미 : 여행, 낚시, 운동\n",
    "    \n",
    "e2 = Employee(1112, \"임꺽정\", 1200000, [\"자전거\", \"볼링\"])\n",
    "e3 = Employee(1113, \"신돌석\", 1000000, [\"독서\"])\n",
    "\n",
    "total = Employee.getCount()\n",
    "print(\"총 인원수 : \", total)\n",
    "\n",
    "e3.setSalary(2500000)\n",
    "e3.appendHobby([\"피아노\", \"드론\"])\n",
    "e3.display()\n",
    "\n",
    "결과:\n",
    "    사번 : 1113\n",
    "    이름 : 신돌석\n",
    "    급여 : 2500000\n",
    "    취미 : 독서, 피아노, 드론"
   ]
  },
  {
   "cell_type": "code",
   "execution_count": 27,
   "metadata": {},
   "outputs": [
    {
     "ename": "IndentationError",
     "evalue": "expected an indented block (<ipython-input-27-ee2172aebfa8>, line 26)",
     "output_type": "error",
     "traceback": [
      "\u001b[1;36m  File \u001b[1;32m\"<ipython-input-27-ee2172aebfa8>\"\u001b[1;36m, line \u001b[1;32m26\u001b[0m\n\u001b[1;33m    a1.display(1,'홍길동','180만원',['독서','영화보기'])\u001b[0m\n\u001b[1;37m                                             ^\u001b[0m\n\u001b[1;31mIndentationError\u001b[0m\u001b[1;31m:\u001b[0m expected an indented block\n"
     ]
    }
   ],
   "source": [
    "class Employee:\n",
    "    num=0\n",
    "    name=\"\"\n",
    "    money=0\n",
    "    hobby=[]\n",
    "    \n",
    "    def __init(self,num,name,money,hobby):\n",
    "        self.num=num\n",
    "        self.name=name\n",
    "        self.money=money\n",
    "        self.hobby=hobby\n",
    "    \n",
    "    def show(self):\n",
    "        print(\"사번: \",self.num)\n",
    "        print(\"이름: \",self.name)\n",
    "        print(\"급여: \",self.money)\n",
    "        print(\"취미: \",self.hobby)\n",
    "        \n",
    "    def add_hobby(self):\n",
    "        \n",
    "\n",
    "\n",
    "        \n",
    "        \n",
    "a1=Employee()\n",
    "a1.display(1,'홍길동','180만원',['독서','영화보기'])\n",
    "a1.show()\n",
    "\n",
    "a2=Employee()\n",
    "a2.display(2,'임꺽정','200만원',['요리','낚시'])\n",
    "a2.show()"
   ]
  },
  {
   "cell_type": "code",
   "execution_count": 2,
   "metadata": {},
   "outputs": [
    {
     "ename": "TypeError",
     "evalue": "from_string() missing 1 required positional argument: 'string_params'",
     "output_type": "error",
     "traceback": [
      "\u001b[1;31m---------------------------------------------------------------------------\u001b[0m",
      "\u001b[1;31mTypeError\u001b[0m                                 Traceback (most recent call last)",
      "\u001b[1;32m<ipython-input-2-e93fc2135cf3>\u001b[0m in \u001b[0;36m<module>\u001b[1;34m\u001b[0m\n\u001b[0;32m     18\u001b[0m \u001b[1;33m\u001b[0m\u001b[0m\n\u001b[0;32m     19\u001b[0m \u001b[1;31m# 유저 생성 및 초기값 설정\u001b[0m\u001b[1;33m\u001b[0m\u001b[1;33m\u001b[0m\u001b[1;33m\u001b[0m\u001b[0m\n\u001b[1;32m---> 20\u001b[1;33m \u001b[0myounghoon\u001b[0m \u001b[1;33m=\u001b[0m \u001b[0mUser\u001b[0m\u001b[1;33m.\u001b[0m\u001b[0mfrom_string\u001b[0m\u001b[1;33m(\u001b[0m\u001b[1;34m\"강영훈,younghoon@codeit.kr,123456\"\u001b[0m\u001b[1;33m)\u001b[0m\u001b[1;33m\u001b[0m\u001b[1;33m\u001b[0m\u001b[0m\n\u001b[0m\u001b[0;32m     21\u001b[0m \u001b[0myoonsoo\u001b[0m \u001b[1;33m=\u001b[0m \u001b[0mUser\u001b[0m\u001b[1;33m.\u001b[0m\u001b[0mfrom_list\u001b[0m\u001b[1;33m(\u001b[0m\u001b[1;33m[\u001b[0m\u001b[1;34m\"이윤수\"\u001b[0m\u001b[1;33m,\u001b[0m \u001b[1;34m\"yoonsoo@codeit.kr\"\u001b[0m\u001b[1;33m,\u001b[0m \u001b[1;34m\"abcdef\"\u001b[0m\u001b[1;33m]\u001b[0m\u001b[1;33m)\u001b[0m\u001b[1;33m\u001b[0m\u001b[1;33m\u001b[0m\u001b[0m\n\u001b[0;32m     22\u001b[0m \u001b[1;33m\u001b[0m\u001b[0m\n",
      "\u001b[1;31mTypeError\u001b[0m: from_string() missing 1 required positional argument: 'string_params'"
     ]
    }
   ],
   "source": [
    "class User:\n",
    "    def __init__(self, name, email, password):\n",
    "        self.name = name\n",
    "        self.email = email\n",
    "        self.password = password\n",
    "\n",
    "    @classmethod\n",
    "    def from_string(cls, string_params):\n",
    "        # 코드를 쓰세요\n",
    "        cls.name = string_params.split(',')[0]\n",
    "        cls.email = string_params.split(',')[1]\n",
    "        cls.password = string_params.split(',')[2]\n",
    "\n",
    "    @classmethod\n",
    "    def from_list(cls, list_params):\n",
    "        # 코드를 쓰세요\n",
    "        pass\n",
    "\n",
    "# 유저 생성 및 초기값 설정\n",
    "younghoon = User.from_string(\"강영훈,younghoon@codeit.kr,123456\")\n",
    "yoonsoo = User.from_list([\"이윤수\", \"yoonsoo@codeit.kr\", \"abcdef\"])\n",
    "\n",
    "print(younghoon.name, younghoon.email, younghoon.password)\n",
    "print(yoonsoo.name, yoonsoo.email, yoonsoo.password)"
   ]
  },
  {
   "cell_type": "code",
   "execution_count": null,
   "metadata": {},
   "outputs": [],
   "source": [
    "class Volume:\n",
    "    vol = 0\n",
    "    def volumeUp(self, vol):\n",
    "        self.vol += vol\n",
    "        print(\"볼륨의 크기는 %d만큼 증가하여 현재 볼륨은 %d 입니다.\"% (vol, self.vol))\n",
    "        \n",
    "    def volumeDown(self, vol):\n",
    "        self.vol -= vol\n",
    "        print(\"볼륨의 크기는 %d만큼 감소하여 현재 볼륨은 %d 입니다.\"% (vol, self.vol))\n",
    "        \n",
    "############################################\n",
    "\n",
    "class TV(Volume):\n",
    "    def volumeUp(self, vol):\n",
    "        self.vol += vol\n",
    "        print(\"TV 볼륨의 크기는 %d만큼 증가하여 현재 볼륨은 %d 입니다.\"% (vol, self.vol))\n",
    "        \n",
    "    def volumeDown(self, vol):\n",
    "        self.vol -= vol\n",
    "        print(\"TV 볼륨의 크기는 %d만큼 감소하여 현재 볼륨은 %d 입니다.\"% (vol, self.vol))\n",
    "\n",
    "############################################\n",
    "\n",
    "class Radio(Volume):\n",
    "    def volumeUp(self, vol):\n",
    "        self.vol += vol\n",
    "        print(\"Radio 볼륨의 크기는 %d만큼 증가하여 현재 볼륨은 %d 입니다.\"% (vol, self.vol))\n",
    "        \n",
    "    def volumeDown(self, vol):\n",
    "        self.vol -= vol\n",
    "        print(\"Radio 볼륨의 크기는 %d만큼 감소하여 현재 볼륨은 %d 입니다.\"% (vol, self.vol))\n",
    "\n",
    "############################################\n",
    "\n",
    "class Speaker(Volume):\n",
    "    def volumeUp(self, vol):\n",
    "        self.vol += vol\n",
    "        print(\"Speaker 볼륨의 크기는 %d만큼 증가하여 현재 볼륨은 %d 입니다.\"% (vol, self.vol))\n",
    "        \n",
    "    def volumeDown(self, vol):\n",
    "        self.vol -= vol\n",
    "        print(\"Speaker 볼륨의 크기는 %d만큼 감소하여 현재 볼륨은 %d 입니다.\"% (vol, self.vol))\n",
    "\n",
    "#############################################"
   ]
  },
  {
   "cell_type": "markdown",
   "metadata": {},
   "source": [
    "위에 작성된 Volume, Tv, Radio, Speaker클래스를 기반으로 확장\n",
    "\n",
    "1. 부모클래스로 Power를 추가한다. : 다중 상속 구현\n",
    "    - powerOn(), powerOff()\n",
    "    \n",
    "2. 전원을 켰을때만 볼륨 조정을 할 수 있도록 한다.\n",
    "\n",
    "3. 볼륨 조정은 max값을 100으로 하고 min값을 0으로 한다.\n",
    "--------------------------------------------------------\n",
    "결과 예시:\n",
    "\n",
    "1. TV\n",
    "2. RADIO\n",
    "3. SPEAKER\n",
    "4. 종료\n",
    "메뉴 : 1(엔터)\n",
    "\n",
    "1. 전원 On\n",
    "2. 볼륨 조정\n",
    "3. 나가기\n",
    "메뉴 : 2(엔터)\n",
    "\n",
    "레벨 입력 : 10\n",
    "현재 TV의 볼륨은 ~~이다.\n",
    "...\n",
    "\"\"\""
   ]
  },
  {
   "cell_type": "code",
   "execution_count": 12,
   "metadata": {},
   "outputs": [
    {
     "name": "stdout",
     "output_type": "stream",
     "text": [
      "1. TV  2. RADIO  3. SPEAKER  4.종료\n",
      "원하는 기기 번호를 입력하세요1\n",
      "TV\n",
      "작업을 선택하겠습니다\n",
      "1. 전원On   2. 볼륨조정   3.나가기\n",
      "원하는 작업의 번호를 입력하세요4\n",
      "잘못된 숫자를 입력하셨습니다\n",
      "처음부터 다시 시작합니다\n",
      "원하는 기기 번호를 입력하세요4\n",
      "전원이 켜졌습니다\n"
     ]
    },
    {
     "data": {
      "text/plain": [
       "True"
      ]
     },
     "execution_count": 12,
     "metadata": {},
     "output_type": "execute_result"
    }
   ],
   "source": [
    "v_max=100\n",
    "v_min=0\n",
    "\n",
    "menu=\"1. 전원On   2. 볼륨조정   3.나가기\"\n",
    "\n",
    "\n",
    "class power:\n",
    "    def powerOn(self):\n",
    "        print(\"전원이 켜졌습니다\")\n",
    "        return True\n",
    "    def powerOff(self):\n",
    "        print(\"전원이 커졌습니다\")\n",
    "        return False\n",
    "    \n",
    "\n",
    "    \n",
    "    \n",
    "    \n",
    "    \n",
    "print(\"1. TV  2. RADIO  3. SPEAKER  4.종료\")\n",
    "while True:\n",
    "    button= input(\"원하는 기기 번호를 입력하세요\")\n",
    "    if button =='1':\n",
    "        print(\"TV\")\n",
    "    elif button =='2':\n",
    "        print(\"RADIO\")\n",
    "    elif button== '3':\n",
    "        print(\"SPEAKER\")\n",
    "    elif button == '4':\n",
    "        break\n",
    "    else:\n",
    "        print(\"잘못된 숫자를 입력하셨습니다\")\n",
    "\n",
    "    print(\"작업을 선택하겠습니다\")\n",
    "    print(menu)\n",
    "    work= input(\"원하는 작업의 번호를 입력하세요\")\n",
    "    if work =='1':\n",
    "        print(\"전원\")\n",
    "    elif work =='2':\n",
    "        print(\"볼륨\")\n",
    "    elif work =='3':\n",
    "        break\n",
    "    else:\n",
    "        print(\"잘못된 숫자를 입력하셨습니다\\n처음부터 다시 시작합니다\")\n",
    "        \n",
    "\n",
    "        \n",
    "        \n",
    "        \n",
    "a=power()\n",
    "a.powerOn()\n",
    "        "
   ]
  },
  {
   "cell_type": "code",
   "execution_count": null,
   "metadata": {},
   "outputs": [],
   "source": []
  },
  {
   "cell_type": "code",
   "execution_count": null,
   "metadata": {},
   "outputs": [],
   "source": []
  }
 ],
 "metadata": {
  "kernelspec": {
   "display_name": "Python 3",
   "language": "python",
   "name": "python3"
  }
 },
 "nbformat": 4,
 "nbformat_minor": 4
}
